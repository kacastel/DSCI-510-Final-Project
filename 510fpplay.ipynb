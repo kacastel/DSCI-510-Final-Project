{
 "cells": [
  {
   "cell_type": "code",
   "execution_count": 1,
   "metadata": {},
   "outputs": [],
   "source": [
    "import requests\n",
    "import pandas as pd\n",
    "\n",
    "# Importing HPI data and Vaccine data\n",
    "hpi_data = requests.get('https://api.healthyplacesindex.org/api/hpi?geography=tracts&year=2020&indicator=voting&format=json&key=f07f86d6-58b5-40e3-a17f-333b92ccc57d').json()\n",
    "vaccine_data = requests.get('https://data.sandiegocounty.gov/resource/nrkb-eanb.json').json()\n",
    "\n",
    "# hpi_data\n",
    "# vaccine_data\n",
    "\n",
    "# Converting data (python dictionary) to a pandas dataframe\n",
    "# Resetting titles (variables) the dataframe versions\n",
    "hpi_data = pd.DataFrame(hpi_data)\n",
    "vaccine_data = pd.DataFrame(vaccine_data)\n",
    "\n",
    "\n",
    "# hpi_data.head(1)\n",
    "# vaccine_data.head(5)\n",
    "# df_hpi_data"
   ]
  },
  {
   "cell_type": "code",
   "execution_count": 161,
   "metadata": {},
   "outputs": [
    {
     "data": {
      "text/html": [
       "<div>\n",
       "<style scoped>\n",
       "    .dataframe tbody tr th:only-of-type {\n",
       "        vertical-align: middle;\n",
       "    }\n",
       "\n",
       "    .dataframe tbody tr th {\n",
       "        vertical-align: top;\n",
       "    }\n",
       "\n",
       "    .dataframe thead th {\n",
       "        text-align: right;\n",
       "    }\n",
       "</style>\n",
       "<table border=\"1\" class=\"dataframe\">\n",
       "  <thead>\n",
       "    <tr style=\"text-align: right;\">\n",
       "      <th></th>\n",
       "      <th>the_geom</th>\n",
       "      <th>objectid</th>\n",
       "      <th>census_tract</th>\n",
       "      <th>count_vaccinated</th>\n",
       "      <th>gis_hpi_quartile_sd</th>\n",
       "      <th>doses_through</th>\n",
       "      <th>update_date</th>\n",
       "      <th>shape_length</th>\n",
       "      <th>shape_area</th>\n",
       "      <th>globalid</th>\n",
       "      <th>vaccination_percentage_all</th>\n",
       "      <th>censuspop_all</th>\n",
       "      <th>notes</th>\n",
       "      <th>censuspop_16plus</th>\n",
       "      <th>vaccination_percentage</th>\n",
       "      <th>censuspop_5plus</th>\n",
       "      <th>vaccination_percentage_5plus</th>\n",
       "      <th>censuspop_12plus</th>\n",
       "      <th>vaccination_percentage_12plus</th>\n",
       "    </tr>\n",
       "  </thead>\n",
       "  <tbody>\n",
       "    <tr>\n",
       "      <th>396</th>\n",
       "      <td>{'type': 'MultiPolygon', 'coordinates': [[[[-1...</td>\n",
       "      <td>51946</td>\n",
       "      <td>170.55</td>\n",
       "      <td>4403</td>\n",
       "      <td>4</td>\n",
       "      <td>2022-07-25T08:00:00.000Z</td>\n",
       "      <td>2022-07-27T08:00:00.000Z</td>\n",
       "      <td>7844.262960753492</td>\n",
       "      <td>2929824.80743924</td>\n",
       "      <td>{2A189B27-E03D-4353-B5A0-9EEE452C3AFD}</td>\n",
       "      <td>77.90162774</td>\n",
       "      <td>5652</td>\n",
       "      <td>NaN</td>\n",
       "      <td>NaN</td>\n",
       "      <td>NaN</td>\n",
       "      <td>NaN</td>\n",
       "      <td>NaN</td>\n",
       "      <td>NaN</td>\n",
       "      <td>NaN</td>\n",
       "    </tr>\n",
       "  </tbody>\n",
       "</table>\n",
       "</div>"
      ],
      "text/plain": [
       "                                              the_geom objectid census_tract  \\\n",
       "396  {'type': 'MultiPolygon', 'coordinates': [[[[-1...    51946       170.55   \n",
       "\n",
       "    count_vaccinated gis_hpi_quartile_sd             doses_through  \\\n",
       "396             4403                   4  2022-07-25T08:00:00.000Z   \n",
       "\n",
       "                  update_date       shape_length        shape_area  \\\n",
       "396  2022-07-27T08:00:00.000Z  7844.262960753492  2929824.80743924   \n",
       "\n",
       "                                   globalid vaccination_percentage_all  \\\n",
       "396  {2A189B27-E03D-4353-B5A0-9EEE452C3AFD}                77.90162774   \n",
       "\n",
       "    censuspop_all notes censuspop_16plus vaccination_percentage  \\\n",
       "396          5652   NaN              NaN                    NaN   \n",
       "\n",
       "    censuspop_5plus vaccination_percentage_5plus censuspop_12plus  \\\n",
       "396             NaN                          NaN              NaN   \n",
       "\n",
       "    vaccination_percentage_12plus  \n",
       "396                           NaN  "
      ]
     },
     "execution_count": 161,
     "metadata": {},
     "output_type": "execute_result"
    }
   ],
   "source": [
    "# filtered = vaccine_data[vaccine_data['objectid'] == '51876']\n",
    "# filtered = vaccine_data[vaccine_data['census_tract'] == '170.55']\n",
    "vaccine_data[vaccine_data['census_tract'] == '170.55']\n",
    "\n",
    "\n",
    "\n",
    "# filtered"
   ]
  },
  {
   "cell_type": "code",
   "execution_count": 90,
   "metadata": {},
   "outputs": [
    {
     "data": {
      "text/html": [
       "<div>\n",
       "<style scoped>\n",
       "    .dataframe tbody tr th:only-of-type {\n",
       "        vertical-align: middle;\n",
       "    }\n",
       "\n",
       "    .dataframe tbody tr th {\n",
       "        vertical-align: top;\n",
       "    }\n",
       "\n",
       "    .dataframe thead th {\n",
       "        text-align: right;\n",
       "    }\n",
       "</style>\n",
       "<table border=\"1\" class=\"dataframe\">\n",
       "  <thead>\n",
       "    <tr style=\"text-align: right;\">\n",
       "      <th></th>\n",
       "      <th>geoid</th>\n",
       "      <th>name</th>\n",
       "      <th>population</th>\n",
       "      <th>value</th>\n",
       "      <th>percentile</th>\n",
       "      <th>numerator</th>\n",
       "      <th>denominator</th>\n",
       "    </tr>\n",
       "  </thead>\n",
       "  <tbody>\n",
       "    <tr>\n",
       "      <th>0</th>\n",
       "      <td>06013370000</td>\n",
       "      <td>3700</td>\n",
       "      <td>2850</td>\n",
       "      <td>0.848177</td>\n",
       "      <td>0.726187</td>\n",
       "      <td>1805.769339</td>\n",
       "      <td>2129</td>\n",
       "    </tr>\n",
       "  </tbody>\n",
       "</table>\n",
       "</div>"
      ],
      "text/plain": [
       "         geoid  name  population     value  percentile    numerator  \\\n",
       "0  06013370000  3700        2850  0.848177    0.726187  1805.769339   \n",
       "\n",
       "   denominator  \n",
       "0         2129  "
      ]
     },
     "execution_count": 90,
     "metadata": {},
     "output_type": "execute_result"
    }
   ],
   "source": [
    "hpi_data.head(1)"
   ]
  },
  {
   "cell_type": "code",
   "execution_count": 2,
   "metadata": {},
   "outputs": [
    {
     "name": "stderr",
     "output_type": "stream",
     "text": [
      "C:\\Users\\krist\\AppData\\Local\\Temp\\ipykernel_596\\1041977483.py:17: SettingWithCopyWarning: \n",
      "A value is trying to be set on a copy of a slice from a DataFrame.\n",
      "Try using .loc[row_indexer,col_indexer] = value instead\n",
      "\n",
      "See the caveats in the documentation: https://pandas.pydata.org/pandas-docs/stable/user_guide/indexing.html#returning-a-view-versus-a-copy\n",
      "  san_diego_hpi['NAME'] = [x.split(',')[-0] for x in san_diego_hpi['NAME']]\n",
      "C:\\Users\\krist\\AppData\\Local\\Temp\\ipykernel_596\\1041977483.py:19: SettingWithCopyWarning: \n",
      "A value is trying to be set on a copy of a slice from a DataFrame.\n",
      "Try using .loc[row_indexer,col_indexer] = value instead\n",
      "\n",
      "See the caveats in the documentation: https://pandas.pydata.org/pandas-docs/stable/user_guide/indexing.html#returning-a-view-versus-a-copy\n",
      "  san_diego_hpi['NAME'] = [x.split('Tract ')[-1] for x in san_diego_hpi['NAME']]\n"
     ]
    },
    {
     "data": {
      "text/html": [
       "<div>\n",
       "<style scoped>\n",
       "    .dataframe tbody tr th:only-of-type {\n",
       "        vertical-align: middle;\n",
       "    }\n",
       "\n",
       "    .dataframe tbody tr th {\n",
       "        vertical-align: top;\n",
       "    }\n",
       "\n",
       "    .dataframe thead th {\n",
       "        text-align: right;\n",
       "    }\n",
       "</style>\n",
       "<table border=\"1\" class=\"dataframe\">\n",
       "  <thead>\n",
       "    <tr style=\"text-align: right;\">\n",
       "      <th></th>\n",
       "      <th>GEO_ID</th>\n",
       "      <th>NAME</th>\n",
       "      <th>county</th>\n",
       "      <th>pop</th>\n",
       "      <th>pctgqtract</th>\n",
       "      <th>UrbanType</th>\n",
       "      <th>LEB</th>\n",
       "      <th>LEB_pctile</th>\n",
       "      <th>hpi</th>\n",
       "      <th>hpi_pctile</th>\n",
       "      <th>...</th>\n",
       "      <th>latino_pct</th>\n",
       "      <th>white_pct</th>\n",
       "      <th>black_pct</th>\n",
       "      <th>asian_pct</th>\n",
       "      <th>multiple_pct</th>\n",
       "      <th>NativeAm_pct</th>\n",
       "      <th>PacificIsl_pct</th>\n",
       "      <th>other_pct</th>\n",
       "      <th>version</th>\n",
       "      <th>notes</th>\n",
       "    </tr>\n",
       "  </thead>\n",
       "  <tbody>\n",
       "    <tr>\n",
       "      <th>5658</th>\n",
       "      <td>6073000100</td>\n",
       "      <td>1</td>\n",
       "      <td>San Diego</td>\n",
       "      <td>3093</td>\n",
       "      <td>0.00000</td>\n",
       "      <td>urban_area</td>\n",
       "      <td>88.0</td>\n",
       "      <td>0.990436</td>\n",
       "      <td>1.048395</td>\n",
       "      <td>0.975995</td>\n",
       "      <td>...</td>\n",
       "      <td>0.158</td>\n",
       "      <td>0.772</td>\n",
       "      <td>0.000</td>\n",
       "      <td>0.036</td>\n",
       "      <td>0.033</td>\n",
       "      <td>0.000</td>\n",
       "      <td>0.000</td>\n",
       "      <td>0.0</td>\n",
       "      <td>2/10/2022</td>\n",
       "      <td>NaN</td>\n",
       "    </tr>\n",
       "    <tr>\n",
       "      <th>5659</th>\n",
       "      <td>6073000201</td>\n",
       "      <td>2.01</td>\n",
       "      <td>San Diego</td>\n",
       "      <td>1891</td>\n",
       "      <td>0.00000</td>\n",
       "      <td>urban_area</td>\n",
       "      <td>83.7</td>\n",
       "      <td>0.851155</td>\n",
       "      <td>0.698384</td>\n",
       "      <td>0.884339</td>\n",
       "      <td>...</td>\n",
       "      <td>0.074</td>\n",
       "      <td>0.830</td>\n",
       "      <td>0.005</td>\n",
       "      <td>0.040</td>\n",
       "      <td>0.045</td>\n",
       "      <td>0.006</td>\n",
       "      <td>0.000</td>\n",
       "      <td>0.0</td>\n",
       "      <td>2/10/2022</td>\n",
       "      <td>NaN</td>\n",
       "    </tr>\n",
       "    <tr>\n",
       "      <th>5660</th>\n",
       "      <td>6073000202</td>\n",
       "      <td>2.02</td>\n",
       "      <td>San Diego</td>\n",
       "      <td>4542</td>\n",
       "      <td>0.01343</td>\n",
       "      <td>urban_area</td>\n",
       "      <td>81.3</td>\n",
       "      <td>0.611168</td>\n",
       "      <td>0.488244</td>\n",
       "      <td>0.783440</td>\n",
       "      <td>...</td>\n",
       "      <td>0.136</td>\n",
       "      <td>0.746</td>\n",
       "      <td>0.001</td>\n",
       "      <td>0.083</td>\n",
       "      <td>0.033</td>\n",
       "      <td>0.000</td>\n",
       "      <td>0.001</td>\n",
       "      <td>0.0</td>\n",
       "      <td>2/10/2022</td>\n",
       "      <td>NaN</td>\n",
       "    </tr>\n",
       "  </tbody>\n",
       "</table>\n",
       "<p>3 rows × 84 columns</p>\n",
       "</div>"
      ],
      "text/plain": [
       "          GEO_ID  NAME     county   pop  pctgqtract   UrbanType   LEB  \\\n",
       "5658  6073000100     1  San Diego  3093     0.00000  urban_area  88.0   \n",
       "5659  6073000201  2.01  San Diego  1891     0.00000  urban_area  83.7   \n",
       "5660  6073000202  2.02  San Diego  4542     0.01343  urban_area  81.3   \n",
       "\n",
       "      LEB_pctile       hpi  hpi_pctile  ...  latino_pct white_pct  black_pct  \\\n",
       "5658    0.990436  1.048395    0.975995  ...       0.158     0.772      0.000   \n",
       "5659    0.851155  0.698384    0.884339  ...       0.074     0.830      0.005   \n",
       "5660    0.611168  0.488244    0.783440  ...       0.136     0.746      0.001   \n",
       "\n",
       "      asian_pct  multiple_pct  NativeAm_pct  PacificIsl_pct  other_pct  \\\n",
       "5658      0.036         0.033         0.000           0.000        0.0   \n",
       "5659      0.040         0.045         0.006           0.000        0.0   \n",
       "5660      0.083         0.033         0.000           0.001        0.0   \n",
       "\n",
       "        version  notes  \n",
       "5658  2/10/2022    NaN  \n",
       "5659  2/10/2022    NaN  \n",
       "5660  2/10/2022    NaN  \n",
       "\n",
       "[3 rows x 84 columns]"
      ]
     },
     "execution_count": 2,
     "metadata": {},
     "output_type": "execute_result"
    }
   ],
   "source": [
    "#Import from Google Drive - Master HPI Data. Recieved this file directly from the HPI agency. \n",
    "# Will use this file as an intermidiary- common key is needed from this file to join HPI data and Vaccine data\n",
    "\n",
    "import pandas as pd\n",
    "\n",
    "url='https://drive.google.com/file/d/1-O5aXOkgAaQUxMjZ5EXu9y6kHxmjsyp2/view?usp=share_link'\n",
    "path = 'https://drive.google.com/uc?export=download&id='+url.split('/')[-2]\n",
    "master_hpi = pd.read_csv(path)\n",
    "\n",
    "master_hpi = pd.DataFrame(master_hpi)\n",
    "\n",
    "#Cleaning/Filtering mster HPI data. Preparing to join. \n",
    "# san_diego_hpi = master_hpi[master_hpi['county']=='San Diego']\n",
    "san_diego_hpi = master_hpi[master_hpi['county']=='San Diego']\n",
    "\n",
    "\n",
    "san_diego_hpi['NAME'] = [x.split(',')[-0] for x in san_diego_hpi['NAME']]\n",
    "\n",
    "san_diego_hpi['NAME'] = [x.split('Tract ')[-1] for x in san_diego_hpi['NAME']]\n",
    "\n",
    "san_diego_hpi.head(3)\n",
    "# len(san_diego_hpi)"
   ]
  },
  {
   "cell_type": "code",
   "execution_count": 3,
   "metadata": {},
   "outputs": [
    {
     "data": {
      "text/html": [
       "<div>\n",
       "<style scoped>\n",
       "    .dataframe tbody tr th:only-of-type {\n",
       "        vertical-align: middle;\n",
       "    }\n",
       "\n",
       "    .dataframe tbody tr th {\n",
       "        vertical-align: top;\n",
       "    }\n",
       "\n",
       "    .dataframe thead th {\n",
       "        text-align: right;\n",
       "    }\n",
       "</style>\n",
       "<table border=\"1\" class=\"dataframe\">\n",
       "  <thead>\n",
       "    <tr style=\"text-align: right;\">\n",
       "      <th></th>\n",
       "      <th>voting</th>\n",
       "      <th>voting_pctile</th>\n",
       "      <th>NAME</th>\n",
       "      <th>GEO_ID</th>\n",
       "      <th>county</th>\n",
       "      <th>pop</th>\n",
       "      <th>hpi_pctile</th>\n",
       "      <th>hpi_quartile</th>\n",
       "      <th>hpi_least_healthy_25pct</th>\n",
       "      <th>economic_pctile</th>\n",
       "      <th>census_tract</th>\n",
       "      <th>gis_hpi_quartile_sd</th>\n",
       "      <th>vaccination_percentage_all</th>\n",
       "      <th>update_date</th>\n",
       "    </tr>\n",
       "  </thead>\n",
       "  <tbody>\n",
       "    <tr>\n",
       "      <th>0</th>\n",
       "      <td>0.924053</td>\n",
       "      <td>0.994865</td>\n",
       "      <td>1</td>\n",
       "      <td>6073000100</td>\n",
       "      <td>San Diego</td>\n",
       "      <td>3093</td>\n",
       "      <td>0.975995</td>\n",
       "      <td>4.0</td>\n",
       "      <td>No</td>\n",
       "      <td>0.971759</td>\n",
       "      <td>1</td>\n",
       "      <td>4</td>\n",
       "      <td>86.3872744</td>\n",
       "      <td>2022-07-27T08:00:00.000Z</td>\n",
       "    </tr>\n",
       "    <tr>\n",
       "      <th>1</th>\n",
       "      <td>0.910670</td>\n",
       "      <td>0.977664</td>\n",
       "      <td>2.01</td>\n",
       "      <td>6073000201</td>\n",
       "      <td>San Diego</td>\n",
       "      <td>1891</td>\n",
       "      <td>0.884339</td>\n",
       "      <td>4.0</td>\n",
       "      <td>No</td>\n",
       "      <td>0.850578</td>\n",
       "      <td>2.01</td>\n",
       "      <td>4</td>\n",
       "      <td>76.14080834</td>\n",
       "      <td>2022-07-27T08:00:00.000Z</td>\n",
       "    </tr>\n",
       "    <tr>\n",
       "      <th>4</th>\n",
       "      <td>0.895648</td>\n",
       "      <td>0.927599</td>\n",
       "      <td>2.02</td>\n",
       "      <td>6073000202</td>\n",
       "      <td>San Diego</td>\n",
       "      <td>4542</td>\n",
       "      <td>0.783440</td>\n",
       "      <td>4.0</td>\n",
       "      <td>No</td>\n",
       "      <td>0.894737</td>\n",
       "      <td>2.02</td>\n",
       "      <td>4</td>\n",
       "      <td>69.63702708</td>\n",
       "      <td>2022-08-03T08:00:00.000Z</td>\n",
       "    </tr>\n",
       "    <tr>\n",
       "      <th>5</th>\n",
       "      <td>0.882855</td>\n",
       "      <td>0.879076</td>\n",
       "      <td>3</td>\n",
       "      <td>6073000300</td>\n",
       "      <td>San Diego</td>\n",
       "      <td>5239</td>\n",
       "      <td>0.860591</td>\n",
       "      <td>4.0</td>\n",
       "      <td>No</td>\n",
       "      <td>0.826059</td>\n",
       "      <td>3</td>\n",
       "      <td>4</td>\n",
       "      <td>87.69771529</td>\n",
       "      <td>2022-07-27T08:00:00.000Z</td>\n",
       "    </tr>\n",
       "    <tr>\n",
       "      <th>7</th>\n",
       "      <td>0.867249</td>\n",
       "      <td>0.811425</td>\n",
       "      <td>4</td>\n",
       "      <td>6073000400</td>\n",
       "      <td>San Diego</td>\n",
       "      <td>3801</td>\n",
       "      <td>0.872272</td>\n",
       "      <td>4.0</td>\n",
       "      <td>No</td>\n",
       "      <td>0.794095</td>\n",
       "      <td>4</td>\n",
       "      <td>4</td>\n",
       "      <td>92.74778405</td>\n",
       "      <td>2022-07-27T08:00:00.000Z</td>\n",
       "    </tr>\n",
       "    <tr>\n",
       "      <th>...</th>\n",
       "      <td>...</td>\n",
       "      <td>...</td>\n",
       "      <td>...</td>\n",
       "      <td>...</td>\n",
       "      <td>...</td>\n",
       "      <td>...</td>\n",
       "      <td>...</td>\n",
       "      <td>...</td>\n",
       "      <td>...</td>\n",
       "      <td>...</td>\n",
       "      <td>...</td>\n",
       "      <td>...</td>\n",
       "      <td>...</td>\n",
       "      <td>...</td>\n",
       "    </tr>\n",
       "    <tr>\n",
       "      <th>978</th>\n",
       "      <td>0.888528</td>\n",
       "      <td>0.899487</td>\n",
       "      <td>218</td>\n",
       "      <td>6073021800</td>\n",
       "      <td>San Diego</td>\n",
       "      <td>2403</td>\n",
       "      <td>0.868036</td>\n",
       "      <td>4.0</td>\n",
       "      <td>No</td>\n",
       "      <td>0.921566</td>\n",
       "      <td>218</td>\n",
       "      <td>4</td>\n",
       "      <td>94.91525424</td>\n",
       "      <td>2022-07-27T08:00:00.000Z</td>\n",
       "    </tr>\n",
       "    <tr>\n",
       "      <th>980</th>\n",
       "      <td>NaN</td>\n",
       "      <td>NaN</td>\n",
       "      <td>219</td>\n",
       "      <td>6073021900</td>\n",
       "      <td>San Diego</td>\n",
       "      <td>7107</td>\n",
       "      <td>NaN</td>\n",
       "      <td>NaN</td>\n",
       "      <td>NaN</td>\n",
       "      <td>NaN</td>\n",
       "      <td>219</td>\n",
       "      <td>NaN</td>\n",
       "      <td>40.13796987</td>\n",
       "      <td>2022-08-31T08:00:00.000Z</td>\n",
       "    </tr>\n",
       "    <tr>\n",
       "      <th>982</th>\n",
       "      <td>0.680180</td>\n",
       "      <td>0.187548</td>\n",
       "      <td>220</td>\n",
       "      <td>6073022000</td>\n",
       "      <td>San Diego</td>\n",
       "      <td>4681</td>\n",
       "      <td>0.230424</td>\n",
       "      <td>1.0</td>\n",
       "      <td>Yes</td>\n",
       "      <td>0.272144</td>\n",
       "      <td>220</td>\n",
       "      <td>1</td>\n",
       "      <td>83.84349827</td>\n",
       "      <td>2022-08-03T08:00:00.000Z</td>\n",
       "    </tr>\n",
       "    <tr>\n",
       "      <th>983</th>\n",
       "      <td>0.895080</td>\n",
       "      <td>0.925160</td>\n",
       "      <td>221</td>\n",
       "      <td>6073022100</td>\n",
       "      <td>San Diego</td>\n",
       "      <td>10005</td>\n",
       "      <td>0.791656</td>\n",
       "      <td>4.0</td>\n",
       "      <td>No</td>\n",
       "      <td>0.716431</td>\n",
       "      <td>221</td>\n",
       "      <td>4</td>\n",
       "      <td>79.8020198</td>\n",
       "      <td>2022-07-27T08:00:00.000Z</td>\n",
       "    </tr>\n",
       "    <tr>\n",
       "      <th>985</th>\n",
       "      <td>NaN</td>\n",
       "      <td>NaN</td>\n",
       "      <td>9901</td>\n",
       "      <td>6073990100</td>\n",
       "      <td>San Diego</td>\n",
       "      <td>0</td>\n",
       "      <td>NaN</td>\n",
       "      <td>NaN</td>\n",
       "      <td>NaN</td>\n",
       "      <td>NaN</td>\n",
       "      <td>9901</td>\n",
       "      <td>NaN</td>\n",
       "      <td>NaN</td>\n",
       "      <td>2022-07-27T08:00:00.000Z</td>\n",
       "    </tr>\n",
       "  </tbody>\n",
       "</table>\n",
       "<p>631 rows × 14 columns</p>\n",
       "</div>"
      ],
      "text/plain": [
       "       voting  voting_pctile  NAME      GEO_ID     county    pop  hpi_pctile  \\\n",
       "0    0.924053       0.994865     1  6073000100  San Diego   3093    0.975995   \n",
       "1    0.910670       0.977664  2.01  6073000201  San Diego   1891    0.884339   \n",
       "4    0.895648       0.927599  2.02  6073000202  San Diego   4542    0.783440   \n",
       "5    0.882855       0.879076     3  6073000300  San Diego   5239    0.860591   \n",
       "7    0.867249       0.811425     4  6073000400  San Diego   3801    0.872272   \n",
       "..        ...            ...   ...         ...        ...    ...         ...   \n",
       "978  0.888528       0.899487   218  6073021800  San Diego   2403    0.868036   \n",
       "980       NaN            NaN   219  6073021900  San Diego   7107         NaN   \n",
       "982  0.680180       0.187548   220  6073022000  San Diego   4681    0.230424   \n",
       "983  0.895080       0.925160   221  6073022100  San Diego  10005    0.791656   \n",
       "985       NaN            NaN  9901  6073990100  San Diego      0         NaN   \n",
       "\n",
       "     hpi_quartile hpi_least_healthy_25pct  economic_pctile census_tract  \\\n",
       "0             4.0                      No         0.971759            1   \n",
       "1             4.0                      No         0.850578         2.01   \n",
       "4             4.0                      No         0.894737         2.02   \n",
       "5             4.0                      No         0.826059            3   \n",
       "7             4.0                      No         0.794095            4   \n",
       "..            ...                     ...              ...          ...   \n",
       "978           4.0                      No         0.921566          218   \n",
       "980           NaN                     NaN              NaN          219   \n",
       "982           1.0                     Yes         0.272144          220   \n",
       "983           4.0                      No         0.716431          221   \n",
       "985           NaN                     NaN              NaN         9901   \n",
       "\n",
       "    gis_hpi_quartile_sd vaccination_percentage_all               update_date  \n",
       "0                     4                 86.3872744  2022-07-27T08:00:00.000Z  \n",
       "1                     4                76.14080834  2022-07-27T08:00:00.000Z  \n",
       "4                     4                69.63702708  2022-08-03T08:00:00.000Z  \n",
       "5                     4                87.69771529  2022-07-27T08:00:00.000Z  \n",
       "7                     4                92.74778405  2022-07-27T08:00:00.000Z  \n",
       "..                  ...                        ...                       ...  \n",
       "978                   4                94.91525424  2022-07-27T08:00:00.000Z  \n",
       "980                 NaN                40.13796987  2022-08-31T08:00:00.000Z  \n",
       "982                   1                83.84349827  2022-08-03T08:00:00.000Z  \n",
       "983                   4                 79.8020198  2022-07-27T08:00:00.000Z  \n",
       "985                 NaN                        NaN  2022-07-27T08:00:00.000Z  \n",
       "\n",
       "[631 rows x 14 columns]"
      ]
     },
     "execution_count": 3,
     "metadata": {},
     "output_type": "execute_result"
    }
   ],
   "source": [
    "# Joining datasets\n",
    "#san diego hpi: vaccine data\n",
    "\n",
    "\n",
    "# final_joined = pd.merge(vaccine_data[['census_tract','gis_hpi_quartile_sd','update_date', 'vaccination_percentage_all']],san_diego_hpi[['voting','voting_pctile','NAME','GEO_ID','county','pop','hpi_pctile','hpi_quartile','hpi_least_healthy_25pct','economic_pctile']], left_on='census_tract' , right_on='NAME', how='left')\n",
    "final_joined = pd.merge(san_diego_hpi[['voting','voting_pctile','NAME','GEO_ID','county','pop','hpi_pctile','hpi_quartile','hpi_least_healthy_25pct','economic_pctile']], vaccine_data[['census_tract','gis_hpi_quartile_sd', 'vaccination_percentage_all','update_date']], left_on='NAME', right_on='census_tract', how='left')\n",
    "\n",
    "final_joined.sort_values('vaccination_percentage_all', ascending=False).drop_duplicates(['voting','voting_pctile','NAME','GEO_ID','county','pop','hpi_pctile','hpi_quartile','hpi_least_healthy_25pct','economic_pctile','census_tract','gis_hpi_quartile_sd']).sort_index()\n",
    "# test_join[test_join['census_tract'] == '170.19' ]"
   ]
  },
  {
   "cell_type": "code",
   "execution_count": 50,
   "metadata": {},
   "outputs": [],
   "source": [
    "# Writing to CSV files for all three datasets\n",
    "\n",
    "from pathlib import Path \n",
    "\n",
    "# Export of Filtered San Diego HPI data (sample size) - Accessed via API\n",
    "export_sdhpi = san_diego_hpi.head(10)\n",
    "filepath = Path('C:/Users/krist/Downloads/DSCI-510-Final-Project/san_diego_hpi_sample.csv')\n",
    "filepath.parent.mkdir(parents=True, exist_ok=True)\n",
    "export_sdhpi.to_csv(filepath)\n",
    "\n",
    "\n",
    "# Export of vaccine data (sample size) - accessed via json import\n",
    "export_v = vaccine_data.head(10)\n",
    "filepath = Path('C:/Users/krist/Downloads/DSCI-510-Final-Project/vaccine_data_sample.csv')\n",
    "filepath.parent.mkdir(parents=True, exist_ok=True)\n",
    "export_v.to_csv(filepath)\n",
    "\n",
    "# Export of Master HPI data - reading from a Google Drive folder\n",
    "export_master = vaccine_data.head(10)\n",
    "filepath = Path('C:/Users/krist/Downloads/DSCI-510-Final-Project/master_data_sample.csv')\n",
    "filepath.parent.mkdir(parents=True, exist_ok=True)\n",
    "export_master.to_csv(filepath)"
   ]
  },
  {
   "cell_type": "code",
   "execution_count": 21,
   "metadata": {},
   "outputs": [
    {
     "data": {
      "text/plain": [
       "geoid           object\n",
       "name            object\n",
       "population       int64\n",
       "value          float64\n",
       "percentile     float64\n",
       "numerator      float64\n",
       "denominator      int64\n",
       "dtype: object"
      ]
     },
     "execution_count": 21,
     "metadata": {},
     "output_type": "execute_result"
    },
    {
     "data": {
      "image/png": "[encoded data removed]",
      "text/plain": [
       "<Figure size 640x480 with 1 Axes>"
      ]
     },
     "metadata": {},
     "output_type": "display_data"
    }
   ],
   "source": [
    "# Producing a Visual\n",
    "#Extra credit\n",
    "\n",
    "import matplotlib.pyplot as plt\n",
    "\n",
    "val_by_population = plt.scatter(hpi_data['value'],hpi_data['population'], c='blue', s=5 )\n",
    "val_by_population = plt.xlabel('HPI Value')\n",
    "val_by_population = plt.ylabel('Census Tract Population')\n",
    "val_by_population = plt.title('Population Clustering within HPI Value (Score)')\n",
    "\n",
    "# plt.show(val_by_population)\n",
    "# plt.savefig('scatter_Population Clustering.jpeg')\n",
    "\n",
    "hpi_data.dtypes\n"
   ]
  },
  {
   "cell_type": "code",
   "execution_count": 7,
   "metadata": {},
   "outputs": [
    {
     "data": {
      "application/vnd.plotly.v1+json": {
       "config": {
        "plotlyServerURL": "https://plot.ly"
       },
       "data": [
        {
         "hovertemplate": "gis_hpi_quartile_sd=4<br>vaccination_percentage_all=%{x}<br>hpi_pctile=%{y}<extra></extra>",
         "legendgroup": "4",
         "marker": {
          "color": "#636efa",
          "symbol": "circle"
         },
         "mode": "markers",
         "name": "4",
         "orientation": "v",
         "showlegend": true,
         "type": "scatter",
         "x": [
          "86.3872744",
          "76.14080834",
          "76.14080834",
          "69.59861725",
          "69.63702708",
          "87.69771529",
          "87.60185333",
          "92.74778405",
          "71.91740413",
          "72.21238938",
          "71.76063304",
          "70.47939445",
          "70.60555088",
          "68.21520382",
          "71.60202972",
          "79.19297282",
          "79.57408518",
          "86.08233732",
          "86.10889774",
          "79.70425139",
          null,
          "80.77541828",
          "80.93629344",
          "80.98455598",
          "80.55066432",
          "80.61469505",
          "87.74985157",
          "88.4987177",
          "67.3953316",
          "79.37102209",
          "79.46461999",
          "83.40792839",
          "90.18023617",
          "89.89020095",
          "68.8599847",
          "59.57308131",
          "84.2366757",
          "84.32700994",
          "62.53183902",
          "61.71340252",
          "61.97836167",
          "62.02252153",
          "83.03703704",
          "82.7037037",
          "68.28462516",
          "68.18297332",
          "69.34072968",
          "69.19138041",
          "74.15245087",
          "87.37402016",
          "87.31802912",
          "87.78106509",
          "88.01775148",
          "96.75395526",
          "96.83578833",
          "92.44971975",
          "90.66257355",
          "90.7904835",
          "91.10110803",
          "91.30886427",
          "91.20498615",
          "94.48740334",
          "94.56223497",
          "97.57756056",
          "97.83255419",
          "88.80782139",
          "88.98292719",
          "88.57049288",
          "88.66874079",
          "84.87245942",
          "91.57523511",
          "91.81034483",
          "86.41453246",
          "86.39070876",
          "82.13910886",
          "85.7635893",
          "85.7635893",
          "95.21912351",
          "95.2689243",
          "90.17241379",
          "90.22988506",
          "98.31829368",
          "98.44134537",
          "92.31019346",
          "92.18656568",
          "92.2662946",
          "88.72611465",
          "88.72611465",
          "82.39046034",
          "82.77870216",
          "82.4181919",
          "92.1340388",
          "92.27513228",
          "77.53728629",
          "77.73735904",
          "79.46384246",
          "80.18018018",
          "80.2956803",
          "80.34188034",
          "81.94244604",
          "87.4910778",
          "73.23319379",
          "73.60256095",
          "73.40556513",
          "79.17091403",
          "79.3408087",
          "73.40363889",
          "74.86639676",
          "76.54936975",
          "76.60189076",
          "96.5242251",
          "96.43394523",
          "73.75036971",
          "73.82431233",
          "84.04012768",
          "84.33652531",
          "74.52667814",
          "74.84632407",
          "82.99399199",
          "82.99399199",
          "79.62535284",
          "79.72799589",
          "80.16422889",
          "89.9606852",
          "77.70436096",
          "79.83837547",
          "80.29423954",
          "86.36363636",
          "85.94612139",
          "86.27069133",
          null,
          null,
          "91.57264243",
          "76.55677656",
          "76.63003663",
          "71.22356495",
          "70.18771331",
          "71.19842829",
          "71.47347741",
          "63.27067669",
          "65.68357911",
          "65.80854786",
          "80.60053981",
          "75.63669837",
          "75.57532986",
          "89.55004591",
          "89.62350781",
          "94.32764363",
          "94.51498751",
          "82.71417741",
          "82.91635077",
          "84.07815275",
          "84.26287744",
          "95.38140021",
          "78.81010595",
          "78.83048085",
          "84.94558646",
          "85.09673519",
          "76.98577152",
          "83.20235756",
          "83.43565815",
          "85.3873815",
          "87.32792093",
          "87.75150018",
          "87.92372881",
          "88.02966102",
          "88.18834796",
          "88.2415536",
          "88.34796488",
          "87.06086096",
          "87.11034142",
          "82.5010491",
          "82.48006714",
          "85.09495492",
          "84.96067523",
          "83.27370304",
          "83.39296363",
          "77.90162774",
          "73.5460844",
          "80.19776216",
          "85.02449265",
          "84.91952414",
          "92.76202749",
          "92.71907216",
          "80.29006526",
          "80.42059463",
          "85.37407324",
          "85.12693777",
          "81.28911139",
          "82.19649562",
          "79.91279975",
          "79.75708502",
          "81.54046149",
          "81.5079623",
          "72.65260106",
          "81.08539505",
          "80.98563448",
          "95.5260722",
          "95.4026535",
          "76.94720335",
          "76.89492943",
          "79.73238882",
          "67.32704403",
          "67.16981132",
          "77.00232153",
          "77.17643645",
          "84.98216023",
          "84.98216023",
          "75.13649727",
          "75.26249475",
          "76.43210236",
          "81.53916628",
          "81.40174072",
          "56.60290389",
          "66.20858434",
          "60.9733124",
          "60.91051805",
          null,
          "78.23052679",
          "78.18550203",
          "80.36861426",
          "79.71856837",
          "64.09871602",
          "78.12046444",
          "71.6792622",
          "85.88023233",
          "85.72000801",
          "84.56999235",
          "84.52628128",
          "72.32882686",
          "77.05592105",
          "71.57573445",
          "74.85286249",
          "75.09363296",
          "81.91578594",
          "98.23714079",
          "94.91525424",
          "79.8020198",
          "79.7520248"
         ],
         "xaxis": "x",
         "y": [
          0.975994865,
          0.884338896,
          0.884338896,
          0.783440308,
          0.783440308,
          0.860590501,
          0.860590501,
          0.872272144,
          0.814120668,
          0.814120668,
          0.852888318,
          0.935173299,
          0.935173299,
          0.876123235,
          0.773042362,
          0.879845956,
          0.865725289,
          0.976123235,
          0.976123235,
          0.810269576,
          0.122978177,
          0.824775353,
          0.824775353,
          0.824775353,
          0.826315789,
          0.826315789,
          0.902567394,
          0.94338896,
          0.864313222,
          0.867650834,
          0.867650834,
          0.939794608,
          0.781643132,
          0.781643132,
          0.837997433,
          0.818100128,
          0.889088575,
          0.889088575,
          0.822721438,
          0.780872914,
          0.780872914,
          0.780872914,
          0.896277279,
          0.896277279,
          0.93029525,
          0.93029525,
          0.933119384,
          0.933119384,
          0.858279846,
          0.938254172,
          0.938254172,
          0.950706033,
          0.950706033,
          0.958536585,
          0.958536585,
          0.956097561,
          0.776508344,
          0.776508344,
          0.944801027,
          0.944801027,
          0.944801027,
          0.932862644,
          0.932862644,
          0.974197689,
          0.974197689,
          0.928112965,
          0.928112965,
          0.913350449,
          0.913350449,
          0.909499358,
          0.946983312,
          0.946983312,
          0.918228498,
          0.918228498,
          0.876508344,
          0.855712452,
          0.855712452,
          0.863157895,
          0.863157895,
          0.870474968,
          0.870474968,
          0.964184852,
          0.964184852,
          0.850577664,
          0.841335045,
          0.841335045,
          0.786392811,
          0.786392811,
          0.790243902,
          0.790243902,
          0.790243902,
          0.939666239,
          0.939666239,
          0.841976893,
          0.841976893,
          0.866495507,
          0.832220796,
          0.832220796,
          0.832220796,
          0.91283697,
          0.834531451,
          0.918870347,
          0.918870347,
          0.918870347,
          0.805776637,
          0.805776637,
          0.832349166,
          0.813350449,
          0.810141207,
          0.810141207,
          0.919897304,
          0.919897304,
          0.907702182,
          0.907702182,
          0.9,
          0.9,
          0.821309371,
          0.821309371,
          0.867137356,
          0.867137356,
          0.812451861,
          0.812451861,
          0.812451861,
          0.850962773,
          0.868806162,
          0.898844673,
          0.898844673,
          0.820539153,
          0.825417202,
          0.825417202,
          0.221437741,
          0.221437741,
          0.789730424,
          0.792682927,
          0.792682927,
          0.877792041,
          0.794865212,
          0.866880616,
          0.866880616,
          0.783825417,
          0.786649551,
          0.786649551,
          0.920924262,
          0.792811297,
          0.792811297,
          0.909242619,
          0.909242619,
          0.838639281,
          0.838639281,
          0.808472401,
          0.808472401,
          0.887419769,
          0.887419769,
          0.892426187,
          0.839666239,
          0.839666239,
          0.817971759,
          0.817971759,
          0.897304236,
          0.909756098,
          0.909756098,
          0.79114249,
          0.948780488,
          0.948780488,
          0.931964056,
          0.931964056,
          0.944030809,
          0.944030809,
          0.944030809,
          0.959306804,
          0.959306804,
          0.869191271,
          0.869191271,
          0.824903723,
          0.824903723,
          0.853401797,
          0.853401797,
          0.929525032,
          0.920154044,
          0.898074454,
          0.922207959,
          0.922207959,
          0.942747112,
          0.942747112,
          0.948523748,
          0.948523748,
          0.933632863,
          0.933632863,
          0.954942234,
          0.954942234,
          0.918356868,
          0.918356868,
          0.944929397,
          0.944929397,
          0.88267009,
          0.951861361,
          0.951861361,
          0.835430039,
          0.835430039,
          0.889216945,
          0.889216945,
          0.816302953,
          0.899101412,
          0.899101412,
          0.779075738,
          0.779075738,
          0.949807445,
          0.949807445,
          0.840693196,
          0.840693196,
          0.893068036,
          0.807830552,
          0.807830552,
          0.865982028,
          0.812066752,
          0.785237484,
          0.785237484,
          0.05661104,
          0.862772786,
          0.862772786,
          0.779332478,
          0.779332478,
          0.798716303,
          0.903851091,
          0.851219512,
          0.912323492,
          0.912323492,
          0.938896021,
          0.938896021,
          0.824005135,
          0.853145058,
          0.850449294,
          0.921052632,
          0.921052632,
          0.803337612,
          0.905519897,
          0.868035944,
          0.791655969,
          0.791655969
         ],
         "yaxis": "y"
        },
        {
         "hovertemplate": "gis_hpi_quartile_sd=3<br>vaccination_percentage_all=%{x}<br>hpi_pctile=%{y}<extra></extra>",
         "legendgroup": "3",
         "marker": {
          "color": "#EF553B",
          "symbol": "circle"
         },
         "mode": "markers",
         "name": "3",
         "orientation": "v",
         "showlegend": true,
         "type": "scatter",
         "x": [
          "68.01530087",
          "68.05943799",
          "66.61425577",
          "66.85010482",
          "64.7819063",
          "64.82229402",
          "72.57318952",
          "78.01735472",
          "89.58403788",
          "84.28171642",
          "84.32835821",
          "93.6906756",
          "75.99230214",
          "76.01635795",
          "75.87202309",
          "75.8960789",
          "72.75846295",
          "72.55579171",
          "72.52922423",
          "68.762409",
          "69.98676373",
          "70.25148908",
          "70.24611577",
          "56.05464707",
          "48.76893939",
          "48.6584596",
          "63.81156317",
          "63.98809524",
          "64.01942356",
          "62.84221902",
          "67.33505821",
          "67.27037516",
          "68.64754098",
          "68.4682377",
          "62.95540659",
          "82.70920018",
          "88.03536889",
          "90.92548077",
          "90.98557692",
          "91.52644231",
          "95.4040404",
          "87.7672209",
          "87.82660333",
          "79.00978358",
          "89.35361217",
          "89.76552598",
          "88.94403088",
          "96.54589372",
          "97.48571429",
          "70.1771031",
          "70.24035421",
          "84.8361324",
          "79.83623337",
          "80.32436286",
          "80.73872087",
          "78.85802469",
          "81.33627019",
          "75.50592115",
          "68.32243238",
          "68.53455895",
          "74.819982",
          "74.93249325",
          "76.12138454",
          "69.23504353",
          "69.32765327",
          "80.86931656",
          "80.86931656",
          "60.50347222",
          "83.8028169",
          "81.58410299",
          "77.29866836",
          "77.4730501",
          "85.19708655",
          "85.47557841",
          "83.86203424",
          "83.96273917",
          "97.81775288",
          "97.80300796",
          "96.24884299",
          "96.19726679",
          "86.4608076",
          "69.85607676",
          "65.28749029",
          "73.11065497",
          "67.18386346",
          "72.42036011",
          "74.03921569",
          "72.96726505",
          "73.07286167",
          "72.27523857",
          "72.33802109",
          "73.75996457",
          "73.93711249",
          "74.83050847",
          "74.93644068",
          "74.7354783",
          "72.56979825",
          "72.7532097",
          "73.71621622",
          "74.07657658",
          "74.72723666",
          "56.99394755",
          "56.82582381",
          "60.90373281",
          "73.4561914",
          "76.54445003",
          "62.09009418",
          "66.87697161",
          "62.62192743",
          "66.64912281",
          "67.34589913",
          "61.42333537",
          "61.4335166",
          "71.78619756",
          "68.98203593",
          "69.19161677",
          "80.74170462",
          "80.80676643",
          "69.61074437",
          "79.6328928",
          "70.96131968",
          "71.21729238",
          "84.26889609",
          "72.46875",
          "73.95143488",
          "71.92844814",
          "72.11674251",
          "87.93831467",
          "81.31024342",
          "80.93448783",
          "76.17296661",
          "76.12884248",
          "76.65160926",
          "74.63427045",
          "74.57066531",
          "69.50904393",
          "68.04137382",
          "63.4319162",
          "41.84135977",
          "65.9688826",
          "65.95473833",
          "64.86065095",
          "64.92886377",
          "69.88861386",
          "52.25520432",
          "52.25520432",
          "81.98060235",
          "68.17174515",
          "68.22714681",
          "73.03754266",
          "64.55417833",
          "64.57417033",
          "88.90298034",
          "80.07988018",
          "72.79693487",
          "72.90142807",
          "71.93681724",
          "67.79479326",
          "69.30966469",
          "86.3076602",
          "70.42095835",
          "59.86543008",
          "69.4645047",
          "69.45087887",
          "69.58300343",
          "69.58300343",
          "76.52828467",
          "76.71076642",
          "80.23968785",
          "80.40691193",
          "69.2921531",
          "62.978659",
          "61.1308003",
          "73.1277533",
          "61.81235535",
          "76.80736417",
          "76.94207454",
          "74.12040657",
          "74.74589523",
          "71.68367347",
          "59.21385484",
          "49.33084345",
          "55.708038",
          "57.97446809",
          "57.99148936",
          "61.65667166",
          "59.28066795",
          "58.83108542",
          "89.93650794",
          "90.02116402",
          "90.14814815",
          "86.40739315",
          "86.40739315",
          "70.37315302",
          "70.24793388"
         ],
         "xaxis": "x",
         "y": [
          0.651476252,
          0.651476252,
          0.649293967,
          0.649293967,
          0.722336329,
          0.722336329,
          0.766495507,
          0.627599487,
          0.619127086,
          0.656225931,
          0.656225931,
          0.598074454,
          0.73491656,
          0.73491656,
          0.73491656,
          0.73491656,
          0.702439024,
          0.619897304,
          0.619897304,
          0.609756098,
          0.609756098,
          0.609756098,
          0.740436457,
          0.614762516,
          0.725288832,
          0.725288832,
          0.768035944,
          0.666880616,
          0.666880616,
          0.680872914,
          0.768421053,
          0.768421053,
          0.715661104,
          0.715661104,
          0.770346598,
          0.613607189,
          0.607060334,
          0.711296534,
          0.711296534,
          0.711296534,
          0.685109114,
          0.593324775,
          0.593324775,
          0.705134788,
          0.759435173,
          0.759435173,
          0.681258023,
          0.622721438,
          0.653273427,
          0.702952503,
          0.702952503,
          0.596405648,
          0.764056483,
          0.650706033,
          0.615532734,
          0.749807445,
          0.632349166,
          0.721181001,
          0.61322208,
          0.61322208,
          0.678818999,
          0.678818999,
          0.638125802,
          0.676379974,
          0.676379974,
          0.729781772,
          0.729781772,
          0.744929397,
          0.714634146,
          0.759050064,
          0.643774069,
          0.643774069,
          0.770474968,
          0.770474968,
          0.741463415,
          0.741463415,
          0.583055199,
          0.583055199,
          0.619383825,
          0.72195122,
          0.633376123,
          0.667650834,
          0.613863928,
          0.59139923,
          0.706290116,
          0.715789474,
          0.635815148,
          0.594608472,
          0.594608472,
          0.594865212,
          0.594865212,
          0.681643132,
          0.681643132,
          0.663799743,
          0.663799743,
          0.594736842,
          0.643003851,
          0.643003851,
          0.622079589,
          0.622079589,
          0.595250321,
          0.622336329,
          0.622336329,
          0.690629012,
          0.7436457,
          0.754300385,
          0.672143774,
          0.73915276,
          0.610526316,
          0.707060334,
          0.647496791,
          0.644030809,
          0.644030809,
          0.699743261,
          0.599614891,
          0.599614891,
          0.76097561,
          0.76097561,
          0.591014121,
          0.763286264,
          0.60872914,
          0.60872914,
          0.707958922,
          0.764569961,
          0.66970475,
          0.770988447,
          0.770988447,
          0.757124519,
          0.763671374,
          0.763671374,
          0.662387677,
          0.662387677,
          0.739537869,
          0.716688062,
          0.716688062,
          0.703851091,
          0.640308087,
          0.658921694,
          0.703209243,
          0.645057766,
          0.645057766,
          0.658664955,
          0.658664955,
          0.750320924,
          0.616046213,
          0.616046213,
          0.596148909,
          0.670603338,
          0.670603338,
          0.615275995,
          0.587804878,
          0.587804878,
          0.750962773,
          0.646084724,
          0.615019255,
          0.615019255,
          0.7563543,
          0.581514763,
          0.641078306,
          0.671501926,
          0.738639281,
          0.725032092,
          0.648523748,
          0.648523748,
          0.685365854,
          0.685365854,
          0.748523748,
          0.748523748,
          0.733119384,
          0.733119384,
          0.763414634,
          0.606931964,
          0.642618742,
          0.642875481,
          0.718741977,
          0.650064185,
          0.650064185,
          0.736842105,
          0.736842105,
          0.681001284,
          0.663029525,
          0.61745828,
          0.599101412,
          0.754043646,
          0.754043646,
          0.694223363,
          0.700641849,
          0.700641849,
          0.68677792,
          0.68677792,
          0.68677792,
          0.679974326,
          0.679974326,
          0.649679076,
          0.649679076
         ],
         "yaxis": "y"
        },
        {
         "hovertemplate": "gis_hpi_quartile_sd=2<br>vaccination_percentage_all=%{x}<br>hpi_pctile=%{y}<extra></extra>",
         "legendgroup": "2",
         "marker": {
          "color": "#00cc96",
          "symbol": "circle"
         },
         "mode": "markers",
         "name": "2",
         "orientation": "v",
         "showlegend": true,
         "type": "scatter",
         "x": [
          "60.33994334",
          "60.39958253",
          "65.85960961",
          "65.87392083",
          "66.08568171",
          "69.98815767",
          "81.85212845",
          "91.5958222",
          "72.87915653",
          "73.00892133",
          "77.62096774",
          "77.48655914",
          "81.45285935",
          "81.47003263",
          "75.75828827",
          "75.8053139",
          "89.46814113",
          "89.81042654",
          "82.67834259",
          "82.76377616",
          "83.82544104",
          "82.97121634",
          "89.07407407",
          "90.80246914",
          "96.84186261",
          "96.9110189",
          "89.1533492",
          "89.59537572",
          "97.95131357",
          "96.33323555",
          "96.50924025",
          "83.00703579",
          "77.27697774",
          "80.05427408",
          "79.91858887",
          "80.02035278",
          "92.18832194",
          "70.88260135",
          "69.8902027",
          "79.25723087",
          "79.47971932",
          "73.96648045",
          "74.17597765",
          "67.69136182",
          "67.53765755",
          "64.75609756",
          "64.63414634",
          "64.59349593",
          "65.96873255",
          "82.4747743",
          "82.36856081",
          "80.80598917",
          "70.82018927",
          "70.80047319",
          "74.25608656",
          "69.48016664",
          "69.48016664",
          "69.5888426",
          "83.37518835",
          "51.09429884",
          "74.99118166",
          "83.61911711",
          "71.29149378",
          "71.47302905",
          "71.343361",
          "65.65992866",
          "65.5648038",
          "69.47436104",
          "69.44221186",
          "90.47160731",
          "80.75285682",
          "63.78986867",
          "63.91494684",
          "80.27376426",
          "80.34980989",
          "86.42676768",
          "86.71085859",
          "87.63969602",
          "85.71782178",
          "85.4950495",
          "85.54455446",
          "82.1745217",
          "88.0952381",
          "88.17527011",
          "86.95161952",
          "88.20603908",
          null,
          "92.49603265",
          "92.36000907",
          "83.29297821",
          "77.16174975",
          "87.85513581",
          "64.33057851",
          "64.5785124",
          "81.55913978",
          "62.76375672",
          "68.9211542",
          "68.64546958",
          "68.88439625",
          "69.45558739",
          "69.62750716",
          "77.28371194",
          "77.13871435",
          "76.9540693",
          "77.03464948",
          "78.90803405",
          "78.99107328",
          "75.94405594",
          "77.84649986",
          "87.76595745",
          "88.00236407",
          "79.16068294",
          "79.43194511",
          "72.93483838",
          "77.58985201",
          "72.40890688",
          "66.747709",
          "66.85992145",
          "63.70396601",
          "63.95184136",
          "72.19858156",
          "72.28368794",
          "70.81312411",
          "77.76010181",
          "77.37830099",
          "69.12337662",
          "69.54545455",
          "72.08029197",
          "64.2126279",
          "63.98802096",
          "69.37789799",
          "59.62772786",
          "59.62772786",
          "67.35922052",
          "62.69239605",
          "62.94509534",
          "59.95394063",
          "60.10747185",
          "56.83673469",
          "60.81466395",
          "55.51943993",
          "55.63195399",
          "67.46209297",
          "67.81009197",
          "62.46462568",
          "62.13017751",
          "63.73703639",
          "62.96361399",
          "61.05779484",
          "58.64628821",
          "48.81744272",
          "48.7804878",
          "71.82320442",
          "74.97348887",
          "80.5985319",
          "80.60982496",
          "65.33641797",
          "65.3749759",
          "65.77605548",
          "65.61289007",
          "67.25325172",
          "67.45728131",
          "76.98019802",
          "77.12164074",
          "76.49726053",
          "77.4419044",
          "76.68618931",
          "66.73130791",
          "74.48961787",
          "73.93468496",
          "60.65662002",
          "60.73735199",
          "69.17562724",
          "62.93583824",
          "65.05301982",
          "69.72918532",
          "51.84855234",
          "68.774659",
          "70.67712874",
          "70.67712874",
          "61.58989599",
          "61.58989599",
          "69.31311329",
          "64.8976378",
          "64.83464567",
          "80.37724369",
          "71.43564356",
          "71.38613861",
          "66.19301362",
          "69.09626719",
          "68.9194499",
          "63.07665011",
          "62.7217885",
          "57.49634325",
          "57.38664066",
          "69.97496016",
          "71.0597492",
          "71.47774773",
          "67.35717401",
          "67.53161797",
          "60.83626318",
          "56.67206915",
          "56.69908158",
          "73.49219392",
          "75.08796622",
          "75.11142388",
          "69.77099237",
          "69.98091603",
          "61.94288187",
          "62.2674167",
          "62.09433146",
          "70.17317136",
          "69.60454898",
          "66.43495531",
          "66.63356504",
          "79.54341987",
          "80.08057296",
          "70.93137255",
          "71.29901961",
          "64.10555815",
          "58.35301063",
          "58.4120425",
          "66.09977324",
          "47.49807544",
          "47.53656659",
          "41.53237207",
          "41.58891716",
          "50.89804186"
         ],
         "xaxis": "x",
         "y": [
          0.558408216,
          0.558408216,
          0.518356868,
          0.477535302,
          0.477535302,
          0.546469833,
          0.46957638,
          0.542618742,
          0.580872914,
          0.580872914,
          0.500641849,
          0.500641849,
          0.505776637,
          0.505776637,
          0.471501926,
          0.471501926,
          0.473427471,
          0.473427471,
          0.359050064,
          0.359050064,
          0.456097561,
          0.456097561,
          0.392939666,
          0.392939666,
          0.429781772,
          0.429781772,
          0.53928113,
          0.53928113,
          0.353145058,
          0.537740693,
          0.537740693,
          0.437098845,
          0.461874198,
          0.497432606,
          0.497432606,
          0.497432606,
          0.483953787,
          0.387933248,
          0.387933248,
          0.478562259,
          0.478562259,
          0.379460847,
          0.379460847,
          0.459691913,
          0.459691913,
          0.53491656,
          0.53491656,
          0.53491656,
          0.477663671,
          0.356097561,
          0.356097561,
          0.470346598,
          0.555969191,
          0.555969191,
          0.392554557,
          0.532092426,
          0.532092426,
          0.532092426,
          0.474197689,
          0.453401797,
          0.498716303,
          0.553786906,
          0.462516046,
          0.462516046,
          0.462516046,
          0.499101412,
          0.499101412,
          0.529910141,
          0.529910141,
          0.409884467,
          0.420410783,
          0.48241335,
          0.48241335,
          0.499486521,
          0.499486521,
          0.386136072,
          0.386136072,
          0.363286264,
          0.461360719,
          0.461360719,
          0.461360719,
          0.438254172,
          0.49127086,
          0.49127086,
          0.573042362,
          0.533119384,
          0.533119384,
          0.562002567,
          0.562002567,
          0.5,
          0.532991014,
          0.576251605,
          0.366752246,
          0.366752246,
          0.476379974,
          0.54801027,
          0.424903723,
          0.424903723,
          0.424903723,
          0.519512195,
          0.519512195,
          0.439922978,
          0.439922978,
          0.500513479,
          0.500513479,
          0.373042362,
          0.373042362,
          0.439666239,
          0.457637997,
          0.551091142,
          0.551091142,
          0.471758665,
          0.471758665,
          0.39127086,
          0.470860077,
          0.467650834,
          0.579845956,
          0.579845956,
          0.358408216,
          0.358408216,
          0.546983312,
          0.546983312,
          0.422721438,
          0.359691913,
          0.359691913,
          0.496919127,
          0.496919127,
          0.463029525,
          0.376636714,
          0.376636714,
          0.533376123,
          0.445314506,
          0.445314506,
          0.52156611,
          0.425802311,
          0.425802311,
          0.520924262,
          0.520924262,
          0.403080873,
          0.448780488,
          0.431964056,
          0.431964056,
          0.374197689,
          0.374197689,
          0.578818999,
          0.578818999,
          0.534403081,
          0.534403081,
          0.507317073,
          0.568806162,
          0.366110398,
          0.366110398,
          0.547240051,
          0.40012837,
          0.484724005,
          0.484724005,
          0.500898588,
          0.500898588,
          0.39987163,
          0.39987163,
          0.523620026,
          0.523620026,
          0.405263158,
          0.405263158,
          0.412451861,
          0.412451861,
          0.412451861,
          0.402310655,
          0.467522465,
          0.579974326,
          0.464569961,
          0.464569961,
          0.426700899,
          0.379717587,
          0.486521181,
          0.438382542,
          0.466752246,
          0.562644416,
          0.571887035,
          0.571887035,
          0.492554557,
          0.492554557,
          0.503979461,
          0.479204108,
          0.479204108,
          0.499614891,
          0.480616175,
          0.480616175,
          0.48267009,
          0.47830552,
          0.47830552,
          0.558023107,
          0.558023107,
          0.440821566,
          0.440821566,
          0.397560976,
          0.435686778,
          0.435686778,
          0.510654685,
          0.510654685,
          0.553401797,
          0.388831836,
          0.388831836,
          0.442490372,
          0.524390244,
          0.524390244,
          0.546084724,
          0.546084724,
          0.569191271,
          0.569191271,
          0.569191271,
          0.529653402,
          0.529653402,
          0.452759949,
          0.452759949,
          0.529139923,
          0.529139923,
          0.559691913,
          0.559691913,
          0.524518614,
          0.405134788,
          0.405134788,
          0.368934531,
          0.556097561,
          0.556097561,
          0.44775353,
          0.44775353,
          0.554813864
         ],
         "yaxis": "y"
        },
        {
         "hovertemplate": "gis_hpi_quartile_sd=1<br>vaccination_percentage_all=%{x}<br>hpi_pctile=%{y}<extra></extra>",
         "legendgroup": "1",
         "marker": {
          "color": "#ab63fa",
          "symbol": "circle"
         },
         "mode": "markers",
         "name": "1",
         "orientation": "v",
         "showlegend": true,
         "type": "scatter",
         "x": [
          "61.51937984",
          "61.68992248",
          "64.5523362",
          "64.63064474",
          "69.66771858",
          "69.90904028",
          "69.48553055",
          "69.51768489",
          "70.62239428",
          "66.65238809",
          "66.56671664",
          "75.98808342",
          "85.97386688",
          "86.09636586",
          "83.00552105",
          "83.10904072",
          "80.94117647",
          "73.94011976",
          "73.89221557",
          "87.88727137",
          "87.96192609",
          "64.14201183",
          "66.83535762",
          "66.98717949",
          "71.33879781",
          "71.58469945",
          "59.64052288",
          "80.32716315",
          "45.27186761",
          "45.21276596",
          "56.28468034",
          "85.70480195",
          "96.04435121",
          "96.06373008",
          "96.68228679",
          "84.20201294",
          "94.18372441",
          "94.85771343",
          "84.11552347",
          "83.70293966",
          "60.9801877",
          "61.16788321",
          "81.55626693",
          "73.28730749",
          "73.55284121",
          "87.38025055",
          "87.56448047",
          "94.66773848",
          "96.70076726",
          "81.71779141",
          "89.2412231",
          "89.0647482",
          "89.13669065",
          "98.60392968",
          "84.96158068",
          "85.42810099",
          "87.73234201",
          "87.96468401",
          "89.79355138",
          "64.9",
          "64.85",
          "75.01915709",
          "86.07646698",
          "78.27255278",
          "78.15738964",
          "57.70614184",
          "60.02306563",
          "49.35876356",
          "29.004329",
          "81.14149552",
          "81.03937365",
          "86.58066678",
          "88.99018233",
          "89.00771388",
          "51.55084999",
          "51.52102595",
          "36.89538808",
          "79.98365596",
          "58.59959211",
          "80.2184466",
          "80.33980583",
          "79.88678578",
          "80.18751106",
          "75.55028784",
          "75.70267525",
          "95.63340528",
          "96.13149593",
          "72.89800636",
          "73.04247327",
          "96.18448099",
          "86.50492798",
          "58.3972335",
          "74.56647399",
          "74.6190226",
          "75.12214984",
          "75.40716612",
          "81.43342601",
          "78.6628734",
          "78.47321005",
          "78.33096254",
          "88.20633562",
          "87.69263699",
          "87.90667808",
          "92.2750915",
          "92.21729917",
          "97.5233902",
          "97.78022381",
          "87.84704034",
          "89.32492408",
          "94.26934097",
          "88.97442947",
          "89.3868573",
          "90.73624017",
          "91.05075054",
          "91.5590594",
          "84.64941385",
          "72.83489097",
          "73.0529595",
          "75.74078022",
          "75.78341505",
          "68.30409357",
          "68.56140351",
          "90.08700237",
          "82.14539427",
          "82.35851291",
          "59.25848782",
          "59.40429077",
          "64.77329347",
          "64.96013951",
          "52.91564173",
          "52.98799016",
          "61.54786151",
          "68.41483581",
          "68.367588",
          "62.82051282",
          "63.49782293",
          "67.88321168",
          "76.13293051",
          "76.16314199",
          "64.70807685",
          "67.82196279",
          "68.07734404",
          "75.94192244",
          "76.07057526",
          "63.52096423",
          "66.14884903",
          "66.31831662",
          "63.73626374",
          "49.47878788",
          "49.57575758",
          "53.23596409",
          "53.08857028",
          "63.70967742",
          "63.99769585",
          "62.49458014",
          "62.02205356",
          "75.72009189",
          "64.99094203",
          "65.0513285",
          "49.78376375",
          "49.7096256",
          "65.41003304",
          "65.45509162",
          "74.12272104",
          "74.22074103",
          "73.84196185",
          "74.19618529",
          "69.85197677",
          "76.02684564",
          "76.14765101",
          "51.96775723",
          "52.29966809",
          "52.95597484",
          "67.10820575",
          "67.74471013",
          "80.01330967",
          "62.79346211",
          "62.24368499",
          "71.76742233",
          "72.76679842",
          "58.13577586",
          "70.31442663",
          "70.31365769",
          "69.05408743",
          "70.33835515",
          "52.93854415",
          "49.26280393",
          "49.34040352",
          "84.70786754",
          "85.34064543",
          "62.84356973",
          "62.80254777",
          "57.69958381",
          "30.86419753",
          "54.71306154",
          "53.05810398",
          "53.45948012",
          "82.00806156",
          "82.27678026",
          "43.94316684",
          "43.94316684",
          "83.68239356",
          "83.84349827"
         ],
         "xaxis": "x",
         "y": [
          0.292297818,
          0.292297818,
          0.110397946,
          0.110397946,
          0.078947368,
          0.078947368,
          0.2478819,
          0.2478819,
          0.072015404,
          0.335815148,
          0.335815148,
          0.045057766,
          0.301925546,
          0.301925546,
          0.309884467,
          0.309884467,
          0.122978177,
          0.202182285,
          0.202182285,
          0.329268293,
          0.329268293,
          0.046854942,
          0.082284981,
          0.082284981,
          0.064826701,
          0.064826701,
          0.255712452,
          0.265853659,
          0.146598203,
          0.146598203,
          0.162644416,
          0.140821566,
          0.275609756,
          0.325288832,
          0.325288832,
          0.206290116,
          0.227086008,
          0.227086008,
          0.286521181,
          0.286521181,
          0.245571245,
          0.245571245,
          0.137227214,
          0.106418485,
          0.106418485,
          0.066623877,
          0.066623877,
          0.170346598,
          0.125288832,
          0.052759949,
          0.100641849,
          0.088061617,
          0.088061617,
          0.118870347,
          0.06970475,
          0.06970475,
          0.126315789,
          0.126315789,
          0.122336329,
          0.138767651,
          0.138767651,
          0.107060334,
          0.124646983,
          0.084595635,
          0.084595635,
          0.179460847,
          0.288575096,
          0.294351733,
          0.028754814,
          0.316559692,
          0.316559692,
          0.346341463,
          0.270603338,
          0.270603338,
          0.31283697,
          0.31283697,
          0.097689345,
          0.303465982,
          0.323363286,
          0.188189987,
          0.188189987,
          0.271116816,
          0.271116816,
          0.267394095,
          0.267394095,
          0.221437741,
          0.221437741,
          0.187419769,
          0.187419769,
          0.193966624,
          0.112708601,
          0.198202824,
          0.150449294,
          0.150449294,
          0.315661104,
          0.315661104,
          0.285237484,
          0.210783055,
          0.210783055,
          0.210783055,
          0.133376123,
          0.133376123,
          0.133376123,
          0.220410783,
          0.220410783,
          0.246469833,
          0.246469833,
          0.298459564,
          0.349293967,
          0.239409499,
          0.332862644,
          0.332862644,
          0.193068036,
          0.193068036,
          0.26508344,
          0.341463415,
          0.276123235,
          0.276123235,
          0.290115533,
          0.290115533,
          0.121437741,
          0.121437741,
          0.316816431,
          0.324518614,
          0.324518614,
          0.138382542,
          0.138382542,
          0.334146341,
          0.334146341,
          0.201925546,
          0.201925546,
          0.03055199,
          0.329396662,
          0.329396662,
          0.156739409,
          0.156739409,
          0.223363286,
          0.110654685,
          0.110654685,
          0.284082157,
          0.177021823,
          0.177021823,
          0.193838254,
          0.193838254,
          0.242618742,
          0.238125802,
          0.238125802,
          0.270988447,
          0.326444159,
          0.326444159,
          0.326829268,
          0.326829268,
          0.272015404,
          0.272015404,
          0.19127086,
          0.222721438,
          0.30012837,
          0.314505777,
          0.314505777,
          0.284595635,
          0.284595635,
          0.290885751,
          0.290885751,
          0.332991014,
          0.332991014,
          0.089987163,
          0.089987163,
          0.17817715,
          0.232477535,
          0.232477535,
          0.204878049,
          0.204878049,
          0.161489089,
          0.197689345,
          0.197689345,
          0.321181001,
          0.130937099,
          0.130937099,
          0.22195122,
          0.167650834,
          0.196919127,
          0.207060334,
          0.116816431,
          0.116816431,
          0.116816431,
          0.027599487,
          0.180872914,
          0.180872914,
          0.25237484,
          0.25237484,
          0.234531451,
          0.319127086,
          0.337227214,
          0.222079589,
          0.128883184,
          0.129011553,
          0.129011553,
          0.155712452,
          0.155712452,
          0.114377407,
          0.114377407,
          0.23042362,
          0.23042362
         ],
         "yaxis": "y"
        }
       ],
       "layout": {
        "legend": {
         "title": {
          "text": "gis_hpi_quartile_sd"
         },
         "tracegroupgap": 0
        },
        "template": {
         "data": {
          "bar": [
           {
            "error_x": {
             "color": "#2a3f5f"
            },
            "error_y": {
             "color": "#2a3f5f"
            },
            "marker": {
             "line": {
              "color": "#E5ECF6",
              "width": 0.5
             },
             "pattern": {
              "fillmode": "overlay",
              "size": 10,
              "solidity": 0.2
             }
            },
            "type": "bar"
           }
          ],
          "barpolar": [
           {
            "marker": {
             "line": {
              "color": "#E5ECF6",
              "width": 0.5
             },
             "pattern": {
              "fillmode": "overlay",
              "size": 10,
              "solidity": 0.2
             }
            },
            "type": "barpolar"
           }
          ],
          "carpet": [
           {
            "aaxis": {
             "endlinecolor": "#2a3f5f",
             "gridcolor": "white",
             "linecolor": "white",
             "minorgridcolor": "white",
             "startlinecolor": "#2a3f5f"
            },
            "baxis": {
             "endlinecolor": "#2a3f5f",
             "gridcolor": "white",
             "linecolor": "white",
             "minorgridcolor": "white",
             "startlinecolor": "#2a3f5f"
            },
            "type": "carpet"
           }
          ],
          "choropleth": [
           {
            "colorbar": {
             "outlinewidth": 0,
             "ticks": ""
            },
            "type": "choropleth"
           }
          ],
          "contour": [
           {
            "colorbar": {
             "outlinewidth": 0,
             "ticks": ""
            },
            "colorscale": [
             [
              0,
              "#0d0887"
             ],
             [
              0.1111111111111111,
              "#46039f"
             ],
             [
              0.2222222222222222,
              "#7201a8"
             ],
             [
              0.3333333333333333,
              "#9c179e"
             ],
             [
              0.4444444444444444,
              "#bd3786"
             ],
             [
              0.5555555555555556,
              "#d8576b"
             ],
             [
              0.6666666666666666,
              "#ed7953"
             ],
             [
              0.7777777777777778,
              "#fb9f3a"
             ],
             [
              0.8888888888888888,
              "#fdca26"
             ],
             [
              1,
              "#f0f921"
             ]
            ],
            "type": "contour"
           }
          ],
          "contourcarpet": [
           {
            "colorbar": {
             "outlinewidth": 0,
             "ticks": ""
            },
            "type": "contourcarpet"
           }
          ],
          "heatmap": [
           {
            "colorbar": {
             "outlinewidth": 0,
             "ticks": ""
            },
            "colorscale": [
             [
              0,
              "#0d0887"
             ],
             [
              0.1111111111111111,
              "#46039f"
             ],
             [
              0.2222222222222222,
              "#7201a8"
             ],
             [
              0.3333333333333333,
              "#9c179e"
             ],
             [
              0.4444444444444444,
              "#bd3786"
             ],
             [
              0.5555555555555556,
              "#d8576b"
             ],
             [
              0.6666666666666666,
              "#ed7953"
             ],
             [
              0.7777777777777778,
              "#fb9f3a"
             ],
             [
              0.8888888888888888,
              "#fdca26"
             ],
             [
              1,
              "#f0f921"
             ]
            ],
            "type": "heatmap"
           }
          ],
          "heatmapgl": [
           {
            "colorbar": {
             "outlinewidth": 0,
             "ticks": ""
            },
            "colorscale": [
             [
              0,
              "#0d0887"
             ],
             [
              0.1111111111111111,
              "#46039f"
             ],
             [
              0.2222222222222222,
              "#7201a8"
             ],
             [
              0.3333333333333333,
              "#9c179e"
             ],
             [
              0.4444444444444444,
              "#bd3786"
             ],
             [
              0.5555555555555556,
              "#d8576b"
             ],
             [
              0.6666666666666666,
              "#ed7953"
             ],
             [
              0.7777777777777778,
              "#fb9f3a"
             ],
             [
              0.8888888888888888,
              "#fdca26"
             ],
             [
              1,
              "#f0f921"
             ]
            ],
            "type": "heatmapgl"
           }
          ],
          "histogram": [
           {
            "marker": {
             "pattern": {
              "fillmode": "overlay",
              "size": 10,
              "solidity": 0.2
             }
            },
            "type": "histogram"
           }
          ],
          "histogram2d": [
           {
            "colorbar": {
             "outlinewidth": 0,
             "ticks": ""
            },
            "colorscale": [
             [
              0,
              "#0d0887"
             ],
             [
              0.1111111111111111,
              "#46039f"
             ],
             [
              0.2222222222222222,
              "#7201a8"
             ],
             [
              0.3333333333333333,
              "#9c179e"
             ],
             [
              0.4444444444444444,
              "#bd3786"
             ],
             [
              0.5555555555555556,
              "#d8576b"
             ],
             [
              0.6666666666666666,
              "#ed7953"
             ],
             [
              0.7777777777777778,
              "#fb9f3a"
             ],
             [
              0.8888888888888888,
              "#fdca26"
             ],
             [
              1,
              "#f0f921"
             ]
            ],
            "type": "histogram2d"
           }
          ],
          "histogram2dcontour": [
           {
            "colorbar": {
             "outlinewidth": 0,
             "ticks": ""
            },
            "colorscale": [
             [
              0,
              "#0d0887"
             ],
             [
              0.1111111111111111,
              "#46039f"
             ],
             [
              0.2222222222222222,
              "#7201a8"
             ],
             [
              0.3333333333333333,
              "#9c179e"
             ],
             [
              0.4444444444444444,
              "#bd3786"
             ],
             [
              0.5555555555555556,
              "#d8576b"
             ],
             [
              0.6666666666666666,
              "#ed7953"
             ],
             [
              0.7777777777777778,
              "#fb9f3a"
             ],
             [
              0.8888888888888888,
              "#fdca26"
             ],
             [
              1,
              "#f0f921"
             ]
            ],
            "type": "histogram2dcontour"
           }
          ],
          "mesh3d": [
           {
            "colorbar": {
             "outlinewidth": 0,
             "ticks": ""
            },
            "type": "mesh3d"
           }
          ],
          "parcoords": [
           {
            "line": {
             "colorbar": {
              "outlinewidth": 0,
              "ticks": ""
             }
            },
            "type": "parcoords"
           }
          ],
          "pie": [
           {
            "automargin": true,
            "type": "pie"
           }
          ],
          "scatter": [
           {
            "fillpattern": {
             "fillmode": "overlay",
             "size": 10,
             "solidity": 0.2
            },
            "type": "scatter"
           }
          ],
          "scatter3d": [
           {
            "line": {
             "colorbar": {
              "outlinewidth": 0,
              "ticks": ""
             }
            },
            "marker": {
             "colorbar": {
              "outlinewidth": 0,
              "ticks": ""
             }
            },
            "type": "scatter3d"
           }
          ],
          "scattercarpet": [
           {
            "marker": {
             "colorbar": {
              "outlinewidth": 0,
              "ticks": ""
             }
            },
            "type": "scattercarpet"
           }
          ],
          "scattergeo": [
           {
            "marker": {
             "colorbar": {
              "outlinewidth": 0,
              "ticks": ""
             }
            },
            "type": "scattergeo"
           }
          ],
          "scattergl": [
           {
            "marker": {
             "colorbar": {
              "outlinewidth": 0,
              "ticks": ""
             }
            },
            "type": "scattergl"
           }
          ],
          "scattermapbox": [
           {
            "marker": {
             "colorbar": {
              "outlinewidth": 0,
              "ticks": ""
             }
            },
            "type": "scattermapbox"
           }
          ],
          "scatterpolar": [
           {
            "marker": {
             "colorbar": {
              "outlinewidth": 0,
              "ticks": ""
             }
            },
            "type": "scatterpolar"
           }
          ],
          "scatterpolargl": [
           {
            "marker": {
             "colorbar": {
              "outlinewidth": 0,
              "ticks": ""
             }
            },
            "type": "scatterpolargl"
           }
          ],
          "scatterternary": [
           {
            "marker": {
             "colorbar": {
              "outlinewidth": 0,
              "ticks": ""
             }
            },
            "type": "scatterternary"
           }
          ],
          "surface": [
           {
            "colorbar": {
             "outlinewidth": 0,
             "ticks": ""
            },
            "colorscale": [
             [
              0,
              "#0d0887"
             ],
             [
              0.1111111111111111,
              "#46039f"
             ],
             [
              0.2222222222222222,
              "#7201a8"
             ],
             [
              0.3333333333333333,
              "#9c179e"
             ],
             [
              0.4444444444444444,
              "#bd3786"
             ],
             [
              0.5555555555555556,
              "#d8576b"
             ],
             [
              0.6666666666666666,
              "#ed7953"
             ],
             [
              0.7777777777777778,
              "#fb9f3a"
             ],
             [
              0.8888888888888888,
              "#fdca26"
             ],
             [
              1,
              "#f0f921"
             ]
            ],
            "type": "surface"
           }
          ],
          "table": [
           {
            "cells": {
             "fill": {
              "color": "#EBF0F8"
             },
             "line": {
              "color": "white"
             }
            },
            "header": {
             "fill": {
              "color": "#C8D4E3"
             },
             "line": {
              "color": "white"
             }
            },
            "type": "table"
           }
          ]
         },
         "layout": {
          "annotationdefaults": {
           "arrowcolor": "#2a3f5f",
           "arrowhead": 0,
           "arrowwidth": 1
          },
          "autotypenumbers": "strict",
          "coloraxis": {
           "colorbar": {
            "outlinewidth": 0,
            "ticks": ""
           }
          },
          "colorscale": {
           "diverging": [
            [
             0,
             "#8e0152"
            ],
            [
             0.1,
             "#c51b7d"
            ],
            [
             0.2,
             "#de77ae"
            ],
            [
             0.3,
             "#f1b6da"
            ],
            [
             0.4,
             "#fde0ef"
            ],
            [
             0.5,
             "#f7f7f7"
            ],
            [
             0.6,
             "#e6f5d0"
            ],
            [
             0.7,
             "#b8e186"
            ],
            [
             0.8,
             "#7fbc41"
            ],
            [
             0.9,
             "#4d9221"
            ],
            [
             1,
             "#276419"
            ]
           ],
           "sequential": [
            [
             0,
             "#0d0887"
            ],
            [
             0.1111111111111111,
             "#46039f"
            ],
            [
             0.2222222222222222,
             "#7201a8"
            ],
            [
             0.3333333333333333,
             "#9c179e"
            ],
            [
             0.4444444444444444,
             "#bd3786"
            ],
            [
             0.5555555555555556,
             "#d8576b"
            ],
            [
             0.6666666666666666,
             "#ed7953"
            ],
            [
             0.7777777777777778,
             "#fb9f3a"
            ],
            [
             0.8888888888888888,
             "#fdca26"
            ],
            [
             1,
             "#f0f921"
            ]
           ],
           "sequentialminus": [
            [
             0,
             "#0d0887"
            ],
            [
             0.1111111111111111,
             "#46039f"
            ],
            [
             0.2222222222222222,
             "#7201a8"
            ],
            [
             0.3333333333333333,
             "#9c179e"
            ],
            [
             0.4444444444444444,
             "#bd3786"
            ],
            [
             0.5555555555555556,
             "#d8576b"
            ],
            [
             0.6666666666666666,
             "#ed7953"
            ],
            [
             0.7777777777777778,
             "#fb9f3a"
            ],
            [
             0.8888888888888888,
             "#fdca26"
            ],
            [
             1,
             "#f0f921"
            ]
           ]
          },
          "colorway": [
           "#636efa",
           "#EF553B",
           "#00cc96",
           "#ab63fa",
           "#FFA15A",
           "#19d3f3",
           "#FF6692",
           "#B6E880",
           "#FF97FF",
           "#FECB52"
          ],
          "font": {
           "color": "#2a3f5f"
          },
          "geo": {
           "bgcolor": "white",
           "lakecolor": "white",
           "landcolor": "#E5ECF6",
           "showlakes": true,
           "showland": true,
           "subunitcolor": "white"
          },
          "hoverlabel": {
           "align": "left"
          },
          "hovermode": "closest",
          "mapbox": {
           "style": "light"
          },
          "paper_bgcolor": "white",
          "plot_bgcolor": "#E5ECF6",
          "polar": {
           "angularaxis": {
            "gridcolor": "white",
            "linecolor": "white",
            "ticks": ""
           },
           "bgcolor": "#E5ECF6",
           "radialaxis": {
            "gridcolor": "white",
            "linecolor": "white",
            "ticks": ""
           }
          },
          "scene": {
           "xaxis": {
            "backgroundcolor": "#E5ECF6",
            "gridcolor": "white",
            "gridwidth": 2,
            "linecolor": "white",
            "showbackground": true,
            "ticks": "",
            "zerolinecolor": "white"
           },
           "yaxis": {
            "backgroundcolor": "#E5ECF6",
            "gridcolor": "white",
            "gridwidth": 2,
            "linecolor": "white",
            "showbackground": true,
            "ticks": "",
            "zerolinecolor": "white"
           },
           "zaxis": {
            "backgroundcolor": "#E5ECF6",
            "gridcolor": "white",
            "gridwidth": 2,
            "linecolor": "white",
            "showbackground": true,
            "ticks": "",
            "zerolinecolor": "white"
           }
          },
          "shapedefaults": {
           "line": {
            "color": "#2a3f5f"
           }
          },
          "ternary": {
           "aaxis": {
            "gridcolor": "white",
            "linecolor": "white",
            "ticks": ""
           },
           "baxis": {
            "gridcolor": "white",
            "linecolor": "white",
            "ticks": ""
           },
           "bgcolor": "#E5ECF6",
           "caxis": {
            "gridcolor": "white",
            "linecolor": "white",
            "ticks": ""
           }
          },
          "title": {
           "x": 0.05
          },
          "xaxis": {
           "automargin": true,
           "gridcolor": "white",
           "linecolor": "white",
           "ticks": "",
           "title": {
            "standoff": 15
           },
           "zerolinecolor": "white",
           "zerolinewidth": 2
          },
          "yaxis": {
           "automargin": true,
           "gridcolor": "white",
           "linecolor": "white",
           "ticks": "",
           "title": {
            "standoff": 15
           },
           "zerolinecolor": "white",
           "zerolinewidth": 2
          }
         }
        },
        "title": {
         "text": "Visual for Vaccination Percentage by HPI Percentile"
        },
        "xaxis": {
         "anchor": "y",
         "domain": [
          0,
          1
         ],
         "title": {
          "text": "vaccination_percentage_all"
         }
        },
        "yaxis": {
         "anchor": "x",
         "domain": [
          0,
          1
         ],
         "title": {
          "text": "hpi_pctile"
         }
        }
       }
      }
     },
     "metadata": {},
     "output_type": "display_data"
    },
    {
     "data": {
      "text/plain": [
       "<Figure size 640x480 with 0 Axes>"
      ]
     },
     "metadata": {},
     "output_type": "display_data"
    }
   ],
   "source": [
    "import matplotlib.pyplot as plt\n",
    "import plotly.express as px\n",
    "\n",
    "xfinal_joined = final_joined[final_joined['vaccination_percentage_all'] != '99']\n",
    "\n",
    "fig = px.scatter(xfinal_joined, x='vaccination_percentage_all', y='hpi_pctile', color='gis_hpi_quartile_sd', title='Visual for Vaccination Percentage by HPI Percentile')\n",
    "fig.show()\n",
    "plt.savefig('C:/Users/krist/Downloads/fig3.pdf')                        \n",
    "# \n"
   ]
  },
  {
   "cell_type": "code",
   "execution_count": 25,
   "metadata": {},
   "outputs": [
    {
     "data": {
      "application/vnd.plotly.v1+json": {
       "config": {
        "plotlyServerURL": "https://plot.ly"
       },
       "data": [
        {
         "hovertemplate": "gis_hpi_quartile_sd=4<br>vaccination_percentage_all=%{x}<br>voting_pctile=%{y}<extra></extra>",
         "legendgroup": "4",
         "marker": {
          "color": "#636efa",
          "symbol": "circle"
         },
         "mode": "markers",
         "name": "4",
         "orientation": "v",
         "showlegend": true,
         "type": "scatter",
         "x": [
          "86.3872744",
          "76.14080834",
          "76.14080834",
          "69.59861725",
          "69.63702708",
          "87.69771529",
          "87.60185333",
          "92.74778405",
          "71.91740413",
          "72.21238938",
          "71.76063304",
          "70.47939445",
          "70.60555088",
          "68.21520382",
          "71.60202972",
          "79.19297282",
          "79.57408518",
          "86.08233732",
          "86.10889774",
          "79.70425139",
          null,
          "80.77541828",
          "80.93629344",
          "80.98455598",
          "99",
          "80.55066432",
          "80.61469505",
          "87.74985157",
          "88.4987177",
          "67.3953316",
          "79.37102209",
          "79.46461999",
          "83.40792839",
          "90.18023617",
          "89.89020095",
          "68.8599847",
          "59.57308131",
          "84.2366757",
          "84.32700994",
          "62.53183902",
          "61.71340252",
          "61.97836167",
          "62.02252153",
          "83.03703704",
          "82.7037037",
          "68.28462516",
          "68.18297332",
          "69.34072968",
          "69.19138041",
          "74.15245087",
          "87.37402016",
          "87.31802912",
          "99",
          "99",
          "87.78106509",
          "88.01775148",
          "96.75395526",
          "96.83578833",
          "92.44971975",
          "90.66257355",
          "90.7904835",
          "91.10110803",
          "91.30886427",
          "91.20498615",
          "94.48740334",
          "94.56223497",
          "97.57756056",
          "97.83255419",
          "88.80782139",
          "88.98292719",
          "88.57049288",
          "88.66874079",
          "99",
          "84.87245942",
          "91.57523511",
          "91.81034483",
          "86.41453246",
          "86.39070876",
          "82.13910886",
          "85.7635893",
          "85.7635893",
          "95.21912351",
          "95.2689243",
          "90.17241379",
          "90.22988506",
          "98.31829368",
          "98.44134537",
          "92.31019346",
          "92.18656568",
          "92.2662946",
          "88.72611465",
          "88.72611465",
          "82.39046034",
          "82.77870216",
          "82.4181919",
          "92.1340388",
          "92.27513228",
          "99",
          "99",
          "77.53728629",
          "77.73735904",
          "79.46384246",
          "80.18018018",
          "80.2956803",
          "80.34188034",
          "81.94244604",
          "87.4910778",
          "73.23319379",
          "73.60256095",
          "73.40556513",
          "79.17091403",
          "79.3408087",
          "73.40363889",
          "74.86639676",
          "76.54936975",
          "76.60189076",
          "96.5242251",
          "96.43394523",
          "73.75036971",
          "73.82431233",
          "84.04012768",
          "84.33652531",
          "74.52667814",
          "74.84632407",
          "82.99399199",
          "82.99399199",
          "79.62535284",
          "79.72799589",
          "80.16422889",
          "89.9606852",
          "77.70436096",
          "79.83837547",
          "80.29423954",
          "86.36363636",
          "99",
          "99",
          "85.94612139",
          "86.27069133",
          null,
          null,
          "91.57264243",
          "76.55677656",
          "76.63003663",
          "71.22356495",
          "70.18771331",
          "71.19842829",
          "71.47347741",
          "63.27067669",
          "65.68357911",
          "65.80854786",
          "80.60053981",
          "75.63669837",
          "75.57532986",
          "89.55004591",
          "89.62350781",
          "94.32764363",
          "94.51498751",
          "82.71417741",
          "82.91635077",
          "84.07815275",
          "84.26287744",
          "95.38140021",
          "78.81010595",
          "78.83048085",
          "84.94558646",
          "85.09673519",
          "76.98577152",
          "83.20235756",
          "83.43565815",
          "85.3873815",
          "87.32792093",
          "87.75150018",
          "87.92372881",
          "88.02966102",
          "88.18834796",
          "88.2415536",
          "88.34796488",
          "87.06086096",
          "87.11034142",
          "82.5010491",
          "82.48006714",
          "85.09495492",
          "84.96067523",
          "83.27370304",
          "83.39296363",
          "77.90162774",
          "73.5460844",
          "80.19776216",
          "85.02449265",
          "84.91952414",
          "92.76202749",
          "92.71907216",
          "80.29006526",
          "80.42059463",
          "85.37407324",
          "85.12693777",
          "81.28911139",
          "82.19649562",
          "79.91279975",
          "79.75708502",
          "81.54046149",
          "81.5079623",
          "72.65260106",
          "81.08539505",
          "80.98563448",
          "95.5260722",
          "95.4026535",
          "76.94720335",
          "76.89492943",
          "79.73238882",
          "67.32704403",
          "67.16981132",
          "77.00232153",
          "77.17643645",
          "84.98216023",
          "84.98216023",
          "75.13649727",
          "75.26249475",
          "76.43210236",
          "81.53916628",
          "81.40174072",
          "56.60290389",
          "66.20858434",
          "60.9733124",
          "60.91051805",
          null,
          "78.23052679",
          "78.18550203",
          "80.36861426",
          "79.71856837",
          "64.09871602",
          "78.12046444",
          "71.6792622",
          "85.88023233",
          "85.72000801",
          "84.56999235",
          "84.52628128",
          "72.32882686",
          "77.05592105",
          "71.57573445",
          "74.85286249",
          "75.09363296",
          "81.91578594",
          "98.23714079",
          "94.91525424",
          "79.8020198",
          "79.7520248"
         ],
         "xaxis": "x",
         "y": [
          0.994865212,
          0.977663671,
          0.977663671,
          0.927599487,
          0.927599487,
          0.879075738,
          0.879075738,
          0.811424904,
          0.930808729,
          0.930808729,
          0.845186136,
          0.873042362,
          0.873042362,
          0.771887035,
          0.781899872,
          0.874197689,
          0.943132221,
          0.999229782,
          0.999229782,
          0.853016688,
          0.111938383,
          0.914890886,
          0.914890886,
          0.914890886,
          0.834274711,
          0.656225931,
          0.656225931,
          0.753145058,
          0.901540436,
          0.811039795,
          0.924261874,
          0.924261874,
          0.963543004,
          0.961489089,
          0.961489089,
          0.970089859,
          0.740179718,
          0.924133504,
          0.924133504,
          0.639537869,
          0.785750963,
          0.785750963,
          0.785750963,
          0.937997433,
          0.937997433,
          0.862772786,
          0.862772786,
          0.881001284,
          0.881001284,
          0.864441592,
          0.967522465,
          0.967522465,
          0.842875481,
          0.842875481,
          0.956996149,
          0.956996149,
          0.95198973,
          0.95198973,
          0.976379974,
          0.905519897,
          0.905519897,
          0.931578947,
          0.931578947,
          0.931578947,
          0.907830552,
          0.907830552,
          0.908985879,
          0.908985879,
          0.984210526,
          0.984210526,
          0.956739409,
          0.956739409,
          0.918100128,
          0.858279846,
          0.9563543,
          0.9563543,
          0.927471117,
          0.927471117,
          0.862387677,
          0.925288832,
          0.925288832,
          0.870218228,
          0.870218228,
          0.841720154,
          0.841720154,
          0.841206675,
          0.841206675,
          0.7521181,
          0.709756098,
          0.709756098,
          0.688446727,
          0.688446727,
          0.798074454,
          0.798074454,
          0.798074454,
          0.940179718,
          0.940179718,
          0.918998716,
          0.918998716,
          0.868421053,
          0.868421053,
          0.769833119,
          0.890885751,
          0.890885751,
          0.890885751,
          0.915789474,
          0.805263158,
          0.953401797,
          0.953401797,
          0.953401797,
          0.967650834,
          0.967650834,
          0.785622593,
          0.776251605,
          0.849550706,
          0.849550706,
          0.966752246,
          0.966752246,
          0.919768935,
          0.919768935,
          0.886136072,
          0.886136072,
          0.86071887,
          0.86071887,
          0.910911425,
          0.910911425,
          0.924390244,
          0.924390244,
          0.924390244,
          0.939922978,
          0.908344031,
          0.939409499,
          0.939409499,
          0.888318357,
          0.886521181,
          0.886521181,
          0.751091142,
          0.751091142,
          0.135044929,
          0.135044929,
          0.726957638,
          0.963799743,
          0.963799743,
          0.928883184,
          0.774197689,
          0.94351733,
          0.94351733,
          0.7478819,
          0.748523748,
          0.748523748,
          0.980231065,
          0.970603338,
          0.970603338,
          0.920924262,
          0.920924262,
          0.902695764,
          0.902695764,
          0.836328626,
          0.836328626,
          0.865468549,
          0.865468549,
          0.905648267,
          0.898973042,
          0.898973042,
          0.797946085,
          0.797946085,
          0.859435173,
          0.878947368,
          0.878947368,
          0.84351733,
          0.922593068,
          0.922593068,
          0.970988447,
          0.970988447,
          0.965982028,
          0.965982028,
          0.965982028,
          0.974454429,
          0.974454429,
          0.924005135,
          0.924005135,
          0.866752246,
          0.866752246,
          0.975224647,
          0.975224647,
          0.900898588,
          0.887548139,
          0.989473684,
          0.998716303,
          0.998716303,
          0.983568678,
          0.983568678,
          0.977406932,
          0.977406932,
          0.955840822,
          0.955840822,
          0.984595635,
          0.984595635,
          0.997304236,
          0.997304236,
          0.988446727,
          0.988446727,
          0.953145058,
          0.990885751,
          0.990885751,
          0.919383825,
          0.919383825,
          0.99127086,
          0.99127086,
          0.922336329,
          0.916688062,
          0.916688062,
          0.861489089,
          0.861489089,
          0.996277279,
          0.996277279,
          0.948138639,
          0.948138639,
          0.983697047,
          0.990243902,
          0.990243902,
          0.804107831,
          0.866880616,
          0.693068036,
          0.693068036,
          0.066623877,
          0.980744544,
          0.980744544,
          0.929011553,
          0.929011553,
          0.994351733,
          0.98254172,
          0.96071887,
          0.989730424,
          0.989730424,
          0.989345315,
          0.989345315,
          0.933119384,
          0.964569961,
          0.953786906,
          0.978690629,
          0.978690629,
          0.884980745,
          0.872785623,
          0.899486521,
          0.925160462,
          0.925160462
         ],
         "yaxis": "y"
        },
        {
         "hovertemplate": "gis_hpi_quartile_sd=3<br>vaccination_percentage_all=%{x}<br>voting_pctile=%{y}<extra></extra>",
         "legendgroup": "3",
         "marker": {
          "color": "#EF553B",
          "symbol": "circle"
         },
         "mode": "markers",
         "name": "3",
         "orientation": "v",
         "showlegend": true,
         "type": "scatter",
         "x": [
          "68.01530087",
          "68.05943799",
          "66.61425577",
          "66.85010482",
          "64.7819063",
          "64.82229402",
          "72.57318952",
          "78.01735472",
          "89.58403788",
          "84.28171642",
          "84.32835821",
          "93.6906756",
          "75.99230214",
          "76.01635795",
          "75.87202309",
          "75.8960789",
          "72.75846295",
          "72.55579171",
          "72.52922423",
          "68.762409",
          "69.98676373",
          "70.25148908",
          "70.24611577",
          "56.05464707",
          "48.76893939",
          "48.6584596",
          "63.81156317",
          "63.98809524",
          "64.01942356",
          "62.84221902",
          "67.33505821",
          "67.27037516",
          "68.64754098",
          "68.4682377",
          "62.95540659",
          "82.70920018",
          "88.03536889",
          "90.92548077",
          "90.98557692",
          "91.52644231",
          "95.4040404",
          "87.7672209",
          "87.82660333",
          "79.00978358",
          "89.35361217",
          "89.76552598",
          "88.94403088",
          "96.54589372",
          "97.48571429",
          "70.1771031",
          "70.24035421",
          "84.8361324",
          "79.83623337",
          "80.32436286",
          "80.73872087",
          "78.85802469",
          "81.33627019",
          "75.50592115",
          "68.32243238",
          "68.53455895",
          "74.819982",
          "74.93249325",
          "76.12138454",
          "69.23504353",
          "69.32765327",
          "80.86931656",
          "80.86931656",
          "60.50347222",
          "83.8028169",
          "81.58410299",
          "77.29866836",
          "77.4730501",
          "85.19708655",
          "85.47557841",
          "99",
          "99",
          "83.86203424",
          "83.96273917",
          "99",
          "99",
          "97.81775288",
          "97.80300796",
          "99",
          "99",
          "99",
          "99",
          "96.24884299",
          "96.19726679",
          "99",
          "86.4608076",
          "99",
          "99",
          "99",
          "69.85607676",
          "65.28749029",
          "73.11065497",
          "67.18386346",
          "72.42036011",
          "74.03921569",
          "72.96726505",
          "73.07286167",
          "72.27523857",
          "72.33802109",
          "73.75996457",
          "73.93711249",
          "74.83050847",
          "74.93644068",
          "74.7354783",
          "72.56979825",
          "72.7532097",
          "73.71621622",
          "74.07657658",
          "74.72723666",
          "56.99394755",
          "56.82582381",
          "60.90373281",
          "73.4561914",
          "76.54445003",
          "62.09009418",
          "66.87697161",
          "62.62192743",
          "66.64912281",
          "67.34589913",
          "61.42333537",
          "61.4335166",
          "71.78619756",
          "68.98203593",
          "69.19161677",
          "80.74170462",
          "80.80676643",
          "69.61074437",
          "79.6328928",
          "70.96131968",
          "71.21729238",
          "84.26889609",
          "72.46875",
          "73.95143488",
          "71.92844814",
          "72.11674251",
          "87.93831467",
          "81.31024342",
          "80.93448783",
          "76.17296661",
          "76.12884248",
          "76.65160926",
          "74.63427045",
          "74.57066531",
          "69.50904393",
          "68.04137382",
          "63.4319162",
          "41.84135977",
          "65.9688826",
          "65.95473833",
          "64.86065095",
          "64.92886377",
          "69.88861386",
          "52.25520432",
          "52.25520432",
          "81.98060235",
          "68.17174515",
          "68.22714681",
          "73.03754266",
          "64.55417833",
          "64.57417033",
          "88.90298034",
          "80.07988018",
          "72.79693487",
          "72.90142807",
          "71.93681724",
          "67.79479326",
          "69.30966469",
          "86.3076602",
          "70.42095835",
          "59.86543008",
          "69.4645047",
          "69.45087887",
          "69.58300343",
          "69.58300343",
          "76.52828467",
          "76.71076642",
          "80.23968785",
          "80.40691193",
          "69.2921531",
          "62.978659",
          "61.1308003",
          "73.1277533",
          "61.81235535",
          "76.80736417",
          "76.94207454",
          "74.12040657",
          "74.74589523",
          "71.68367347",
          "59.21385484",
          "49.33084345",
          "55.708038",
          "57.97446809",
          "57.99148936",
          "61.65667166",
          "59.28066795",
          "58.83108542",
          "89.93650794",
          "90.02116402",
          "90.14814815",
          "86.40739315",
          "86.40739315",
          "70.37315302",
          "70.24793388"
         ],
         "xaxis": "x",
         "y": [
          0.707445443,
          0.707445443,
          0.868934531,
          0.868934531,
          0.719897304,
          0.719897304,
          0.881258023,
          0.487419769,
          0.522593068,
          0.600641849,
          0.600641849,
          0.492426187,
          0.902310655,
          0.902310655,
          0.902310655,
          0.902310655,
          0.761232349,
          0.678690629,
          0.678690629,
          0.602952503,
          0.602952503,
          0.602952503,
          0.818485237,
          0.614762516,
          0.671373556,
          0.671373556,
          0.707060334,
          0.606033376,
          0.606033376,
          0.725417202,
          0.572272144,
          0.572272144,
          0.612580231,
          0.612580231,
          0.632349166,
          0.75661104,
          0.879589217,
          0.687933248,
          0.687933248,
          0.687933248,
          0.549037227,
          0.521437741,
          0.521437741,
          0.653915276,
          0.562130937,
          0.562130937,
          0.581129653,
          0.564698331,
          0.583825417,
          0.823234917,
          0.823234917,
          0.722336329,
          0.823491656,
          0.655840822,
          0.739666239,
          0.62605905,
          0.633119384,
          0.754557125,
          0.648138639,
          0.648138639,
          0.674326059,
          0.674326059,
          0.666880616,
          0.695121951,
          0.695121951,
          0.855455712,
          0.855455712,
          0.670860077,
          0.812708601,
          0.838510911,
          0.744159178,
          0.744159178,
          0.861617458,
          0.861617458,
          0.856739409,
          0.856739409,
          0.966495507,
          0.966495507,
          0.597432606,
          0.597432606,
          0.508344031,
          0.508344031,
          0.632605905,
          0.632605905,
          0.523491656,
          0.523491656,
          0.610397946,
          0.77394095,
          0.665982028,
          0.774967908,
          0.701412067,
          0.737098845,
          0.737098845,
          0.681129653,
          0.566880616,
          0.701668806,
          0.692811297,
          0.891784339,
          0.864955071,
          0.81732991,
          0.81732991,
          0.78254172,
          0.78254172,
          0.796919127,
          0.796919127,
          0.716046213,
          0.716046213,
          0.704749679,
          0.820154044,
          0.820154044,
          0.695250321,
          0.695250321,
          0.724390244,
          0.712451861,
          0.712451861,
          0.833889602,
          0.799614891,
          0.867265725,
          0.763157895,
          0.768164313,
          0.854428755,
          0.845057766,
          0.79563543,
          0.674839538,
          0.674839538,
          0.801797176,
          0.992426187,
          0.992426187,
          0.903337612,
          0.903337612,
          0.646341463,
          0.992811297,
          0.593838254,
          0.593838254,
          0.841463415,
          0.842618742,
          0.756739409,
          0.929653402,
          0.929653402,
          0.873555841,
          0.940308087,
          0.940308087,
          0.944929397,
          0.944929397,
          0.830937099,
          0.945442875,
          0.945442875,
          0.877920411,
          0.746469833,
          0.744801027,
          0.708344031,
          0.87843389,
          0.87843389,
          0.752759949,
          0.752759949,
          0.802695764,
          0.738767651,
          0.738767651,
          0.68279846,
          0.848267009,
          0.848267009,
          0.935686778,
          0.843260591,
          0.843260591,
          0.728883184,
          0.876123235,
          0.796405648,
          0.796405648,
          0.835044929,
          0.624005135,
          0.692041078,
          0.791912709,
          0.927984596,
          0.859050064,
          0.861103979,
          0.861103979,
          0.762387677,
          0.762387677,
          0.63902439,
          0.63902439,
          0.77830552,
          0.77830552,
          0.87804878,
          0.713735558,
          0.679332478,
          0.70860077,
          0.766880616,
          0.699101412,
          0.699101412,
          0.761745828,
          0.761745828,
          0.795121951,
          0.806675225,
          0.801925546,
          0.615275995,
          0.827471117,
          0.827471117,
          0.870860077,
          0.876893453,
          0.876893453,
          0.74762516,
          0.74762516,
          0.74762516,
          0.815275995,
          0.815275995,
          0.746084724,
          0.746084724
         ],
         "yaxis": "y"
        },
        {
         "hovertemplate": "gis_hpi_quartile_sd=2<br>vaccination_percentage_all=%{x}<br>voting_pctile=%{y}<extra></extra>",
         "legendgroup": "2",
         "marker": {
          "color": "#00cc96",
          "symbol": "circle"
         },
         "mode": "markers",
         "name": "2",
         "orientation": "v",
         "showlegend": true,
         "type": "scatter",
         "x": [
          "60.33994334",
          "60.39958253",
          "65.85960961",
          "65.87392083",
          "66.08568171",
          "69.98815767",
          "81.85212845",
          "91.5958222",
          "72.87915653",
          "73.00892133",
          "77.62096774",
          "77.48655914",
          "81.45285935",
          "81.47003263",
          "75.75828827",
          "75.8053139",
          "89.46814113",
          "89.81042654",
          "82.67834259",
          "82.76377616",
          "99",
          "99",
          "83.82544104",
          "82.97121634",
          "89.07407407",
          "90.80246914",
          "96.84186261",
          "96.9110189",
          "89.1533492",
          "89.59537572",
          "97.95131357",
          "96.33323555",
          "96.50924025",
          "83.00703579",
          "77.27697774",
          "80.05427408",
          "79.91858887",
          "80.02035278",
          "92.18832194",
          "70.88260135",
          "69.8902027",
          "79.25723087",
          "79.47971932",
          "73.96648045",
          "74.17597765",
          "67.69136182",
          "67.53765755",
          "64.75609756",
          "64.63414634",
          "64.59349593",
          "65.96873255",
          "82.4747743",
          "82.36856081",
          "80.80598917",
          "70.82018927",
          "70.80047319",
          "74.25608656",
          "69.48016664",
          "69.48016664",
          "69.5888426",
          "83.37518835",
          "51.09429884",
          "74.99118166",
          "83.61911711",
          "99",
          "99",
          "71.29149378",
          "71.47302905",
          "71.343361",
          "65.65992866",
          "65.5648038",
          "69.47436104",
          "69.44221186",
          "99",
          "99",
          "99",
          "99",
          "99",
          "90.47160731",
          "99",
          "99",
          "99",
          "80.75285682",
          "63.78986867",
          "63.91494684",
          "80.27376426",
          "80.34980989",
          "86.42676768",
          "86.71085859",
          "87.63969602",
          "85.71782178",
          "85.4950495",
          "85.54455446",
          "82.1745217",
          "88.0952381",
          "88.17527011",
          "99",
          "99",
          "99",
          "99",
          "99",
          "99",
          "99",
          "86.95161952",
          "88.20603908",
          null,
          "92.49603265",
          "92.36000907",
          "83.29297821",
          "77.16174975",
          "87.85513581",
          "64.33057851",
          "64.5785124",
          "81.55913978",
          "62.76375672",
          "68.9211542",
          "68.64546958",
          "68.88439625",
          "69.45558739",
          "69.62750716",
          "77.28371194",
          "77.13871435",
          "76.9540693",
          "77.03464948",
          "78.90803405",
          "78.99107328",
          "75.94405594",
          "77.84649986",
          "87.76595745",
          "88.00236407",
          "79.16068294",
          "79.43194511",
          "72.93483838",
          "77.58985201",
          "72.40890688",
          "66.747709",
          "66.85992145",
          "63.70396601",
          "63.95184136",
          "72.19858156",
          "72.28368794",
          "70.81312411",
          "77.76010181",
          "77.37830099",
          "69.12337662",
          "69.54545455",
          "72.08029197",
          "64.2126279",
          "63.98802096",
          "69.37789799",
          "59.62772786",
          "59.62772786",
          "67.35922052",
          "62.69239605",
          "62.94509534",
          "59.95394063",
          "60.10747185",
          "56.83673469",
          "60.81466395",
          "55.51943993",
          "55.63195399",
          "67.46209297",
          "67.81009197",
          "62.46462568",
          "62.13017751",
          "63.73703639",
          "62.96361399",
          "61.05779484",
          "58.64628821",
          "48.81744272",
          "48.7804878",
          "71.82320442",
          "74.97348887",
          "80.5985319",
          "80.60982496",
          "65.33641797",
          "65.3749759",
          "65.77605548",
          "65.61289007",
          "67.25325172",
          "67.45728131",
          "76.98019802",
          "77.12164074",
          "76.49726053",
          "77.4419044",
          "76.68618931",
          "66.73130791",
          "74.48961787",
          "73.93468496",
          "60.65662002",
          "60.73735199",
          "69.17562724",
          "62.93583824",
          "65.05301982",
          "99",
          "69.72918532",
          "51.84855234",
          "68.774659",
          "70.67712874",
          "70.67712874",
          "61.58989599",
          "61.58989599",
          "69.31311329",
          "64.8976378",
          "64.83464567",
          "80.37724369",
          "71.43564356",
          "71.38613861",
          "66.19301362",
          "69.09626719",
          "68.9194499",
          "63.07665011",
          "62.7217885",
          "57.49634325",
          "57.38664066",
          "69.97496016",
          "71.0597492",
          "71.47774773",
          "67.35717401",
          "67.53161797",
          "60.83626318",
          "56.67206915",
          "56.69908158",
          "73.49219392",
          "75.08796622",
          "75.11142388",
          "69.77099237",
          "69.98091603",
          "61.94288187",
          "62.2674167",
          "62.09433146",
          "70.17317136",
          "69.60454898",
          "66.43495531",
          "66.63356504",
          "79.54341987",
          "80.08057296",
          "70.93137255",
          "71.29901961",
          "64.10555815",
          "58.35301063",
          "58.4120425",
          "66.09977324",
          "47.49807544",
          "47.53656659",
          "41.53237207",
          "41.58891716",
          "50.89804186"
         ],
         "xaxis": "x",
         "y": [
          0.697304236,
          0.697304236,
          0.663286264,
          0.58279846,
          0.58279846,
          0.632862644,
          0.317715019,
          0.435815148,
          0.485365854,
          0.485365854,
          0.564955071,
          0.564955071,
          0.530680359,
          0.530680359,
          0.436456996,
          0.436456996,
          0.288446727,
          0.288446727,
          0.350834403,
          0.350834403,
          0.225032092,
          0.225032092,
          0.306675225,
          0.306675225,
          0.357252888,
          0.357252888,
          0.323620026,
          0.323620026,
          0.472143774,
          0.472143774,
          0.331322208,
          0.518613607,
          0.518613607,
          0.300385109,
          0.354428755,
          0.383440308,
          0.383440308,
          0.383440308,
          0.436842105,
          0.457637997,
          0.457637997,
          0.310269576,
          0.310269576,
          0.43029525,
          0.43029525,
          0.601925546,
          0.601925546,
          0.531450578,
          0.531450578,
          0.531450578,
          0.311681643,
          0.474582798,
          0.474582798,
          0.637483954,
          0.662130937,
          0.662130937,
          0.467394095,
          0.602182285,
          0.602182285,
          0.602182285,
          0.805648267,
          0.527086008,
          0.589730424,
          0.715661104,
          0.668164313,
          0.668164313,
          0.506033376,
          0.506033376,
          0.506033376,
          0.555969191,
          0.555969191,
          0.62593068,
          0.62593068,
          0.284595635,
          0.316174583,
          0.316174583,
          0.297432606,
          0.189216945,
          0.410012837,
          0.233247754,
          0.260077022,
          0.260077022,
          0.458536585,
          0.585109114,
          0.585109114,
          0.299743261,
          0.299743261,
          0.24338896,
          0.24338896,
          0.463414634,
          0.644159178,
          0.644159178,
          0.644159178,
          0.261745828,
          0.434274711,
          0.434274711,
          0.458793325,
          0.458793325,
          0.458793325,
          0.342105263,
          0.342105263,
          0.252631579,
          0.252631579,
          0.559178434,
          0.331450578,
          0.331450578,
          0.660205392,
          0.660205392,
          0.475866496,
          0.707188703,
          0.58254172,
          0.46957638,
          0.46957638,
          0.394865212,
          0.663029525,
          0.345571245,
          0.345571245,
          0.345571245,
          0.5957638,
          0.5957638,
          0.390372272,
          0.390372272,
          0.549422336,
          0.549422336,
          0.426444159,
          0.426444159,
          0.46970475,
          0.504621309,
          0.291014121,
          0.291014121,
          0.472785623,
          0.472785623,
          0.365982028,
          0.458664955,
          0.593453145,
          0.685237484,
          0.685237484,
          0.363414634,
          0.363414634,
          0.761617458,
          0.761617458,
          0.67817715,
          0.40436457,
          0.40436457,
          0.488960205,
          0.488960205,
          0.500256739,
          0.262130937,
          0.262130937,
          0.612708601,
          0.48241335,
          0.48241335,
          0.825160462,
          0.705905006,
          0.705905006,
          0.575866496,
          0.575866496,
          0.529268293,
          0.816559692,
          0.432477535,
          0.432477535,
          0.512580231,
          0.512580231,
          0.68254172,
          0.68254172,
          0.628883184,
          0.628883184,
          0.655712452,
          0.735044929,
          0.562644416,
          0.562644416,
          0.65224647,
          0.560462131,
          0.594094994,
          0.594094994,
          0.569833119,
          0.569833119,
          0.877663671,
          0.877663671,
          0.613607189,
          0.613607189,
          0.402182285,
          0.402182285,
          0.420025674,
          0.420025674,
          0.420025674,
          0.671887035,
          0.472015404,
          0.734531451,
          0.510012837,
          0.510012837,
          0.58690629,
          0.516046213,
          0.825673941,
          0.700256739,
          0.661874198,
          0.682284981,
          0.637355584,
          0.820410783,
          0.820410783,
          0.739922978,
          0.739922978,
          0.697946085,
          0.504107831,
          0.504107831,
          0.268934531,
          0.424518614,
          0.424518614,
          0.484852375,
          0.382028241,
          0.382028241,
          0.715275995,
          0.715275995,
          0.575994865,
          0.575994865,
          0.615147625,
          0.475353017,
          0.475353017,
          0.619255456,
          0.619255456,
          0.731578947,
          0.41732991,
          0.41732991,
          0.610654685,
          0.70449294,
          0.70449294,
          0.645314506,
          0.645314506,
          0.679589217,
          0.679589217,
          0.679589217,
          0.632734275,
          0.632734275,
          0.609499358,
          0.609499358,
          0.372143774,
          0.372143774,
          0.738510911,
          0.738510911,
          0.558023107,
          0.615661104,
          0.615661104,
          0.500641849,
          0.744672657,
          0.744672657,
          0.711296534,
          0.711296534,
          0.620025674
         ],
         "yaxis": "y"
        },
        {
         "hovertemplate": "gis_hpi_quartile_sd=1<br>vaccination_percentage_all=%{x}<br>voting_pctile=%{y}<extra></extra>",
         "legendgroup": "1",
         "marker": {
          "color": "#ab63fa",
          "symbol": "circle"
         },
         "mode": "markers",
         "name": "1",
         "orientation": "v",
         "showlegend": true,
         "type": "scatter",
         "x": [
          "61.51937984",
          "61.68992248",
          "64.5523362",
          "64.63064474",
          "69.66771858",
          "69.90904028",
          "69.48553055",
          "69.51768489",
          "70.62239428",
          "66.65238809",
          "66.56671664",
          "75.98808342",
          "85.97386688",
          "86.09636586",
          "83.00552105",
          "83.10904072",
          "80.94117647",
          "73.94011976",
          "73.89221557",
          "87.88727137",
          "87.96192609",
          "64.14201183",
          "66.83535762",
          "66.98717949",
          "71.33879781",
          "71.58469945",
          "59.64052288",
          "80.32716315",
          "45.27186761",
          "45.21276596",
          "56.28468034",
          "85.70480195",
          "96.04435121",
          "96.06373008",
          "96.68228679",
          "84.20201294",
          "94.18372441",
          "94.85771343",
          "84.11552347",
          "83.70293966",
          "60.9801877",
          "61.16788321",
          "99",
          "81.55626693",
          "73.28730749",
          "73.55284121",
          "87.38025055",
          "87.56448047",
          "94.66773848",
          "96.70076726",
          "81.71779141",
          "89.2412231",
          "89.0647482",
          "89.13669065",
          "99",
          "99",
          "99",
          "98.60392968",
          "84.96158068",
          "85.42810099",
          "87.73234201",
          "87.96468401",
          "89.79355138",
          "64.9",
          "64.85",
          "75.01915709",
          "86.07646698",
          "78.27255278",
          "78.15738964",
          "57.70614184",
          "60.02306563",
          "49.35876356",
          "29.004329",
          "81.14149552",
          "81.03937365",
          "86.58066678",
          "88.99018233",
          "89.00771388",
          "51.55084999",
          "51.52102595",
          "36.89538808",
          "99",
          "99",
          "99",
          "99",
          "99",
          "99",
          "99",
          "99",
          "79.98365596",
          "99",
          "99",
          "99",
          "99",
          "99",
          "99",
          "99",
          "58.59959211",
          "80.2184466",
          "80.33980583",
          "79.88678578",
          "80.18751106",
          "75.55028784",
          "75.70267525",
          "95.63340528",
          "96.13149593",
          "72.89800636",
          "73.04247327",
          "96.18448099",
          "86.50492798",
          "58.3972335",
          "74.56647399",
          "74.6190226",
          "75.12214984",
          "75.40716612",
          "81.43342601",
          "99",
          "99",
          "78.6628734",
          "78.47321005",
          "78.33096254",
          "99",
          "88.20633562",
          "87.69263699",
          "87.90667808",
          "92.2750915",
          "92.21729917",
          "97.5233902",
          "97.78022381",
          "87.84704034",
          "89.32492408",
          "94.26934097",
          "88.97442947",
          "89.3868573",
          "99",
          "99",
          "99",
          "99",
          "90.73624017",
          "91.05075054",
          "99",
          "99",
          "99",
          "91.5590594",
          "84.64941385",
          "99",
          "72.83489097",
          "73.0529595",
          "75.74078022",
          "75.78341505",
          "68.30409357",
          "68.56140351",
          "90.08700237",
          "82.14539427",
          "82.35851291",
          "59.25848782",
          "59.40429077",
          "64.77329347",
          "64.96013951",
          "52.91564173",
          "52.98799016",
          "61.54786151",
          "68.41483581",
          "68.367588",
          "62.82051282",
          "63.49782293",
          "67.88321168",
          "76.13293051",
          "76.16314199",
          "64.70807685",
          "67.82196279",
          "68.07734404",
          "75.94192244",
          "76.07057526",
          "63.52096423",
          "66.14884903",
          "66.31831662",
          "63.73626374",
          "49.47878788",
          "49.57575758",
          "53.23596409",
          "53.08857028",
          "63.70967742",
          "63.99769585",
          "62.49458014",
          "62.02205356",
          "75.72009189",
          "64.99094203",
          "65.0513285",
          "49.78376375",
          "49.7096256",
          "65.41003304",
          "65.45509162",
          "74.12272104",
          "74.22074103",
          "73.84196185",
          "74.19618529",
          "69.85197677",
          "76.02684564",
          "76.14765101",
          "51.96775723",
          "52.29966809",
          "52.95597484",
          "67.10820575",
          "67.74471013",
          "80.01330967",
          "62.79346211",
          "62.24368499",
          "71.76742233",
          "72.76679842",
          "58.13577586",
          "70.31442663",
          "70.31365769",
          "69.05408743",
          "70.33835515",
          "52.93854415",
          "49.26280393",
          "49.34040352",
          "84.70786754",
          "85.34064543",
          "62.84356973",
          "62.80254777",
          "57.69958381",
          "30.86419753",
          "54.71306154",
          "53.05810398",
          "53.45948012",
          "82.00806156",
          "82.27678026",
          "43.94316684",
          "43.94316684",
          "99",
          "99",
          "83.68239356",
          "83.84349827"
         ],
         "xaxis": "x",
         "y": [
          0.446854942,
          0.446854942,
          0.156739409,
          0.156739409,
          0.168549422,
          0.168549422,
          0.309242619,
          0.309242619,
          0.123748395,
          0.375353017,
          0.375353017,
          0.114120668,
          0.179974326,
          0.179974326,
          0.39127086,
          0.39127086,
          0.111938383,
          0.110783055,
          0.110783055,
          0.397560976,
          0.397560976,
          0.044030809,
          0.098973042,
          0.098973042,
          0.105134788,
          0.105134788,
          0.287419769,
          0.273427471,
          0.284210526,
          0.284210526,
          0.296919127,
          0.083183569,
          0.256225931,
          0.231835687,
          0.231835687,
          0.09550706,
          0.170860077,
          0.170860077,
          0.29127086,
          0.29127086,
          0.19139923,
          0.19139923,
          0.057766367,
          0.053273427,
          0.040436457,
          0.040436457,
          0.086136072,
          0.086136072,
          0.072143774,
          0.035430039,
          0.024261874,
          0.049293967,
          0.03465982,
          0.03465982,
          0.077663671,
          0.077663671,
          0.077663671,
          0.053915276,
          0.04351733,
          0.04351733,
          0.048652118,
          0.048652118,
          0.051861361,
          0.182156611,
          0.182156611,
          0.149807445,
          0.101283697,
          0.072913992,
          0.072913992,
          0.254428755,
          0.367137356,
          0.281001284,
          0.149679076,
          0.659948652,
          0.659948652,
          0.377150193,
          0.352759949,
          0.352759949,
          0.476123235,
          0.476123235,
          0.204878049,
          0.256867779,
          0.256867779,
          0.155712452,
          0.155712452,
          0.153530167,
          0.153530167,
          0.087933248,
          0.034531451,
          0.355198973,
          0.188061617,
          0.188061617,
          0.156996149,
          0.156996149,
          0.181899872,
          0.146726573,
          0.146726573,
          0.418356868,
          0.197560976,
          0.197560976,
          0.231065469,
          0.231065469,
          0.133376123,
          0.133376123,
          0.135044929,
          0.135044929,
          0.170218228,
          0.170218228,
          0.223876765,
          0.222336329,
          0.115532734,
          0.236713736,
          0.236713736,
          0.369833119,
          0.369833119,
          0.207317073,
          0.177535302,
          0.177535302,
          0.440949936,
          0.440949936,
          0.440949936,
          0.224261874,
          0.085237484,
          0.085237484,
          0.085237484,
          0.114634146,
          0.114634146,
          0.244544288,
          0.244544288,
          0.267008986,
          0.406161746,
          0.382926829,
          0.194865212,
          0.194865212,
          0.151476252,
          0.151476252,
          0.166238768,
          0.166238768,
          0.164313222,
          0.164313222,
          0.154043646,
          0.087676508,
          0.087676508,
          0.217843389,
          0.335815148,
          0.228112965,
          0.257124519,
          0.257124519,
          0.329525032,
          0.329525032,
          0.184082157,
          0.184082157,
          0.205905006,
          0.308985879,
          0.308985879,
          0.16084724,
          0.16084724,
          0.484082157,
          0.484082157,
          0.225288832,
          0.225288832,
          0.220154044,
          0.373170732,
          0.373170732,
          0.253530167,
          0.253530167,
          0.291784339,
          0.123620026,
          0.123620026,
          0.350064185,
          0.265596919,
          0.265596919,
          0.271630295,
          0.271630295,
          0.467779204,
          0.400898588,
          0.400898588,
          0.259563543,
          0.705519897,
          0.705519897,
          0.515532734,
          0.515532734,
          0.439409499,
          0.439409499,
          0.289473684,
          0.511553273,
          0.488446727,
          0.454557125,
          0.454557125,
          0.576379974,
          0.576379974,
          0.411810013,
          0.411810013,
          0.233119384,
          0.233119384,
          0.073170732,
          0.073170732,
          0.172913992,
          0.40872914,
          0.40872914,
          0.246213094,
          0.246213094,
          0.51745828,
          0.26957638,
          0.26957638,
          0.485622593,
          0.197432606,
          0.197432606,
          0.257252888,
          0.196790757,
          0.511039795,
          0.305648267,
          0.208087291,
          0.208087291,
          0.208087291,
          0.209499358,
          0.491912709,
          0.491912709,
          0.319255456,
          0.319255456,
          0.339794608,
          0.556097561,
          0.428112965,
          0.647111682,
          0.74351733,
          0.659178434,
          0.659178434,
          0.330680359,
          0.330680359,
          0.589216945,
          0.589216945,
          0.587676508,
          0.587676508,
          0.187548139,
          0.187548139
         ],
         "yaxis": "y"
        }
       ],
       "layout": {
        "legend": {
         "title": {
          "text": "gis_hpi_quartile_sd"
         },
         "tracegroupgap": 0
        },
        "template": {
         "data": {
          "bar": [
           {
            "error_x": {
             "color": "#2a3f5f"
            },
            "error_y": {
             "color": "#2a3f5f"
            },
            "marker": {
             "line": {
              "color": "#E5ECF6",
              "width": 0.5
             },
             "pattern": {
              "fillmode": "overlay",
              "size": 10,
              "solidity": 0.2
             }
            },
            "type": "bar"
           }
          ],
          "barpolar": [
           {
            "marker": {
             "line": {
              "color": "#E5ECF6",
              "width": 0.5
             },
             "pattern": {
              "fillmode": "overlay",
              "size": 10,
              "solidity": 0.2
             }
            },
            "type": "barpolar"
           }
          ],
          "carpet": [
           {
            "aaxis": {
             "endlinecolor": "#2a3f5f",
             "gridcolor": "white",
             "linecolor": "white",
             "minorgridcolor": "white",
             "startlinecolor": "#2a3f5f"
            },
            "baxis": {
             "endlinecolor": "#2a3f5f",
             "gridcolor": "white",
             "linecolor": "white",
             "minorgridcolor": "white",
             "startlinecolor": "#2a3f5f"
            },
            "type": "carpet"
           }
          ],
          "choropleth": [
           {
            "colorbar": {
             "outlinewidth": 0,
             "ticks": ""
            },
            "type": "choropleth"
           }
          ],
          "contour": [
           {
            "colorbar": {
             "outlinewidth": 0,
             "ticks": ""
            },
            "colorscale": [
             [
              0,
              "#0d0887"
             ],
             [
              0.1111111111111111,
              "#46039f"
             ],
             [
              0.2222222222222222,
              "#7201a8"
             ],
             [
              0.3333333333333333,
              "#9c179e"
             ],
             [
              0.4444444444444444,
              "#bd3786"
             ],
             [
              0.5555555555555556,
              "#d8576b"
             ],
             [
              0.6666666666666666,
              "#ed7953"
             ],
             [
              0.7777777777777778,
              "#fb9f3a"
             ],
             [
              0.8888888888888888,
              "#fdca26"
             ],
             [
              1,
              "#f0f921"
             ]
            ],
            "type": "contour"
           }
          ],
          "contourcarpet": [
           {
            "colorbar": {
             "outlinewidth": 0,
             "ticks": ""
            },
            "type": "contourcarpet"
           }
          ],
          "heatmap": [
           {
            "colorbar": {
             "outlinewidth": 0,
             "ticks": ""
            },
            "colorscale": [
             [
              0,
              "#0d0887"
             ],
             [
              0.1111111111111111,
              "#46039f"
             ],
             [
              0.2222222222222222,
              "#7201a8"
             ],
             [
              0.3333333333333333,
              "#9c179e"
             ],
             [
              0.4444444444444444,
              "#bd3786"
             ],
             [
              0.5555555555555556,
              "#d8576b"
             ],
             [
              0.6666666666666666,
              "#ed7953"
             ],
             [
              0.7777777777777778,
              "#fb9f3a"
             ],
             [
              0.8888888888888888,
              "#fdca26"
             ],
             [
              1,
              "#f0f921"
             ]
            ],
            "type": "heatmap"
           }
          ],
          "heatmapgl": [
           {
            "colorbar": {
             "outlinewidth": 0,
             "ticks": ""
            },
            "colorscale": [
             [
              0,
              "#0d0887"
             ],
             [
              0.1111111111111111,
              "#46039f"
             ],
             [
              0.2222222222222222,
              "#7201a8"
             ],
             [
              0.3333333333333333,
              "#9c179e"
             ],
             [
              0.4444444444444444,
              "#bd3786"
             ],
             [
              0.5555555555555556,
              "#d8576b"
             ],
             [
              0.6666666666666666,
              "#ed7953"
             ],
             [
              0.7777777777777778,
              "#fb9f3a"
             ],
             [
              0.8888888888888888,
              "#fdca26"
             ],
             [
              1,
              "#f0f921"
             ]
            ],
            "type": "heatmapgl"
           }
          ],
          "histogram": [
           {
            "marker": {
             "pattern": {
              "fillmode": "overlay",
              "size": 10,
              "solidity": 0.2
             }
            },
            "type": "histogram"
           }
          ],
          "histogram2d": [
           {
            "colorbar": {
             "outlinewidth": 0,
             "ticks": ""
            },
            "colorscale": [
             [
              0,
              "#0d0887"
             ],
             [
              0.1111111111111111,
              "#46039f"
             ],
             [
              0.2222222222222222,
              "#7201a8"
             ],
             [
              0.3333333333333333,
              "#9c179e"
             ],
             [
              0.4444444444444444,
              "#bd3786"
             ],
             [
              0.5555555555555556,
              "#d8576b"
             ],
             [
              0.6666666666666666,
              "#ed7953"
             ],
             [
              0.7777777777777778,
              "#fb9f3a"
             ],
             [
              0.8888888888888888,
              "#fdca26"
             ],
             [
              1,
              "#f0f921"
             ]
            ],
            "type": "histogram2d"
           }
          ],
          "histogram2dcontour": [
           {
            "colorbar": {
             "outlinewidth": 0,
             "ticks": ""
            },
            "colorscale": [
             [
              0,
              "#0d0887"
             ],
             [
              0.1111111111111111,
              "#46039f"
             ],
             [
              0.2222222222222222,
              "#7201a8"
             ],
             [
              0.3333333333333333,
              "#9c179e"
             ],
             [
              0.4444444444444444,
              "#bd3786"
             ],
             [
              0.5555555555555556,
              "#d8576b"
             ],
             [
              0.6666666666666666,
              "#ed7953"
             ],
             [
              0.7777777777777778,
              "#fb9f3a"
             ],
             [
              0.8888888888888888,
              "#fdca26"
             ],
             [
              1,
              "#f0f921"
             ]
            ],
            "type": "histogram2dcontour"
           }
          ],
          "mesh3d": [
           {
            "colorbar": {
             "outlinewidth": 0,
             "ticks": ""
            },
            "type": "mesh3d"
           }
          ],
          "parcoords": [
           {
            "line": {
             "colorbar": {
              "outlinewidth": 0,
              "ticks": ""
             }
            },
            "type": "parcoords"
           }
          ],
          "pie": [
           {
            "automargin": true,
            "type": "pie"
           }
          ],
          "scatter": [
           {
            "fillpattern": {
             "fillmode": "overlay",
             "size": 10,
             "solidity": 0.2
            },
            "type": "scatter"
           }
          ],
          "scatter3d": [
           {
            "line": {
             "colorbar": {
              "outlinewidth": 0,
              "ticks": ""
             }
            },
            "marker": {
             "colorbar": {
              "outlinewidth": 0,
              "ticks": ""
             }
            },
            "type": "scatter3d"
           }
          ],
          "scattercarpet": [
           {
            "marker": {
             "colorbar": {
              "outlinewidth": 0,
              "ticks": ""
             }
            },
            "type": "scattercarpet"
           }
          ],
          "scattergeo": [
           {
            "marker": {
             "colorbar": {
              "outlinewidth": 0,
              "ticks": ""
             }
            },
            "type": "scattergeo"
           }
          ],
          "scattergl": [
           {
            "marker": {
             "colorbar": {
              "outlinewidth": 0,
              "ticks": ""
             }
            },
            "type": "scattergl"
           }
          ],
          "scattermapbox": [
           {
            "marker": {
             "colorbar": {
              "outlinewidth": 0,
              "ticks": ""
             }
            },
            "type": "scattermapbox"
           }
          ],
          "scatterpolar": [
           {
            "marker": {
             "colorbar": {
              "outlinewidth": 0,
              "ticks": ""
             }
            },
            "type": "scatterpolar"
           }
          ],
          "scatterpolargl": [
           {
            "marker": {
             "colorbar": {
              "outlinewidth": 0,
              "ticks": ""
             }
            },
            "type": "scatterpolargl"
           }
          ],
          "scatterternary": [
           {
            "marker": {
             "colorbar": {
              "outlinewidth": 0,
              "ticks": ""
             }
            },
            "type": "scatterternary"
           }
          ],
          "surface": [
           {
            "colorbar": {
             "outlinewidth": 0,
             "ticks": ""
            },
            "colorscale": [
             [
              0,
              "#0d0887"
             ],
             [
              0.1111111111111111,
              "#46039f"
             ],
             [
              0.2222222222222222,
              "#7201a8"
             ],
             [
              0.3333333333333333,
              "#9c179e"
             ],
             [
              0.4444444444444444,
              "#bd3786"
             ],
             [
              0.5555555555555556,
              "#d8576b"
             ],
             [
              0.6666666666666666,
              "#ed7953"
             ],
             [
              0.7777777777777778,
              "#fb9f3a"
             ],
             [
              0.8888888888888888,
              "#fdca26"
             ],
             [
              1,
              "#f0f921"
             ]
            ],
            "type": "surface"
           }
          ],
          "table": [
           {
            "cells": {
             "fill": {
              "color": "#EBF0F8"
             },
             "line": {
              "color": "white"
             }
            },
            "header": {
             "fill": {
              "color": "#C8D4E3"
             },
             "line": {
              "color": "white"
             }
            },
            "type": "table"
           }
          ]
         },
         "layout": {
          "annotationdefaults": {
           "arrowcolor": "#2a3f5f",
           "arrowhead": 0,
           "arrowwidth": 1
          },
          "autotypenumbers": "strict",
          "coloraxis": {
           "colorbar": {
            "outlinewidth": 0,
            "ticks": ""
           }
          },
          "colorscale": {
           "diverging": [
            [
             0,
             "#8e0152"
            ],
            [
             0.1,
             "#c51b7d"
            ],
            [
             0.2,
             "#de77ae"
            ],
            [
             0.3,
             "#f1b6da"
            ],
            [
             0.4,
             "#fde0ef"
            ],
            [
             0.5,
             "#f7f7f7"
            ],
            [
             0.6,
             "#e6f5d0"
            ],
            [
             0.7,
             "#b8e186"
            ],
            [
             0.8,
             "#7fbc41"
            ],
            [
             0.9,
             "#4d9221"
            ],
            [
             1,
             "#276419"
            ]
           ],
           "sequential": [
            [
             0,
             "#0d0887"
            ],
            [
             0.1111111111111111,
             "#46039f"
            ],
            [
             0.2222222222222222,
             "#7201a8"
            ],
            [
             0.3333333333333333,
             "#9c179e"
            ],
            [
             0.4444444444444444,
             "#bd3786"
            ],
            [
             0.5555555555555556,
             "#d8576b"
            ],
            [
             0.6666666666666666,
             "#ed7953"
            ],
            [
             0.7777777777777778,
             "#fb9f3a"
            ],
            [
             0.8888888888888888,
             "#fdca26"
            ],
            [
             1,
             "#f0f921"
            ]
           ],
           "sequentialminus": [
            [
             0,
             "#0d0887"
            ],
            [
             0.1111111111111111,
             "#46039f"
            ],
            [
             0.2222222222222222,
             "#7201a8"
            ],
            [
             0.3333333333333333,
             "#9c179e"
            ],
            [
             0.4444444444444444,
             "#bd3786"
            ],
            [
             0.5555555555555556,
             "#d8576b"
            ],
            [
             0.6666666666666666,
             "#ed7953"
            ],
            [
             0.7777777777777778,
             "#fb9f3a"
            ],
            [
             0.8888888888888888,
             "#fdca26"
            ],
            [
             1,
             "#f0f921"
            ]
           ]
          },
          "colorway": [
           "#636efa",
           "#EF553B",
           "#00cc96",
           "#ab63fa",
           "#FFA15A",
           "#19d3f3",
           "#FF6692",
           "#B6E880",
           "#FF97FF",
           "#FECB52"
          ],
          "font": {
           "color": "#2a3f5f"
          },
          "geo": {
           "bgcolor": "white",
           "lakecolor": "white",
           "landcolor": "#E5ECF6",
           "showlakes": true,
           "showland": true,
           "subunitcolor": "white"
          },
          "hoverlabel": {
           "align": "left"
          },
          "hovermode": "closest",
          "mapbox": {
           "style": "light"
          },
          "paper_bgcolor": "white",
          "plot_bgcolor": "#E5ECF6",
          "polar": {
           "angularaxis": {
            "gridcolor": "white",
            "linecolor": "white",
            "ticks": ""
           },
           "bgcolor": "#E5ECF6",
           "radialaxis": {
            "gridcolor": "white",
            "linecolor": "white",
            "ticks": ""
           }
          },
          "scene": {
           "xaxis": {
            "backgroundcolor": "#E5ECF6",
            "gridcolor": "white",
            "gridwidth": 2,
            "linecolor": "white",
            "showbackground": true,
            "ticks": "",
            "zerolinecolor": "white"
           },
           "yaxis": {
            "backgroundcolor": "#E5ECF6",
            "gridcolor": "white",
            "gridwidth": 2,
            "linecolor": "white",
            "showbackground": true,
            "ticks": "",
            "zerolinecolor": "white"
           },
           "zaxis": {
            "backgroundcolor": "#E5ECF6",
            "gridcolor": "white",
            "gridwidth": 2,
            "linecolor": "white",
            "showbackground": true,
            "ticks": "",
            "zerolinecolor": "white"
           }
          },
          "shapedefaults": {
           "line": {
            "color": "#2a3f5f"
           }
          },
          "ternary": {
           "aaxis": {
            "gridcolor": "white",
            "linecolor": "white",
            "ticks": ""
           },
           "baxis": {
            "gridcolor": "white",
            "linecolor": "white",
            "ticks": ""
           },
           "bgcolor": "#E5ECF6",
           "caxis": {
            "gridcolor": "white",
            "linecolor": "white",
            "ticks": ""
           }
          },
          "title": {
           "x": 0.05
          },
          "xaxis": {
           "automargin": true,
           "gridcolor": "white",
           "linecolor": "white",
           "ticks": "",
           "title": {
            "standoff": 15
           },
           "zerolinecolor": "white",
           "zerolinewidth": 2
          },
          "yaxis": {
           "automargin": true,
           "gridcolor": "white",
           "linecolor": "white",
           "ticks": "",
           "title": {
            "standoff": 15
           },
           "zerolinecolor": "white",
           "zerolinewidth": 2
          }
         }
        },
        "title": {
         "text": "Visual for Vaccination Percentage by Voting Percentile"
        },
        "xaxis": {
         "anchor": "y",
         "domain": [
          0,
          1
         ],
         "title": {
          "text": "vaccination_percentage_all"
         }
        },
        "yaxis": {
         "anchor": "x",
         "domain": [
          0,
          1
         ],
         "title": {
          "text": "voting_pctile"
         }
        }
       }
      }
     },
     "metadata": {},
     "output_type": "display_data"
    },
    {
     "data": {
      "text/plain": [
       "voting                        float64\n",
       "voting_pctile                 float64\n",
       "NAME                           object\n",
       "GEO_ID                          int64\n",
       "county                         object\n",
       "pop                             int64\n",
       "hpi_pctile                    float64\n",
       "hpi_quartile                  float64\n",
       "hpi_least_healthy_25pct        object\n",
       "economic_pctile               float64\n",
       "census_tract                   object\n",
       "gis_hpi_quartile_sd            object\n",
       "vaccination_percentage_all     object\n",
       "update_date                    object\n",
       "dtype: object"
      ]
     },
     "execution_count": 25,
     "metadata": {},
     "output_type": "execute_result"
    }
   ],
   "source": [
    "main_trend = px.scatter(final_joined, x='vaccination_percentage_all', y='voting_pctile', color='gis_hpi_quartile_sd', title='Visual for Vaccination Percentage by Voting Percentile')\n",
    "main_trend.show()\n",
    "\n",
    "final_joined.dtypes"
   ]
  },
  {
   "cell_type": "code",
   "execution_count": 33,
   "metadata": {},
   "outputs": [
    {
     "data": {
      "application/vnd.plotly.v1+json": {
       "config": {
        "plotlyServerURL": "https://plot.ly"
       },
       "data": [
        {
         "hovertemplate": "gis_hpi_quartile_sd=4<br>vaccination_percentage_all=%{x}<br>voting_pctile=%{y}<extra></extra>",
         "legendgroup": "4",
         "marker": {
          "color": "#636efa",
          "symbol": "circle"
         },
         "mode": "markers",
         "name": "4",
         "orientation": "v",
         "showlegend": true,
         "type": "scatter",
         "x": [
          "86.3872744",
          "76.14080834",
          "76.14080834",
          "69.59861725",
          "69.63702708",
          "87.69771529",
          "87.60185333",
          "92.74778405",
          "71.91740413",
          "72.21238938",
          "71.76063304",
          "70.47939445",
          "70.60555088",
          "68.21520382",
          "71.60202972",
          "79.19297282",
          "79.57408518",
          "86.08233732",
          "86.10889774",
          "79.70425139",
          null,
          "80.77541828",
          "80.93629344",
          "80.98455598",
          "99",
          "80.55066432",
          "80.61469505",
          "87.74985157",
          "88.4987177",
          "67.3953316",
          "79.37102209",
          "79.46461999",
          "83.40792839",
          "90.18023617",
          "89.89020095",
          "68.8599847",
          "59.57308131",
          "84.2366757",
          "84.32700994",
          "62.53183902",
          "61.71340252",
          "61.97836167",
          "62.02252153",
          "83.03703704",
          "82.7037037",
          "68.28462516",
          "68.18297332",
          "69.34072968",
          "69.19138041",
          "74.15245087",
          "87.37402016",
          "87.31802912",
          "99",
          "99",
          "87.78106509",
          "88.01775148",
          "96.75395526",
          "96.83578833",
          "92.44971975",
          "90.66257355",
          "90.7904835",
          "91.10110803",
          "91.30886427",
          "91.20498615",
          "94.48740334",
          "94.56223497",
          "97.57756056",
          "97.83255419",
          "88.80782139",
          "88.98292719",
          "88.57049288",
          "88.66874079",
          "99",
          "84.87245942",
          "91.57523511",
          "91.81034483",
          "86.41453246",
          "86.39070876",
          "82.13910886",
          "85.7635893",
          "85.7635893",
          "95.21912351",
          "95.2689243",
          "90.17241379",
          "90.22988506",
          "98.31829368",
          "98.44134537",
          "92.31019346",
          "92.18656568",
          "92.2662946",
          "88.72611465",
          "88.72611465",
          "82.39046034",
          "82.77870216",
          "82.4181919",
          "92.1340388",
          "92.27513228",
          "99",
          "99",
          "77.53728629",
          "77.73735904",
          "79.46384246",
          "80.18018018",
          "80.2956803",
          "80.34188034",
          "81.94244604",
          "87.4910778",
          "73.23319379",
          "73.60256095",
          "73.40556513",
          "79.17091403",
          "79.3408087",
          "73.40363889",
          "74.86639676",
          "76.54936975",
          "76.60189076",
          "96.5242251",
          "96.43394523",
          "73.75036971",
          "73.82431233",
          "84.04012768",
          "84.33652531",
          "74.52667814",
          "74.84632407",
          "82.99399199",
          "82.99399199",
          "79.62535284",
          "79.72799589",
          "80.16422889",
          "89.9606852",
          "77.70436096",
          "79.83837547",
          "80.29423954",
          "86.36363636",
          "99",
          "99",
          "85.94612139",
          "86.27069133",
          null,
          null,
          "91.57264243",
          "76.55677656",
          "76.63003663",
          "71.22356495",
          "70.18771331",
          "71.19842829",
          "71.47347741",
          "63.27067669",
          "65.68357911",
          "65.80854786",
          "80.60053981",
          "75.63669837",
          "75.57532986",
          "89.55004591",
          "89.62350781",
          "94.32764363",
          "94.51498751",
          "82.71417741",
          "82.91635077",
          "84.07815275",
          "84.26287744",
          "95.38140021",
          "78.81010595",
          "78.83048085",
          "84.94558646",
          "85.09673519",
          "76.98577152",
          "83.20235756",
          "83.43565815",
          "85.3873815",
          "87.32792093",
          "87.75150018",
          "87.92372881",
          "88.02966102",
          "88.18834796",
          "88.2415536",
          "88.34796488",
          "87.06086096",
          "87.11034142",
          "82.5010491",
          "82.48006714",
          "85.09495492",
          "84.96067523",
          "83.27370304",
          "83.39296363",
          "77.90162774",
          "73.5460844",
          "80.19776216",
          "85.02449265",
          "84.91952414",
          "92.76202749",
          "92.71907216",
          "80.29006526",
          "80.42059463",
          "85.37407324",
          "85.12693777",
          "81.28911139",
          "82.19649562",
          "79.91279975",
          "79.75708502",
          "81.54046149",
          "81.5079623",
          "72.65260106",
          "81.08539505",
          "80.98563448",
          "95.5260722",
          "95.4026535",
          "76.94720335",
          "76.89492943",
          "79.73238882",
          "67.32704403",
          "67.16981132",
          "77.00232153",
          "77.17643645",
          "84.98216023",
          "84.98216023",
          "75.13649727",
          "75.26249475",
          "76.43210236",
          "81.53916628",
          "81.40174072",
          "56.60290389",
          "66.20858434",
          "60.9733124",
          "60.91051805",
          null,
          "78.23052679",
          "78.18550203",
          "80.36861426",
          "79.71856837",
          "64.09871602",
          "78.12046444",
          "71.6792622",
          "85.88023233",
          "85.72000801",
          "84.56999235",
          "84.52628128",
          "72.32882686",
          "77.05592105",
          "71.57573445",
          "74.85286249",
          "75.09363296",
          "81.91578594",
          "98.23714079",
          "94.91525424",
          "79.8020198",
          "79.7520248"
         ],
         "xaxis": "x",
         "y": [
          0.994865212,
          0.977663671,
          0.977663671,
          0.927599487,
          0.927599487,
          0.879075738,
          0.879075738,
          0.811424904,
          0.930808729,
          0.930808729,
          0.845186136,
          0.873042362,
          0.873042362,
          0.771887035,
          0.781899872,
          0.874197689,
          0.943132221,
          0.999229782,
          0.999229782,
          0.853016688,
          0.111938383,
          0.914890886,
          0.914890886,
          0.914890886,
          0.834274711,
          0.656225931,
          0.656225931,
          0.753145058,
          0.901540436,
          0.811039795,
          0.924261874,
          0.924261874,
          0.963543004,
          0.961489089,
          0.961489089,
          0.970089859,
          0.740179718,
          0.924133504,
          0.924133504,
          0.639537869,
          0.785750963,
          0.785750963,
          0.785750963,
          0.937997433,
          0.937997433,
          0.862772786,
          0.862772786,
          0.881001284,
          0.881001284,
          0.864441592,
          0.967522465,
          0.967522465,
          0.842875481,
          0.842875481,
          0.956996149,
          0.956996149,
          0.95198973,
          0.95198973,
          0.976379974,
          0.905519897,
          0.905519897,
          0.931578947,
          0.931578947,
          0.931578947,
          0.907830552,
          0.907830552,
          0.908985879,
          0.908985879,
          0.984210526,
          0.984210526,
          0.956739409,
          0.956739409,
          0.918100128,
          0.858279846,
          0.9563543,
          0.9563543,
          0.927471117,
          0.927471117,
          0.862387677,
          0.925288832,
          0.925288832,
          0.870218228,
          0.870218228,
          0.841720154,
          0.841720154,
          0.841206675,
          0.841206675,
          0.7521181,
          0.709756098,
          0.709756098,
          0.688446727,
          0.688446727,
          0.798074454,
          0.798074454,
          0.798074454,
          0.940179718,
          0.940179718,
          0.918998716,
          0.918998716,
          0.868421053,
          0.868421053,
          0.769833119,
          0.890885751,
          0.890885751,
          0.890885751,
          0.915789474,
          0.805263158,
          0.953401797,
          0.953401797,
          0.953401797,
          0.967650834,
          0.967650834,
          0.785622593,
          0.776251605,
          0.849550706,
          0.849550706,
          0.966752246,
          0.966752246,
          0.919768935,
          0.919768935,
          0.886136072,
          0.886136072,
          0.86071887,
          0.86071887,
          0.910911425,
          0.910911425,
          0.924390244,
          0.924390244,
          0.924390244,
          0.939922978,
          0.908344031,
          0.939409499,
          0.939409499,
          0.888318357,
          0.886521181,
          0.886521181,
          0.751091142,
          0.751091142,
          0.135044929,
          0.135044929,
          0.726957638,
          0.963799743,
          0.963799743,
          0.928883184,
          0.774197689,
          0.94351733,
          0.94351733,
          0.7478819,
          0.748523748,
          0.748523748,
          0.980231065,
          0.970603338,
          0.970603338,
          0.920924262,
          0.920924262,
          0.902695764,
          0.902695764,
          0.836328626,
          0.836328626,
          0.865468549,
          0.865468549,
          0.905648267,
          0.898973042,
          0.898973042,
          0.797946085,
          0.797946085,
          0.859435173,
          0.878947368,
          0.878947368,
          0.84351733,
          0.922593068,
          0.922593068,
          0.970988447,
          0.970988447,
          0.965982028,
          0.965982028,
          0.965982028,
          0.974454429,
          0.974454429,
          0.924005135,
          0.924005135,
          0.866752246,
          0.866752246,
          0.975224647,
          0.975224647,
          0.900898588,
          0.887548139,
          0.989473684,
          0.998716303,
          0.998716303,
          0.983568678,
          0.983568678,
          0.977406932,
          0.977406932,
          0.955840822,
          0.955840822,
          0.984595635,
          0.984595635,
          0.997304236,
          0.997304236,
          0.988446727,
          0.988446727,
          0.953145058,
          0.990885751,
          0.990885751,
          0.919383825,
          0.919383825,
          0.99127086,
          0.99127086,
          0.922336329,
          0.916688062,
          0.916688062,
          0.861489089,
          0.861489089,
          0.996277279,
          0.996277279,
          0.948138639,
          0.948138639,
          0.983697047,
          0.990243902,
          0.990243902,
          0.804107831,
          0.866880616,
          0.693068036,
          0.693068036,
          0.066623877,
          0.980744544,
          0.980744544,
          0.929011553,
          0.929011553,
          0.994351733,
          0.98254172,
          0.96071887,
          0.989730424,
          0.989730424,
          0.989345315,
          0.989345315,
          0.933119384,
          0.964569961,
          0.953786906,
          0.978690629,
          0.978690629,
          0.884980745,
          0.872785623,
          0.899486521,
          0.925160462,
          0.925160462
         ],
         "yaxis": "y"
        },
        {
         "hovertemplate": "gis_hpi_quartile_sd=3<br>vaccination_percentage_all=%{x}<br>voting_pctile=%{y}<extra></extra>",
         "legendgroup": "3",
         "marker": {
          "color": "#EF553B",
          "symbol": "circle"
         },
         "mode": "markers",
         "name": "3",
         "orientation": "v",
         "showlegend": true,
         "type": "scatter",
         "x": [
          "68.01530087",
          "68.05943799",
          "66.61425577",
          "66.85010482",
          "64.7819063",
          "64.82229402",
          "72.57318952",
          "78.01735472",
          "89.58403788",
          "84.28171642",
          "84.32835821",
          "93.6906756",
          "75.99230214",
          "76.01635795",
          "75.87202309",
          "75.8960789",
          "72.75846295",
          "72.55579171",
          "72.52922423",
          "68.762409",
          "69.98676373",
          "70.25148908",
          "70.24611577",
          "56.05464707",
          "48.76893939",
          "48.6584596",
          "63.81156317",
          "63.98809524",
          "64.01942356",
          "62.84221902",
          "67.33505821",
          "67.27037516",
          "68.64754098",
          "68.4682377",
          "62.95540659",
          "82.70920018",
          "88.03536889",
          "90.92548077",
          "90.98557692",
          "91.52644231",
          "95.4040404",
          "87.7672209",
          "87.82660333",
          "79.00978358",
          "89.35361217",
          "89.76552598",
          "88.94403088",
          "96.54589372",
          "97.48571429",
          "70.1771031",
          "70.24035421",
          "84.8361324",
          "79.83623337",
          "80.32436286",
          "80.73872087",
          "78.85802469",
          "81.33627019",
          "75.50592115",
          "68.32243238",
          "68.53455895",
          "74.819982",
          "74.93249325",
          "76.12138454",
          "69.23504353",
          "69.32765327",
          "80.86931656",
          "80.86931656",
          "60.50347222",
          "83.8028169",
          "81.58410299",
          "77.29866836",
          "77.4730501",
          "85.19708655",
          "85.47557841",
          "99",
          "99",
          "83.86203424",
          "83.96273917",
          "99",
          "99",
          "97.81775288",
          "97.80300796",
          "99",
          "99",
          "99",
          "99",
          "96.24884299",
          "96.19726679",
          "99",
          "86.4608076",
          "99",
          "99",
          "99",
          "69.85607676",
          "65.28749029",
          "73.11065497",
          "67.18386346",
          "72.42036011",
          "74.03921569",
          "72.96726505",
          "73.07286167",
          "72.27523857",
          "72.33802109",
          "73.75996457",
          "73.93711249",
          "74.83050847",
          "74.93644068",
          "74.7354783",
          "72.56979825",
          "72.7532097",
          "73.71621622",
          "74.07657658",
          "74.72723666",
          "56.99394755",
          "56.82582381",
          "60.90373281",
          "73.4561914",
          "76.54445003",
          "62.09009418",
          "66.87697161",
          "62.62192743",
          "66.64912281",
          "67.34589913",
          "61.42333537",
          "61.4335166",
          "71.78619756",
          "68.98203593",
          "69.19161677",
          "80.74170462",
          "80.80676643",
          "69.61074437",
          "79.6328928",
          "70.96131968",
          "71.21729238",
          "84.26889609",
          "72.46875",
          "73.95143488",
          "71.92844814",
          "72.11674251",
          "87.93831467",
          "81.31024342",
          "80.93448783",
          "76.17296661",
          "76.12884248",
          "76.65160926",
          "74.63427045",
          "74.57066531",
          "69.50904393",
          "68.04137382",
          "63.4319162",
          "41.84135977",
          "65.9688826",
          "65.95473833",
          "64.86065095",
          "64.92886377",
          "69.88861386",
          "52.25520432",
          "52.25520432",
          "81.98060235",
          "68.17174515",
          "68.22714681",
          "73.03754266",
          "64.55417833",
          "64.57417033",
          "88.90298034",
          "80.07988018",
          "72.79693487",
          "72.90142807",
          "71.93681724",
          "67.79479326",
          "69.30966469",
          "86.3076602",
          "70.42095835",
          "59.86543008",
          "69.4645047",
          "69.45087887",
          "69.58300343",
          "69.58300343",
          "76.52828467",
          "76.71076642",
          "80.23968785",
          "80.40691193",
          "69.2921531",
          "62.978659",
          "61.1308003",
          "73.1277533",
          "61.81235535",
          "76.80736417",
          "76.94207454",
          "74.12040657",
          "74.74589523",
          "71.68367347",
          "59.21385484",
          "49.33084345",
          "55.708038",
          "57.97446809",
          "57.99148936",
          "61.65667166",
          "59.28066795",
          "58.83108542",
          "89.93650794",
          "90.02116402",
          "90.14814815",
          "86.40739315",
          "86.40739315",
          "70.37315302",
          "70.24793388"
         ],
         "xaxis": "x",
         "y": [
          0.707445443,
          0.707445443,
          0.868934531,
          0.868934531,
          0.719897304,
          0.719897304,
          0.881258023,
          0.487419769,
          0.522593068,
          0.600641849,
          0.600641849,
          0.492426187,
          0.902310655,
          0.902310655,
          0.902310655,
          0.902310655,
          0.761232349,
          0.678690629,
          0.678690629,
          0.602952503,
          0.602952503,
          0.602952503,
          0.818485237,
          0.614762516,
          0.671373556,
          0.671373556,
          0.707060334,
          0.606033376,
          0.606033376,
          0.725417202,
          0.572272144,
          0.572272144,
          0.612580231,
          0.612580231,
          0.632349166,
          0.75661104,
          0.879589217,
          0.687933248,
          0.687933248,
          0.687933248,
          0.549037227,
          0.521437741,
          0.521437741,
          0.653915276,
          0.562130937,
          0.562130937,
          0.581129653,
          0.564698331,
          0.583825417,
          0.823234917,
          0.823234917,
          0.722336329,
          0.823491656,
          0.655840822,
          0.739666239,
          0.62605905,
          0.633119384,
          0.754557125,
          0.648138639,
          0.648138639,
          0.674326059,
          0.674326059,
          0.666880616,
          0.695121951,
          0.695121951,
          0.855455712,
          0.855455712,
          0.670860077,
          0.812708601,
          0.838510911,
          0.744159178,
          0.744159178,
          0.861617458,
          0.861617458,
          0.856739409,
          0.856739409,
          0.966495507,
          0.966495507,
          0.597432606,
          0.597432606,
          0.508344031,
          0.508344031,
          0.632605905,
          0.632605905,
          0.523491656,
          0.523491656,
          0.610397946,
          0.77394095,
          0.665982028,
          0.774967908,
          0.701412067,
          0.737098845,
          0.737098845,
          0.681129653,
          0.566880616,
          0.701668806,
          0.692811297,
          0.891784339,
          0.864955071,
          0.81732991,
          0.81732991,
          0.78254172,
          0.78254172,
          0.796919127,
          0.796919127,
          0.716046213,
          0.716046213,
          0.704749679,
          0.820154044,
          0.820154044,
          0.695250321,
          0.695250321,
          0.724390244,
          0.712451861,
          0.712451861,
          0.833889602,
          0.799614891,
          0.867265725,
          0.763157895,
          0.768164313,
          0.854428755,
          0.845057766,
          0.79563543,
          0.674839538,
          0.674839538,
          0.801797176,
          0.992426187,
          0.992426187,
          0.903337612,
          0.903337612,
          0.646341463,
          0.992811297,
          0.593838254,
          0.593838254,
          0.841463415,
          0.842618742,
          0.756739409,
          0.929653402,
          0.929653402,
          0.873555841,
          0.940308087,
          0.940308087,
          0.944929397,
          0.944929397,
          0.830937099,
          0.945442875,
          0.945442875,
          0.877920411,
          0.746469833,
          0.744801027,
          0.708344031,
          0.87843389,
          0.87843389,
          0.752759949,
          0.752759949,
          0.802695764,
          0.738767651,
          0.738767651,
          0.68279846,
          0.848267009,
          0.848267009,
          0.935686778,
          0.843260591,
          0.843260591,
          0.728883184,
          0.876123235,
          0.796405648,
          0.796405648,
          0.835044929,
          0.624005135,
          0.692041078,
          0.791912709,
          0.927984596,
          0.859050064,
          0.861103979,
          0.861103979,
          0.762387677,
          0.762387677,
          0.63902439,
          0.63902439,
          0.77830552,
          0.77830552,
          0.87804878,
          0.713735558,
          0.679332478,
          0.70860077,
          0.766880616,
          0.699101412,
          0.699101412,
          0.761745828,
          0.761745828,
          0.795121951,
          0.806675225,
          0.801925546,
          0.615275995,
          0.827471117,
          0.827471117,
          0.870860077,
          0.876893453,
          0.876893453,
          0.74762516,
          0.74762516,
          0.74762516,
          0.815275995,
          0.815275995,
          0.746084724,
          0.746084724
         ],
         "yaxis": "y"
        },
        {
         "hovertemplate": "gis_hpi_quartile_sd=2<br>vaccination_percentage_all=%{x}<br>voting_pctile=%{y}<extra></extra>",
         "legendgroup": "2",
         "marker": {
          "color": "#00cc96",
          "symbol": "circle"
         },
         "mode": "markers",
         "name": "2",
         "orientation": "v",
         "showlegend": true,
         "type": "scatter",
         "x": [
          "60.33994334",
          "60.39958253",
          "65.85960961",
          "65.87392083",
          "66.08568171",
          "69.98815767",
          "81.85212845",
          "91.5958222",
          "72.87915653",
          "73.00892133",
          "77.62096774",
          "77.48655914",
          "81.45285935",
          "81.47003263",
          "75.75828827",
          "75.8053139",
          "89.46814113",
          "89.81042654",
          "82.67834259",
          "82.76377616",
          "99",
          "99",
          "83.82544104",
          "82.97121634",
          "89.07407407",
          "90.80246914",
          "96.84186261",
          "96.9110189",
          "89.1533492",
          "89.59537572",
          "97.95131357",
          "96.33323555",
          "96.50924025",
          "83.00703579",
          "77.27697774",
          "80.05427408",
          "79.91858887",
          "80.02035278",
          "92.18832194",
          "70.88260135",
          "69.8902027",
          "79.25723087",
          "79.47971932",
          "73.96648045",
          "74.17597765",
          "67.69136182",
          "67.53765755",
          "64.75609756",
          "64.63414634",
          "64.59349593",
          "65.96873255",
          "82.4747743",
          "82.36856081",
          "80.80598917",
          "70.82018927",
          "70.80047319",
          "74.25608656",
          "69.48016664",
          "69.48016664",
          "69.5888426",
          "83.37518835",
          "51.09429884",
          "74.99118166",
          "83.61911711",
          "99",
          "99",
          "71.29149378",
          "71.47302905",
          "71.343361",
          "65.65992866",
          "65.5648038",
          "69.47436104",
          "69.44221186",
          "99",
          "99",
          "99",
          "99",
          "99",
          "90.47160731",
          "99",
          "99",
          "99",
          "80.75285682",
          "63.78986867",
          "63.91494684",
          "80.27376426",
          "80.34980989",
          "86.42676768",
          "86.71085859",
          "87.63969602",
          "85.71782178",
          "85.4950495",
          "85.54455446",
          "82.1745217",
          "88.0952381",
          "88.17527011",
          "99",
          "99",
          "99",
          "99",
          "99",
          "99",
          "99",
          "86.95161952",
          "88.20603908",
          null,
          "92.49603265",
          "92.36000907",
          "83.29297821",
          "77.16174975",
          "87.85513581",
          "64.33057851",
          "64.5785124",
          "81.55913978",
          "62.76375672",
          "68.9211542",
          "68.64546958",
          "68.88439625",
          "69.45558739",
          "69.62750716",
          "77.28371194",
          "77.13871435",
          "76.9540693",
          "77.03464948",
          "78.90803405",
          "78.99107328",
          "75.94405594",
          "77.84649986",
          "87.76595745",
          "88.00236407",
          "79.16068294",
          "79.43194511",
          "72.93483838",
          "77.58985201",
          "72.40890688",
          "66.747709",
          "66.85992145",
          "63.70396601",
          "63.95184136",
          "72.19858156",
          "72.28368794",
          "70.81312411",
          "77.76010181",
          "77.37830099",
          "69.12337662",
          "69.54545455",
          "72.08029197",
          "64.2126279",
          "63.98802096",
          "69.37789799",
          "59.62772786",
          "59.62772786",
          "67.35922052",
          "62.69239605",
          "62.94509534",
          "59.95394063",
          "60.10747185",
          "56.83673469",
          "60.81466395",
          "55.51943993",
          "55.63195399",
          "67.46209297",
          "67.81009197",
          "62.46462568",
          "62.13017751",
          "63.73703639",
          "62.96361399",
          "61.05779484",
          "58.64628821",
          "48.81744272",
          "48.7804878",
          "71.82320442",
          "74.97348887",
          "80.5985319",
          "80.60982496",
          "65.33641797",
          "65.3749759",
          "65.77605548",
          "65.61289007",
          "67.25325172",
          "67.45728131",
          "76.98019802",
          "77.12164074",
          "76.49726053",
          "77.4419044",
          "76.68618931",
          "66.73130791",
          "74.48961787",
          "73.93468496",
          "60.65662002",
          "60.73735199",
          "69.17562724",
          "62.93583824",
          "65.05301982",
          "99",
          "69.72918532",
          "51.84855234",
          "68.774659",
          "70.67712874",
          "70.67712874",
          "61.58989599",
          "61.58989599",
          "69.31311329",
          "64.8976378",
          "64.83464567",
          "80.37724369",
          "71.43564356",
          "71.38613861",
          "66.19301362",
          "69.09626719",
          "68.9194499",
          "63.07665011",
          "62.7217885",
          "57.49634325",
          "57.38664066",
          "69.97496016",
          "71.0597492",
          "71.47774773",
          "67.35717401",
          "67.53161797",
          "60.83626318",
          "56.67206915",
          "56.69908158",
          "73.49219392",
          "75.08796622",
          "75.11142388",
          "69.77099237",
          "69.98091603",
          "61.94288187",
          "62.2674167",
          "62.09433146",
          "70.17317136",
          "69.60454898",
          "66.43495531",
          "66.63356504",
          "79.54341987",
          "80.08057296",
          "70.93137255",
          "71.29901961",
          "64.10555815",
          "58.35301063",
          "58.4120425",
          "66.09977324",
          "47.49807544",
          "47.53656659",
          "41.53237207",
          "41.58891716",
          "50.89804186"
         ],
         "xaxis": "x",
         "y": [
          0.697304236,
          0.697304236,
          0.663286264,
          0.58279846,
          0.58279846,
          0.632862644,
          0.317715019,
          0.435815148,
          0.485365854,
          0.485365854,
          0.564955071,
          0.564955071,
          0.530680359,
          0.530680359,
          0.436456996,
          0.436456996,
          0.288446727,
          0.288446727,
          0.350834403,
          0.350834403,
          0.225032092,
          0.225032092,
          0.306675225,
          0.306675225,
          0.357252888,
          0.357252888,
          0.323620026,
          0.323620026,
          0.472143774,
          0.472143774,
          0.331322208,
          0.518613607,
          0.518613607,
          0.300385109,
          0.354428755,
          0.383440308,
          0.383440308,
          0.383440308,
          0.436842105,
          0.457637997,
          0.457637997,
          0.310269576,
          0.310269576,
          0.43029525,
          0.43029525,
          0.601925546,
          0.601925546,
          0.531450578,
          0.531450578,
          0.531450578,
          0.311681643,
          0.474582798,
          0.474582798,
          0.637483954,
          0.662130937,
          0.662130937,
          0.467394095,
          0.602182285,
          0.602182285,
          0.602182285,
          0.805648267,
          0.527086008,
          0.589730424,
          0.715661104,
          0.668164313,
          0.668164313,
          0.506033376,
          0.506033376,
          0.506033376,
          0.555969191,
          0.555969191,
          0.62593068,
          0.62593068,
          0.284595635,
          0.316174583,
          0.316174583,
          0.297432606,
          0.189216945,
          0.410012837,
          0.233247754,
          0.260077022,
          0.260077022,
          0.458536585,
          0.585109114,
          0.585109114,
          0.299743261,
          0.299743261,
          0.24338896,
          0.24338896,
          0.463414634,
          0.644159178,
          0.644159178,
          0.644159178,
          0.261745828,
          0.434274711,
          0.434274711,
          0.458793325,
          0.458793325,
          0.458793325,
          0.342105263,
          0.342105263,
          0.252631579,
          0.252631579,
          0.559178434,
          0.331450578,
          0.331450578,
          0.660205392,
          0.660205392,
          0.475866496,
          0.707188703,
          0.58254172,
          0.46957638,
          0.46957638,
          0.394865212,
          0.663029525,
          0.345571245,
          0.345571245,
          0.345571245,
          0.5957638,
          0.5957638,
          0.390372272,
          0.390372272,
          0.549422336,
          0.549422336,
          0.426444159,
          0.426444159,
          0.46970475,
          0.504621309,
          0.291014121,
          0.291014121,
          0.472785623,
          0.472785623,
          0.365982028,
          0.458664955,
          0.593453145,
          0.685237484,
          0.685237484,
          0.363414634,
          0.363414634,
          0.761617458,
          0.761617458,
          0.67817715,
          0.40436457,
          0.40436457,
          0.488960205,
          0.488960205,
          0.500256739,
          0.262130937,
          0.262130937,
          0.612708601,
          0.48241335,
          0.48241335,
          0.825160462,
          0.705905006,
          0.705905006,
          0.575866496,
          0.575866496,
          0.529268293,
          0.816559692,
          0.432477535,
          0.432477535,
          0.512580231,
          0.512580231,
          0.68254172,
          0.68254172,
          0.628883184,
          0.628883184,
          0.655712452,
          0.735044929,
          0.562644416,
          0.562644416,
          0.65224647,
          0.560462131,
          0.594094994,
          0.594094994,
          0.569833119,
          0.569833119,
          0.877663671,
          0.877663671,
          0.613607189,
          0.613607189,
          0.402182285,
          0.402182285,
          0.420025674,
          0.420025674,
          0.420025674,
          0.671887035,
          0.472015404,
          0.734531451,
          0.510012837,
          0.510012837,
          0.58690629,
          0.516046213,
          0.825673941,
          0.700256739,
          0.661874198,
          0.682284981,
          0.637355584,
          0.820410783,
          0.820410783,
          0.739922978,
          0.739922978,
          0.697946085,
          0.504107831,
          0.504107831,
          0.268934531,
          0.424518614,
          0.424518614,
          0.484852375,
          0.382028241,
          0.382028241,
          0.715275995,
          0.715275995,
          0.575994865,
          0.575994865,
          0.615147625,
          0.475353017,
          0.475353017,
          0.619255456,
          0.619255456,
          0.731578947,
          0.41732991,
          0.41732991,
          0.610654685,
          0.70449294,
          0.70449294,
          0.645314506,
          0.645314506,
          0.679589217,
          0.679589217,
          0.679589217,
          0.632734275,
          0.632734275,
          0.609499358,
          0.609499358,
          0.372143774,
          0.372143774,
          0.738510911,
          0.738510911,
          0.558023107,
          0.615661104,
          0.615661104,
          0.500641849,
          0.744672657,
          0.744672657,
          0.711296534,
          0.711296534,
          0.620025674
         ],
         "yaxis": "y"
        },
        {
         "hovertemplate": "gis_hpi_quartile_sd=1<br>vaccination_percentage_all=%{x}<br>voting_pctile=%{y}<extra></extra>",
         "legendgroup": "1",
         "marker": {
          "color": "#ab63fa",
          "symbol": "circle"
         },
         "mode": "markers",
         "name": "1",
         "orientation": "v",
         "showlegend": true,
         "type": "scatter",
         "x": [
          "61.51937984",
          "61.68992248",
          "64.5523362",
          "64.63064474",
          "69.66771858",
          "69.90904028",
          "69.48553055",
          "69.51768489",
          "70.62239428",
          "66.65238809",
          "66.56671664",
          "75.98808342",
          "85.97386688",
          "86.09636586",
          "83.00552105",
          "83.10904072",
          "80.94117647",
          "73.94011976",
          "73.89221557",
          "87.88727137",
          "87.96192609",
          "64.14201183",
          "66.83535762",
          "66.98717949",
          "71.33879781",
          "71.58469945",
          "59.64052288",
          "80.32716315",
          "45.27186761",
          "45.21276596",
          "56.28468034",
          "85.70480195",
          "96.04435121",
          "96.06373008",
          "96.68228679",
          "84.20201294",
          "94.18372441",
          "94.85771343",
          "84.11552347",
          "83.70293966",
          "60.9801877",
          "61.16788321",
          "99",
          "81.55626693",
          "73.28730749",
          "73.55284121",
          "87.38025055",
          "87.56448047",
          "94.66773848",
          "96.70076726",
          "81.71779141",
          "89.2412231",
          "89.0647482",
          "89.13669065",
          "99",
          "99",
          "99",
          "98.60392968",
          "84.96158068",
          "85.42810099",
          "87.73234201",
          "87.96468401",
          "89.79355138",
          "64.9",
          "64.85",
          "75.01915709",
          "86.07646698",
          "78.27255278",
          "78.15738964",
          "57.70614184",
          "60.02306563",
          "49.35876356",
          "29.004329",
          "81.14149552",
          "81.03937365",
          "86.58066678",
          "88.99018233",
          "89.00771388",
          "51.55084999",
          "51.52102595",
          "36.89538808",
          "99",
          "99",
          "99",
          "99",
          "99",
          "99",
          "99",
          "99",
          "79.98365596",
          "99",
          "99",
          "99",
          "99",
          "99",
          "99",
          "99",
          "58.59959211",
          "80.2184466",
          "80.33980583",
          "79.88678578",
          "80.18751106",
          "75.55028784",
          "75.70267525",
          "95.63340528",
          "96.13149593",
          "72.89800636",
          "73.04247327",
          "96.18448099",
          "86.50492798",
          "58.3972335",
          "74.56647399",
          "74.6190226",
          "75.12214984",
          "75.40716612",
          "81.43342601",
          "99",
          "99",
          "78.6628734",
          "78.47321005",
          "78.33096254",
          "99",
          "88.20633562",
          "87.69263699",
          "87.90667808",
          "92.2750915",
          "92.21729917",
          "97.5233902",
          "97.78022381",
          "87.84704034",
          "89.32492408",
          "94.26934097",
          "88.97442947",
          "89.3868573",
          "99",
          "99",
          "99",
          "99",
          "90.73624017",
          "91.05075054",
          "99",
          "99",
          "99",
          "91.5590594",
          "84.64941385",
          "99",
          "72.83489097",
          "73.0529595",
          "75.74078022",
          "75.78341505",
          "68.30409357",
          "68.56140351",
          "90.08700237",
          "82.14539427",
          "82.35851291",
          "59.25848782",
          "59.40429077",
          "64.77329347",
          "64.96013951",
          "52.91564173",
          "52.98799016",
          "61.54786151",
          "68.41483581",
          "68.367588",
          "62.82051282",
          "63.49782293",
          "67.88321168",
          "76.13293051",
          "76.16314199",
          "64.70807685",
          "67.82196279",
          "68.07734404",
          "75.94192244",
          "76.07057526",
          "63.52096423",
          "66.14884903",
          "66.31831662",
          "63.73626374",
          "49.47878788",
          "49.57575758",
          "53.23596409",
          "53.08857028",
          "63.70967742",
          "63.99769585",
          "62.49458014",
          "62.02205356",
          "75.72009189",
          "64.99094203",
          "65.0513285",
          "49.78376375",
          "49.7096256",
          "65.41003304",
          "65.45509162",
          "74.12272104",
          "74.22074103",
          "73.84196185",
          "74.19618529",
          "69.85197677",
          "76.02684564",
          "76.14765101",
          "51.96775723",
          "52.29966809",
          "52.95597484",
          "67.10820575",
          "67.74471013",
          "80.01330967",
          "62.79346211",
          "62.24368499",
          "71.76742233",
          "72.76679842",
          "58.13577586",
          "70.31442663",
          "70.31365769",
          "69.05408743",
          "70.33835515",
          "52.93854415",
          "49.26280393",
          "49.34040352",
          "84.70786754",
          "85.34064543",
          "62.84356973",
          "62.80254777",
          "57.69958381",
          "30.86419753",
          "54.71306154",
          "53.05810398",
          "53.45948012",
          "82.00806156",
          "82.27678026",
          "43.94316684",
          "43.94316684",
          "99",
          "99",
          "83.68239356",
          "83.84349827"
         ],
         "xaxis": "x",
         "y": [
          0.446854942,
          0.446854942,
          0.156739409,
          0.156739409,
          0.168549422,
          0.168549422,
          0.309242619,
          0.309242619,
          0.123748395,
          0.375353017,
          0.375353017,
          0.114120668,
          0.179974326,
          0.179974326,
          0.39127086,
          0.39127086,
          0.111938383,
          0.110783055,
          0.110783055,
          0.397560976,
          0.397560976,
          0.044030809,
          0.098973042,
          0.098973042,
          0.105134788,
          0.105134788,
          0.287419769,
          0.273427471,
          0.284210526,
          0.284210526,
          0.296919127,
          0.083183569,
          0.256225931,
          0.231835687,
          0.231835687,
          0.09550706,
          0.170860077,
          0.170860077,
          0.29127086,
          0.29127086,
          0.19139923,
          0.19139923,
          0.057766367,
          0.053273427,
          0.040436457,
          0.040436457,
          0.086136072,
          0.086136072,
          0.072143774,
          0.035430039,
          0.024261874,
          0.049293967,
          0.03465982,
          0.03465982,
          0.077663671,
          0.077663671,
          0.077663671,
          0.053915276,
          0.04351733,
          0.04351733,
          0.048652118,
          0.048652118,
          0.051861361,
          0.182156611,
          0.182156611,
          0.149807445,
          0.101283697,
          0.072913992,
          0.072913992,
          0.254428755,
          0.367137356,
          0.281001284,
          0.149679076,
          0.659948652,
          0.659948652,
          0.377150193,
          0.352759949,
          0.352759949,
          0.476123235,
          0.476123235,
          0.204878049,
          0.256867779,
          0.256867779,
          0.155712452,
          0.155712452,
          0.153530167,
          0.153530167,
          0.087933248,
          0.034531451,
          0.355198973,
          0.188061617,
          0.188061617,
          0.156996149,
          0.156996149,
          0.181899872,
          0.146726573,
          0.146726573,
          0.418356868,
          0.197560976,
          0.197560976,
          0.231065469,
          0.231065469,
          0.133376123,
          0.133376123,
          0.135044929,
          0.135044929,
          0.170218228,
          0.170218228,
          0.223876765,
          0.222336329,
          0.115532734,
          0.236713736,
          0.236713736,
          0.369833119,
          0.369833119,
          0.207317073,
          0.177535302,
          0.177535302,
          0.440949936,
          0.440949936,
          0.440949936,
          0.224261874,
          0.085237484,
          0.085237484,
          0.085237484,
          0.114634146,
          0.114634146,
          0.244544288,
          0.244544288,
          0.267008986,
          0.406161746,
          0.382926829,
          0.194865212,
          0.194865212,
          0.151476252,
          0.151476252,
          0.166238768,
          0.166238768,
          0.164313222,
          0.164313222,
          0.154043646,
          0.087676508,
          0.087676508,
          0.217843389,
          0.335815148,
          0.228112965,
          0.257124519,
          0.257124519,
          0.329525032,
          0.329525032,
          0.184082157,
          0.184082157,
          0.205905006,
          0.308985879,
          0.308985879,
          0.16084724,
          0.16084724,
          0.484082157,
          0.484082157,
          0.225288832,
          0.225288832,
          0.220154044,
          0.373170732,
          0.373170732,
          0.253530167,
          0.253530167,
          0.291784339,
          0.123620026,
          0.123620026,
          0.350064185,
          0.265596919,
          0.265596919,
          0.271630295,
          0.271630295,
          0.467779204,
          0.400898588,
          0.400898588,
          0.259563543,
          0.705519897,
          0.705519897,
          0.515532734,
          0.515532734,
          0.439409499,
          0.439409499,
          0.289473684,
          0.511553273,
          0.488446727,
          0.454557125,
          0.454557125,
          0.576379974,
          0.576379974,
          0.411810013,
          0.411810013,
          0.233119384,
          0.233119384,
          0.073170732,
          0.073170732,
          0.172913992,
          0.40872914,
          0.40872914,
          0.246213094,
          0.246213094,
          0.51745828,
          0.26957638,
          0.26957638,
          0.485622593,
          0.197432606,
          0.197432606,
          0.257252888,
          0.196790757,
          0.511039795,
          0.305648267,
          0.208087291,
          0.208087291,
          0.208087291,
          0.209499358,
          0.491912709,
          0.491912709,
          0.319255456,
          0.319255456,
          0.339794608,
          0.556097561,
          0.428112965,
          0.647111682,
          0.74351733,
          0.659178434,
          0.659178434,
          0.330680359,
          0.330680359,
          0.589216945,
          0.589216945,
          0.587676508,
          0.587676508,
          0.187548139,
          0.187548139
         ],
         "yaxis": "y"
        }
       ],
       "layout": {
        "legend": {
         "title": {
          "text": "gis_hpi_quartile_sd"
         },
         "tracegroupgap": 0
        },
        "template": {
         "data": {
          "bar": [
           {
            "error_x": {
             "color": "#2a3f5f"
            },
            "error_y": {
             "color": "#2a3f5f"
            },
            "marker": {
             "line": {
              "color": "#E5ECF6",
              "width": 0.5
             },
             "pattern": {
              "fillmode": "overlay",
              "size": 10,
              "solidity": 0.2
             }
            },
            "type": "bar"
           }
          ],
          "barpolar": [
           {
            "marker": {
             "line": {
              "color": "#E5ECF6",
              "width": 0.5
             },
             "pattern": {
              "fillmode": "overlay",
              "size": 10,
              "solidity": 0.2
             }
            },
            "type": "barpolar"
           }
          ],
          "carpet": [
           {
            "aaxis": {
             "endlinecolor": "#2a3f5f",
             "gridcolor": "white",
             "linecolor": "white",
             "minorgridcolor": "white",
             "startlinecolor": "#2a3f5f"
            },
            "baxis": {
             "endlinecolor": "#2a3f5f",
             "gridcolor": "white",
             "linecolor": "white",
             "minorgridcolor": "white",
             "startlinecolor": "#2a3f5f"
            },
            "type": "carpet"
           }
          ],
          "choropleth": [
           {
            "colorbar": {
             "outlinewidth": 0,
             "ticks": ""
            },
            "type": "choropleth"
           }
          ],
          "contour": [
           {
            "colorbar": {
             "outlinewidth": 0,
             "ticks": ""
            },
            "colorscale": [
             [
              0,
              "#0d0887"
             ],
             [
              0.1111111111111111,
              "#46039f"
             ],
             [
              0.2222222222222222,
              "#7201a8"
             ],
             [
              0.3333333333333333,
              "#9c179e"
             ],
             [
              0.4444444444444444,
              "#bd3786"
             ],
             [
              0.5555555555555556,
              "#d8576b"
             ],
             [
              0.6666666666666666,
              "#ed7953"
             ],
             [
              0.7777777777777778,
              "#fb9f3a"
             ],
             [
              0.8888888888888888,
              "#fdca26"
             ],
             [
              1,
              "#f0f921"
             ]
            ],
            "type": "contour"
           }
          ],
          "contourcarpet": [
           {
            "colorbar": {
             "outlinewidth": 0,
             "ticks": ""
            },
            "type": "contourcarpet"
           }
          ],
          "heatmap": [
           {
            "colorbar": {
             "outlinewidth": 0,
             "ticks": ""
            },
            "colorscale": [
             [
              0,
              "#0d0887"
             ],
             [
              0.1111111111111111,
              "#46039f"
             ],
             [
              0.2222222222222222,
              "#7201a8"
             ],
             [
              0.3333333333333333,
              "#9c179e"
             ],
             [
              0.4444444444444444,
              "#bd3786"
             ],
             [
              0.5555555555555556,
              "#d8576b"
             ],
             [
              0.6666666666666666,
              "#ed7953"
             ],
             [
              0.7777777777777778,
              "#fb9f3a"
             ],
             [
              0.8888888888888888,
              "#fdca26"
             ],
             [
              1,
              "#f0f921"
             ]
            ],
            "type": "heatmap"
           }
          ],
          "heatmapgl": [
           {
            "colorbar": {
             "outlinewidth": 0,
             "ticks": ""
            },
            "colorscale": [
             [
              0,
              "#0d0887"
             ],
             [
              0.1111111111111111,
              "#46039f"
             ],
             [
              0.2222222222222222,
              "#7201a8"
             ],
             [
              0.3333333333333333,
              "#9c179e"
             ],
             [
              0.4444444444444444,
              "#bd3786"
             ],
             [
              0.5555555555555556,
              "#d8576b"
             ],
             [
              0.6666666666666666,
              "#ed7953"
             ],
             [
              0.7777777777777778,
              "#fb9f3a"
             ],
             [
              0.8888888888888888,
              "#fdca26"
             ],
             [
              1,
              "#f0f921"
             ]
            ],
            "type": "heatmapgl"
           }
          ],
          "histogram": [
           {
            "marker": {
             "pattern": {
              "fillmode": "overlay",
              "size": 10,
              "solidity": 0.2
             }
            },
            "type": "histogram"
           }
          ],
          "histogram2d": [
           {
            "colorbar": {
             "outlinewidth": 0,
             "ticks": ""
            },
            "colorscale": [
             [
              0,
              "#0d0887"
             ],
             [
              0.1111111111111111,
              "#46039f"
             ],
             [
              0.2222222222222222,
              "#7201a8"
             ],
             [
              0.3333333333333333,
              "#9c179e"
             ],
             [
              0.4444444444444444,
              "#bd3786"
             ],
             [
              0.5555555555555556,
              "#d8576b"
             ],
             [
              0.6666666666666666,
              "#ed7953"
             ],
             [
              0.7777777777777778,
              "#fb9f3a"
             ],
             [
              0.8888888888888888,
              "#fdca26"
             ],
             [
              1,
              "#f0f921"
             ]
            ],
            "type": "histogram2d"
           }
          ],
          "histogram2dcontour": [
           {
            "colorbar": {
             "outlinewidth": 0,
             "ticks": ""
            },
            "colorscale": [
             [
              0,
              "#0d0887"
             ],
             [
              0.1111111111111111,
              "#46039f"
             ],
             [
              0.2222222222222222,
              "#7201a8"
             ],
             [
              0.3333333333333333,
              "#9c179e"
             ],
             [
              0.4444444444444444,
              "#bd3786"
             ],
             [
              0.5555555555555556,
              "#d8576b"
             ],
             [
              0.6666666666666666,
              "#ed7953"
             ],
             [
              0.7777777777777778,
              "#fb9f3a"
             ],
             [
              0.8888888888888888,
              "#fdca26"
             ],
             [
              1,
              "#f0f921"
             ]
            ],
            "type": "histogram2dcontour"
           }
          ],
          "mesh3d": [
           {
            "colorbar": {
             "outlinewidth": 0,
             "ticks": ""
            },
            "type": "mesh3d"
           }
          ],
          "parcoords": [
           {
            "line": {
             "colorbar": {
              "outlinewidth": 0,
              "ticks": ""
             }
            },
            "type": "parcoords"
           }
          ],
          "pie": [
           {
            "automargin": true,
            "type": "pie"
           }
          ],
          "scatter": [
           {
            "fillpattern": {
             "fillmode": "overlay",
             "size": 10,
             "solidity": 0.2
            },
            "type": "scatter"
           }
          ],
          "scatter3d": [
           {
            "line": {
             "colorbar": {
              "outlinewidth": 0,
              "ticks": ""
             }
            },
            "marker": {
             "colorbar": {
              "outlinewidth": 0,
              "ticks": ""
             }
            },
            "type": "scatter3d"
           }
          ],
          "scattercarpet": [
           {
            "marker": {
             "colorbar": {
              "outlinewidth": 0,
              "ticks": ""
             }
            },
            "type": "scattercarpet"
           }
          ],
          "scattergeo": [
           {
            "marker": {
             "colorbar": {
              "outlinewidth": 0,
              "ticks": ""
             }
            },
            "type": "scattergeo"
           }
          ],
          "scattergl": [
           {
            "marker": {
             "colorbar": {
              "outlinewidth": 0,
              "ticks": ""
             }
            },
            "type": "scattergl"
           }
          ],
          "scattermapbox": [
           {
            "marker": {
             "colorbar": {
              "outlinewidth": 0,
              "ticks": ""
             }
            },
            "type": "scattermapbox"
           }
          ],
          "scatterpolar": [
           {
            "marker": {
             "colorbar": {
              "outlinewidth": 0,
              "ticks": ""
             }
            },
            "type": "scatterpolar"
           }
          ],
          "scatterpolargl": [
           {
            "marker": {
             "colorbar": {
              "outlinewidth": 0,
              "ticks": ""
             }
            },
            "type": "scatterpolargl"
           }
          ],
          "scatterternary": [
           {
            "marker": {
             "colorbar": {
              "outlinewidth": 0,
              "ticks": ""
             }
            },
            "type": "scatterternary"
           }
          ],
          "surface": [
           {
            "colorbar": {
             "outlinewidth": 0,
             "ticks": ""
            },
            "colorscale": [
             [
              0,
              "#0d0887"
             ],
             [
              0.1111111111111111,
              "#46039f"
             ],
             [
              0.2222222222222222,
              "#7201a8"
             ],
             [
              0.3333333333333333,
              "#9c179e"
             ],
             [
              0.4444444444444444,
              "#bd3786"
             ],
             [
              0.5555555555555556,
              "#d8576b"
             ],
             [
              0.6666666666666666,
              "#ed7953"
             ],
             [
              0.7777777777777778,
              "#fb9f3a"
             ],
             [
              0.8888888888888888,
              "#fdca26"
             ],
             [
              1,
              "#f0f921"
             ]
            ],
            "type": "surface"
           }
          ],
          "table": [
           {
            "cells": {
             "fill": {
              "color": "#EBF0F8"
             },
             "line": {
              "color": "white"
             }
            },
            "header": {
             "fill": {
              "color": "#C8D4E3"
             },
             "line": {
              "color": "white"
             }
            },
            "type": "table"
           }
          ]
         },
         "layout": {
          "annotationdefaults": {
           "arrowcolor": "#2a3f5f",
           "arrowhead": 0,
           "arrowwidth": 1
          },
          "autotypenumbers": "strict",
          "coloraxis": {
           "colorbar": {
            "outlinewidth": 0,
            "ticks": ""
           }
          },
          "colorscale": {
           "diverging": [
            [
             0,
             "#8e0152"
            ],
            [
             0.1,
             "#c51b7d"
            ],
            [
             0.2,
             "#de77ae"
            ],
            [
             0.3,
             "#f1b6da"
            ],
            [
             0.4,
             "#fde0ef"
            ],
            [
             0.5,
             "#f7f7f7"
            ],
            [
             0.6,
             "#e6f5d0"
            ],
            [
             0.7,
             "#b8e186"
            ],
            [
             0.8,
             "#7fbc41"
            ],
            [
             0.9,
             "#4d9221"
            ],
            [
             1,
             "#276419"
            ]
           ],
           "sequential": [
            [
             0,
             "#0d0887"
            ],
            [
             0.1111111111111111,
             "#46039f"
            ],
            [
             0.2222222222222222,
             "#7201a8"
            ],
            [
             0.3333333333333333,
             "#9c179e"
            ],
            [
             0.4444444444444444,
             "#bd3786"
            ],
            [
             0.5555555555555556,
             "#d8576b"
            ],
            [
             0.6666666666666666,
             "#ed7953"
            ],
            [
             0.7777777777777778,
             "#fb9f3a"
            ],
            [
             0.8888888888888888,
             "#fdca26"
            ],
            [
             1,
             "#f0f921"
            ]
           ],
           "sequentialminus": [
            [
             0,
             "#0d0887"
            ],
            [
             0.1111111111111111,
             "#46039f"
            ],
            [
             0.2222222222222222,
             "#7201a8"
            ],
            [
             0.3333333333333333,
             "#9c179e"
            ],
            [
             0.4444444444444444,
             "#bd3786"
            ],
            [
             0.5555555555555556,
             "#d8576b"
            ],
            [
             0.6666666666666666,
             "#ed7953"
            ],
            [
             0.7777777777777778,
             "#fb9f3a"
            ],
            [
             0.8888888888888888,
             "#fdca26"
            ],
            [
             1,
             "#f0f921"
            ]
           ]
          },
          "colorway": [
           "#636efa",
           "#EF553B",
           "#00cc96",
           "#ab63fa",
           "#FFA15A",
           "#19d3f3",
           "#FF6692",
           "#B6E880",
           "#FF97FF",
           "#FECB52"
          ],
          "font": {
           "color": "#2a3f5f"
          },
          "geo": {
           "bgcolor": "white",
           "lakecolor": "white",
           "landcolor": "#E5ECF6",
           "showlakes": true,
           "showland": true,
           "subunitcolor": "white"
          },
          "hoverlabel": {
           "align": "left"
          },
          "hovermode": "closest",
          "mapbox": {
           "style": "light"
          },
          "paper_bgcolor": "white",
          "plot_bgcolor": "#E5ECF6",
          "polar": {
           "angularaxis": {
            "gridcolor": "white",
            "linecolor": "white",
            "ticks": ""
           },
           "bgcolor": "#E5ECF6",
           "radialaxis": {
            "gridcolor": "white",
            "linecolor": "white",
            "ticks": ""
           }
          },
          "scene": {
           "xaxis": {
            "backgroundcolor": "#E5ECF6",
            "gridcolor": "white",
            "gridwidth": 2,
            "linecolor": "white",
            "showbackground": true,
            "ticks": "",
            "zerolinecolor": "white"
           },
           "yaxis": {
            "backgroundcolor": "#E5ECF6",
            "gridcolor": "white",
            "gridwidth": 2,
            "linecolor": "white",
            "showbackground": true,
            "ticks": "",
            "zerolinecolor": "white"
           },
           "zaxis": {
            "backgroundcolor": "#E5ECF6",
            "gridcolor": "white",
            "gridwidth": 2,
            "linecolor": "white",
            "showbackground": true,
            "ticks": "",
            "zerolinecolor": "white"
           }
          },
          "shapedefaults": {
           "line": {
            "color": "#2a3f5f"
           }
          },
          "ternary": {
           "aaxis": {
            "gridcolor": "white",
            "linecolor": "white",
            "ticks": ""
           },
           "baxis": {
            "gridcolor": "white",
            "linecolor": "white",
            "ticks": ""
           },
           "bgcolor": "#E5ECF6",
           "caxis": {
            "gridcolor": "white",
            "linecolor": "white",
            "ticks": ""
           }
          },
          "title": {
           "x": 0.05
          },
          "xaxis": {
           "automargin": true,
           "gridcolor": "white",
           "linecolor": "white",
           "ticks": "",
           "title": {
            "standoff": 15
           },
           "zerolinecolor": "white",
           "zerolinewidth": 2
          },
          "yaxis": {
           "automargin": true,
           "gridcolor": "white",
           "linecolor": "white",
           "ticks": "",
           "title": {
            "standoff": 15
           },
           "zerolinecolor": "white",
           "zerolinewidth": 2
          }
         }
        },
        "title": {
         "text": "Visual for Vaccination Percentage by Voting Percentile"
        },
        "xaxis": {
         "anchor": "y",
         "domain": [
          0,
          1
         ],
         "title": {
          "text": "vaccination_percentage_all"
         }
        },
        "yaxis": {
         "anchor": "x",
         "domain": [
          0,
          1
         ],
         "title": {
          "text": "voting_pctile"
         }
        }
       }
      }
     },
     "metadata": {},
     "output_type": "display_data"
    }
   ],
   "source": [
    "import matplotlib.pyplot as plt\n",
    "\n",
    "# final_joined.dtypes\n",
    "newfinal_joined = final_joined.convert_dtypes()\n",
    "\n",
    "# newfinal_joined.dtypes\n",
    "\n",
    "main_trend = px.scatter(newfinal_joined, x='vaccination_percentage_all', y='voting_pctile', color='gis_hpi_quartile_sd', title='Visual for Vaccination Percentage by Voting Percentile')\n",
    "main_trend.show()"
   ]
  },
  {
   "cell_type": "code",
   "execution_count": 8,
   "metadata": {},
   "outputs": [
    {
     "data": {
      "application/vnd.plotly.v1+json": {
       "config": {
        "plotlyServerURL": "https://plot.ly"
       },
       "data": [
        {
         "alignmentgroup": "True",
         "hovertemplate": "hpi_quartile=%{marker.color}<br>census_tract=%{y}<extra></extra>",
         "legendgroup": "",
         "marker": {
          "color": [
           1,
           2,
           3,
           4
          ],
          "coloraxis": "coloraxis",
          "pattern": {
           "shape": ""
          }
         },
         "name": "",
         "offsetgroup": "",
         "orientation": "v",
         "showlegend": false,
         "textposition": "auto",
         "type": "bar",
         "x": [
          1,
          2,
          3,
          4
         ],
         "xaxis": "x",
         "y": [
          154,
          243,
          271,
          270
         ],
         "yaxis": "y"
        }
       ],
       "layout": {
        "barmode": "relative",
        "coloraxis": {
         "colorbar": {
          "title": {
           "text": "hpi_quartile"
          }
         },
         "colorscale": [
          [
           0,
           "#0d0887"
          ],
          [
           0.1111111111111111,
           "#46039f"
          ],
          [
           0.2222222222222222,
           "#7201a8"
          ],
          [
           0.3333333333333333,
           "#9c179e"
          ],
          [
           0.4444444444444444,
           "#bd3786"
          ],
          [
           0.5555555555555556,
           "#d8576b"
          ],
          [
           0.6666666666666666,
           "#ed7953"
          ],
          [
           0.7777777777777778,
           "#fb9f3a"
          ],
          [
           0.8888888888888888,
           "#fdca26"
          ],
          [
           1,
           "#f0f921"
          ]
         ]
        },
        "legend": {
         "tracegroupgap": 0
        },
        "template": {
         "data": {
          "bar": [
           {
            "error_x": {
             "color": "#2a3f5f"
            },
            "error_y": {
             "color": "#2a3f5f"
            },
            "marker": {
             "line": {
              "color": "#E5ECF6",
              "width": 0.5
             },
             "pattern": {
              "fillmode": "overlay",
              "size": 10,
              "solidity": 0.2
             }
            },
            "type": "bar"
           }
          ],
          "barpolar": [
           {
            "marker": {
             "line": {
              "color": "#E5ECF6",
              "width": 0.5
             },
             "pattern": {
              "fillmode": "overlay",
              "size": 10,
              "solidity": 0.2
             }
            },
            "type": "barpolar"
           }
          ],
          "carpet": [
           {
            "aaxis": {
             "endlinecolor": "#2a3f5f",
             "gridcolor": "white",
             "linecolor": "white",
             "minorgridcolor": "white",
             "startlinecolor": "#2a3f5f"
            },
            "baxis": {
             "endlinecolor": "#2a3f5f",
             "gridcolor": "white",
             "linecolor": "white",
             "minorgridcolor": "white",
             "startlinecolor": "#2a3f5f"
            },
            "type": "carpet"
           }
          ],
          "choropleth": [
           {
            "colorbar": {
             "outlinewidth": 0,
             "ticks": ""
            },
            "type": "choropleth"
           }
          ],
          "contour": [
           {
            "colorbar": {
             "outlinewidth": 0,
             "ticks": ""
            },
            "colorscale": [
             [
              0,
              "#0d0887"
             ],
             [
              0.1111111111111111,
              "#46039f"
             ],
             [
              0.2222222222222222,
              "#7201a8"
             ],
             [
              0.3333333333333333,
              "#9c179e"
             ],
             [
              0.4444444444444444,
              "#bd3786"
             ],
             [
              0.5555555555555556,
              "#d8576b"
             ],
             [
              0.6666666666666666,
              "#ed7953"
             ],
             [
              0.7777777777777778,
              "#fb9f3a"
             ],
             [
              0.8888888888888888,
              "#fdca26"
             ],
             [
              1,
              "#f0f921"
             ]
            ],
            "type": "contour"
           }
          ],
          "contourcarpet": [
           {
            "colorbar": {
             "outlinewidth": 0,
             "ticks": ""
            },
            "type": "contourcarpet"
           }
          ],
          "heatmap": [
           {
            "colorbar": {
             "outlinewidth": 0,
             "ticks": ""
            },
            "colorscale": [
             [
              0,
              "#0d0887"
             ],
             [
              0.1111111111111111,
              "#46039f"
             ],
             [
              0.2222222222222222,
              "#7201a8"
             ],
             [
              0.3333333333333333,
              "#9c179e"
             ],
             [
              0.4444444444444444,
              "#bd3786"
             ],
             [
              0.5555555555555556,
              "#d8576b"
             ],
             [
              0.6666666666666666,
              "#ed7953"
             ],
             [
              0.7777777777777778,
              "#fb9f3a"
             ],
             [
              0.8888888888888888,
              "#fdca26"
             ],
             [
              1,
              "#f0f921"
             ]
            ],
            "type": "heatmap"
           }
          ],
          "heatmapgl": [
           {
            "colorbar": {
             "outlinewidth": 0,
             "ticks": ""
            },
            "colorscale": [
             [
              0,
              "#0d0887"
             ],
             [
              0.1111111111111111,
              "#46039f"
             ],
             [
              0.2222222222222222,
              "#7201a8"
             ],
             [
              0.3333333333333333,
              "#9c179e"
             ],
             [
              0.4444444444444444,
              "#bd3786"
             ],
             [
              0.5555555555555556,
              "#d8576b"
             ],
             [
              0.6666666666666666,
              "#ed7953"
             ],
             [
              0.7777777777777778,
              "#fb9f3a"
             ],
             [
              0.8888888888888888,
              "#fdca26"
             ],
             [
              1,
              "#f0f921"
             ]
            ],
            "type": "heatmapgl"
           }
          ],
          "histogram": [
           {
            "marker": {
             "pattern": {
              "fillmode": "overlay",
              "size": 10,
              "solidity": 0.2
             }
            },
            "type": "histogram"
           }
          ],
          "histogram2d": [
           {
            "colorbar": {
             "outlinewidth": 0,
             "ticks": ""
            },
            "colorscale": [
             [
              0,
              "#0d0887"
             ],
             [
              0.1111111111111111,
              "#46039f"
             ],
             [
              0.2222222222222222,
              "#7201a8"
             ],
             [
              0.3333333333333333,
              "#9c179e"
             ],
             [
              0.4444444444444444,
              "#bd3786"
             ],
             [
              0.5555555555555556,
              "#d8576b"
             ],
             [
              0.6666666666666666,
              "#ed7953"
             ],
             [
              0.7777777777777778,
              "#fb9f3a"
             ],
             [
              0.8888888888888888,
              "#fdca26"
             ],
             [
              1,
              "#f0f921"
             ]
            ],
            "type": "histogram2d"
           }
          ],
          "histogram2dcontour": [
           {
            "colorbar": {
             "outlinewidth": 0,
             "ticks": ""
            },
            "colorscale": [
             [
              0,
              "#0d0887"
             ],
             [
              0.1111111111111111,
              "#46039f"
             ],
             [
              0.2222222222222222,
              "#7201a8"
             ],
             [
              0.3333333333333333,
              "#9c179e"
             ],
             [
              0.4444444444444444,
              "#bd3786"
             ],
             [
              0.5555555555555556,
              "#d8576b"
             ],
             [
              0.6666666666666666,
              "#ed7953"
             ],
             [
              0.7777777777777778,
              "#fb9f3a"
             ],
             [
              0.8888888888888888,
              "#fdca26"
             ],
             [
              1,
              "#f0f921"
             ]
            ],
            "type": "histogram2dcontour"
           }
          ],
          "mesh3d": [
           {
            "colorbar": {
             "outlinewidth": 0,
             "ticks": ""
            },
            "type": "mesh3d"
           }
          ],
          "parcoords": [
           {
            "line": {
             "colorbar": {
              "outlinewidth": 0,
              "ticks": ""
             }
            },
            "type": "parcoords"
           }
          ],
          "pie": [
           {
            "automargin": true,
            "type": "pie"
           }
          ],
          "scatter": [
           {
            "fillpattern": {
             "fillmode": "overlay",
             "size": 10,
             "solidity": 0.2
            },
            "type": "scatter"
           }
          ],
          "scatter3d": [
           {
            "line": {
             "colorbar": {
              "outlinewidth": 0,
              "ticks": ""
             }
            },
            "marker": {
             "colorbar": {
              "outlinewidth": 0,
              "ticks": ""
             }
            },
            "type": "scatter3d"
           }
          ],
          "scattercarpet": [
           {
            "marker": {
             "colorbar": {
              "outlinewidth": 0,
              "ticks": ""
             }
            },
            "type": "scattercarpet"
           }
          ],
          "scattergeo": [
           {
            "marker": {
             "colorbar": {
              "outlinewidth": 0,
              "ticks": ""
             }
            },
            "type": "scattergeo"
           }
          ],
          "scattergl": [
           {
            "marker": {
             "colorbar": {
              "outlinewidth": 0,
              "ticks": ""
             }
            },
            "type": "scattergl"
           }
          ],
          "scattermapbox": [
           {
            "marker": {
             "colorbar": {
              "outlinewidth": 0,
              "ticks": ""
             }
            },
            "type": "scattermapbox"
           }
          ],
          "scatterpolar": [
           {
            "marker": {
             "colorbar": {
              "outlinewidth": 0,
              "ticks": ""
             }
            },
            "type": "scatterpolar"
           }
          ],
          "scatterpolargl": [
           {
            "marker": {
             "colorbar": {
              "outlinewidth": 0,
              "ticks": ""
             }
            },
            "type": "scatterpolargl"
           }
          ],
          "scatterternary": [
           {
            "marker": {
             "colorbar": {
              "outlinewidth": 0,
              "ticks": ""
             }
            },
            "type": "scatterternary"
           }
          ],
          "surface": [
           {
            "colorbar": {
             "outlinewidth": 0,
             "ticks": ""
            },
            "colorscale": [
             [
              0,
              "#0d0887"
             ],
             [
              0.1111111111111111,
              "#46039f"
             ],
             [
              0.2222222222222222,
              "#7201a8"
             ],
             [
              0.3333333333333333,
              "#9c179e"
             ],
             [
              0.4444444444444444,
              "#bd3786"
             ],
             [
              0.5555555555555556,
              "#d8576b"
             ],
             [
              0.6666666666666666,
              "#ed7953"
             ],
             [
              0.7777777777777778,
              "#fb9f3a"
             ],
             [
              0.8888888888888888,
              "#fdca26"
             ],
             [
              1,
              "#f0f921"
             ]
            ],
            "type": "surface"
           }
          ],
          "table": [
           {
            "cells": {
             "fill": {
              "color": "#EBF0F8"
             },
             "line": {
              "color": "white"
             }
            },
            "header": {
             "fill": {
              "color": "#C8D4E3"
             },
             "line": {
              "color": "white"
             }
            },
            "type": "table"
           }
          ]
         },
         "layout": {
          "annotationdefaults": {
           "arrowcolor": "#2a3f5f",
           "arrowhead": 0,
           "arrowwidth": 1
          },
          "autotypenumbers": "strict",
          "coloraxis": {
           "colorbar": {
            "outlinewidth": 0,
            "ticks": ""
           }
          },
          "colorscale": {
           "diverging": [
            [
             0,
             "#8e0152"
            ],
            [
             0.1,
             "#c51b7d"
            ],
            [
             0.2,
             "#de77ae"
            ],
            [
             0.3,
             "#f1b6da"
            ],
            [
             0.4,
             "#fde0ef"
            ],
            [
             0.5,
             "#f7f7f7"
            ],
            [
             0.6,
             "#e6f5d0"
            ],
            [
             0.7,
             "#b8e186"
            ],
            [
             0.8,
             "#7fbc41"
            ],
            [
             0.9,
             "#4d9221"
            ],
            [
             1,
             "#276419"
            ]
           ],
           "sequential": [
            [
             0,
             "#0d0887"
            ],
            [
             0.1111111111111111,
             "#46039f"
            ],
            [
             0.2222222222222222,
             "#7201a8"
            ],
            [
             0.3333333333333333,
             "#9c179e"
            ],
            [
             0.4444444444444444,
             "#bd3786"
            ],
            [
             0.5555555555555556,
             "#d8576b"
            ],
            [
             0.6666666666666666,
             "#ed7953"
            ],
            [
             0.7777777777777778,
             "#fb9f3a"
            ],
            [
             0.8888888888888888,
             "#fdca26"
            ],
            [
             1,
             "#f0f921"
            ]
           ],
           "sequentialminus": [
            [
             0,
             "#0d0887"
            ],
            [
             0.1111111111111111,
             "#46039f"
            ],
            [
             0.2222222222222222,
             "#7201a8"
            ],
            [
             0.3333333333333333,
             "#9c179e"
            ],
            [
             0.4444444444444444,
             "#bd3786"
            ],
            [
             0.5555555555555556,
             "#d8576b"
            ],
            [
             0.6666666666666666,
             "#ed7953"
            ],
            [
             0.7777777777777778,
             "#fb9f3a"
            ],
            [
             0.8888888888888888,
             "#fdca26"
            ],
            [
             1,
             "#f0f921"
            ]
           ]
          },
          "colorway": [
           "#636efa",
           "#EF553B",
           "#00cc96",
           "#ab63fa",
           "#FFA15A",
           "#19d3f3",
           "#FF6692",
           "#B6E880",
           "#FF97FF",
           "#FECB52"
          ],
          "font": {
           "color": "#2a3f5f"
          },
          "geo": {
           "bgcolor": "white",
           "lakecolor": "white",
           "landcolor": "#E5ECF6",
           "showlakes": true,
           "showland": true,
           "subunitcolor": "white"
          },
          "hoverlabel": {
           "align": "left"
          },
          "hovermode": "closest",
          "mapbox": {
           "style": "light"
          },
          "paper_bgcolor": "white",
          "plot_bgcolor": "#E5ECF6",
          "polar": {
           "angularaxis": {
            "gridcolor": "white",
            "linecolor": "white",
            "ticks": ""
           },
           "bgcolor": "#E5ECF6",
           "radialaxis": {
            "gridcolor": "white",
            "linecolor": "white",
            "ticks": ""
           }
          },
          "scene": {
           "xaxis": {
            "backgroundcolor": "#E5ECF6",
            "gridcolor": "white",
            "gridwidth": 2,
            "linecolor": "white",
            "showbackground": true,
            "ticks": "",
            "zerolinecolor": "white"
           },
           "yaxis": {
            "backgroundcolor": "#E5ECF6",
            "gridcolor": "white",
            "gridwidth": 2,
            "linecolor": "white",
            "showbackground": true,
            "ticks": "",
            "zerolinecolor": "white"
           },
           "zaxis": {
            "backgroundcolor": "#E5ECF6",
            "gridcolor": "white",
            "gridwidth": 2,
            "linecolor": "white",
            "showbackground": true,
            "ticks": "",
            "zerolinecolor": "white"
           }
          },
          "shapedefaults": {
           "line": {
            "color": "#2a3f5f"
           }
          },
          "ternary": {
           "aaxis": {
            "gridcolor": "white",
            "linecolor": "white",
            "ticks": ""
           },
           "baxis": {
            "gridcolor": "white",
            "linecolor": "white",
            "ticks": ""
           },
           "bgcolor": "#E5ECF6",
           "caxis": {
            "gridcolor": "white",
            "linecolor": "white",
            "ticks": ""
           }
          },
          "title": {
           "x": 0.05
          },
          "xaxis": {
           "automargin": true,
           "gridcolor": "white",
           "linecolor": "white",
           "ticks": "",
           "title": {
            "standoff": 15
           },
           "zerolinecolor": "white",
           "zerolinewidth": 2
          },
          "yaxis": {
           "automargin": true,
           "gridcolor": "white",
           "linecolor": "white",
           "ticks": "",
           "title": {
            "standoff": 15
           },
           "zerolinecolor": "white",
           "zerolinewidth": 2
          }
         }
        },
        "title": {
         "text": "Number of Census Tracts by HPI Quartile"
        },
        "xaxis": {
         "anchor": "y",
         "domain": [
          0,
          1
         ],
         "title": {
          "text": "hpi_quartile"
         }
        },
        "yaxis": {
         "anchor": "x",
         "domain": [
          0,
          1
         ],
         "title": {
          "text": "census_tract"
         }
        }
       }
      }
     },
     "metadata": {},
     "output_type": "display_data"
    }
   ],
   "source": [
    "# Number of Census Tract by HPI Quartile\n",
    "\n",
    "import plotly.express as px\n",
    "\n",
    "cfinal_joined = final_joined.groupby('hpi_quartile').count().reset_index()\n",
    "\n",
    "bar_chart = px.bar(cfinal_joined, y='census_tract', x='hpi_quartile', color='hpi_quartile', title='Number of Census Tracts by HPI Quartile')\n",
    "bar_chart.show()\n",
    "# bar_chart.write_image('Number of Census Tracts by HPI Quartile.pdf')\n"
   ]
  },
  {
   "cell_type": "code",
   "execution_count": 9,
   "metadata": {},
   "outputs": [
    {
     "data": {
      "image/png": "[encoded data removed]",
      "text/plain": [
       "<Figure size 640x480 with 1 Axes>"
      ]
     },
     "metadata": {},
     "output_type": "display_data"
    }
   ],
   "source": [
    "# Visual\n",
    "\n",
    "val_by_percentile = plt.scatter(hpi_data['value'],hpi_data['percentile'], c='green', s=5)\n",
    "val_by_percentile = plt.xlabel('HPI Value')\n",
    "val_by_percentile = plt.ylabel('Percentile Score')\n",
    "val_by_percentile = plt.title('Distribution Plot (Cumulative): HPI Value by Percentile Score for all Census Tracts')\n",
    "\n",
    "# plt.show(val_by_percentile)\n",
    "plt.savefig('Distribution Plot (Cumulative)- HPI Value by Percentile Score for all Census Tracts.pdf') "
   ]
  }
 ],
 "metadata": {
  "kernelspec": {
   "display_name": "Python 3.10.6 64-bit",
   "language": "python",
   "name": "python3"
  },
  "language_info": {
   "codemirror_mode": {
    "name": "ipython",
    "version": 3
   },
   "file_extension": ".py",
   "mimetype": "text/x-python",
   "name": "python",
   "nbconvert_exporter": "python",
   "pygments_lexer": "ipython3",
   "version": "3.10.6"
  },
  "orig_nbformat": 4,
  "vscode": {
   "interpreter": {
    "hash": "bf810322454a8f8e06e4e60785f39a5010f28dfcaa678d8d30513707dc496fc6"
   }
  }
 },
 "nbformat": 4,
 "nbformat_minor": 2
}
