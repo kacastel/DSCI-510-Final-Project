{
 "cells": [
  {
   "cell_type": "code",
   "execution_count": null,
   "metadata": {},
   "outputs": [],
   "source": [
    "import requests\n",
    "import pandas as pd\n",
    "\n",
    "# Importing HPI data and Vaccine data\n",
    "voter_data = requests.get('https://api.healthyplacesindex.org/api/hpi?geography=tracts&year=2020&indicator=voting&format=json&key=f07f86d6-58b5-40e3-a17f-333b92ccc57d').json()\n",
    "vaccine_data = requests.get('https://data.sandiegocounty.gov/resource/nrkb-eanb.json').json()\n",
    "\n",
    "# voter_data\n",
    "# vaccine_data\n",
    "\n",
    "# Converting data (python dictionary) to a pandas dataframe\n",
    "# Resetting titles (variables) the dataframe versions\n",
    "voter_data = pd.DataFrame(voter_data)\n",
    "voter_data['geoid'] = voter_data['geoid'].str[1:].astype({'geoid':'int64'})\n",
    "\n",
    "vaccine_data = pd.DataFrame(vaccine_data)\n",
    "\n",
    "# voter_data.head()\n",
    "\n",
    "# len(voter_data)"
   ]
  },
  {
   "cell_type": "code",
   "execution_count": null,
   "metadata": {},
   "outputs": [],
   "source": [
    "# Converting Vaccine Data column to float\n",
    "vaccine_data['vaccination_percentage_all'] = pd.to_numeric(vaccine_data['vaccination_percentage_all'])\n",
    "# vaccine_data.dtypes\n",
    "\n",
    "# Creating a function to popuilated a column\n",
    "import numpy as np\n",
    "\n",
    "def Vaccine_Quartile (vaccination_percentage_all):\n",
    "    if vaccination_percentage_all <= 25:\n",
    "        return 'Q1'\n",
    "    elif vaccination_percentage_all <= 50:\n",
    "        return 'Q2'\n",
    "    elif vaccination_percentage_all <= 75:\n",
    "        return 'Q3'\n",
    "    elif vaccination_percentage_all <= 100:\n",
    "        return 'Q4'\n",
    "    else:\n",
    "        return 'Unknown'\n",
    "    \n",
    "vaccine_data['Vaccine Quartile'] = vaccine_data.apply(lambda row: Vaccine_Quartile(row['vaccination_percentage_all']), axis=1)\n",
    "\n",
    "vaccine_data.head(2)"
   ]
  },
  {
   "cell_type": "code",
   "execution_count": null,
   "metadata": {},
   "outputs": [],
   "source": [
    "#Import from Google Drive - Master HPI Data. Recieved this file directly from the HPI agency. \n",
    "# Will use this file as an intermidiary- common key is needed from this file to join HPI data and Vaccine data\n",
    "\n",
    "import pandas as pd\n",
    "\n",
    "url='https://drive.google.com/file/d/1-O5aXOkgAaQUxMjZ5EXu9y6kHxmjsyp2/view?usp=share_link'\n",
    "path = 'https://drive.google.com/uc?export=download&id='+url.split('/')[-2]\n",
    "master_hpi = pd.read_csv(path)\n",
    "\n",
    "master_hpi = pd.DataFrame(master_hpi)\n",
    "\n",
    "#Cleaning/Filtering mster HPI data. Preparing to join. \n",
    "# san_diego_hpi = master_hpi[master_hpi['county']=='San Diego']\n",
    "san_diego_hpi = master_hpi[master_hpi['county']=='San Diego']\n",
    "\n",
    "\n",
    "san_diego_hpi['NAME'] = [x.split(',')[-0] for x in san_diego_hpi['NAME']]\n",
    "\n",
    "san_diego_hpi['NAME'] = [x.split('Tract ')[-1] for x in san_diego_hpi['NAME']]\n",
    "\n",
    "# san_diego_hpi.head(2)\n",
    "# len(master_hpi)\n"
   ]
  },
  {
   "cell_type": "code",
   "execution_count": null,
   "metadata": {},
   "outputs": [],
   "source": [
    "# Joining datasets\n",
    "#san diego hpi: vaccine data\n",
    "\n",
    "sdhpi_vaccine_join = pd.merge(san_diego_hpi[['voting','voting_pctile','NAME','GEO_ID','county','pop','hpi_pctile','hpi_quartile','hpi_least_healthy_25pct','economic_pctile']], vaccine_data[['census_tract','gis_hpi_quartile_sd', 'vaccination_percentage_all','Vaccine Quartile', 'update_date']], left_on='NAME', right_on='census_tract', how='left')\n",
    "\n",
    "sdhpi_vaccine_join.sort_values('vaccination_percentage_all', ascending=False).drop_duplicates(['voting','voting_pctile','NAME','GEO_ID','county','pop','hpi_pctile','hpi_quartile','hpi_least_healthy_25pct','economic_pctile','census_tract','gis_hpi_quartile_sd', 'Vaccine Quartile']).sort_index()\n",
    "# test_join[test_join['census_tract'] == '170.19' ]\n",
    "\n",
    "# sdhpi_vaccine_join\n",
    "\n",
    "# voter_data.head(2)\n"
   ]
  },
  {
   "cell_type": "code",
   "execution_count": null,
   "metadata": {},
   "outputs": [],
   "source": [
    "# Merging all 3 datasets together\n",
    "three_set_join = pd.merge(sdhpi_vaccine_join[['voting','voting_pctile','NAME','GEO_ID','county','pop','hpi_pctile','hpi_quartile','hpi_least_healthy_25pct','economic_pctile','census_tract','gis_hpi_quartile_sd', 'vaccination_percentage_all','Vaccine Quartile']],voter_data[['geoid','name','population','value', 'percentile']], left_on='GEO_ID', right_on='geoid', how='left')\n",
    "three_set_join\n"
   ]
  },
  {
   "cell_type": "code",
   "execution_count": null,
   "metadata": {},
   "outputs": [],
   "source": [
    "# Selected Columns - Reduced to specific columns\n",
    "select_df = three_set_join[['voting', 'voting_pctile', 'GEO_ID', 'hpi_pctile', 'hpi_quartile','Vaccine Quartile', 'vaccination_percentage_all']]\n",
    "select_df"
   ]
  },
  {
   "cell_type": "code",
   "execution_count": null,
   "metadata": {},
   "outputs": [],
   "source": [
    "# # Writing to CSV files for all three datasets\n",
    "\n",
    "# from pathlib import Path \n",
    "\n",
    "# # Export of Filtered San Diego HPI data (sample size) - Accessed via API\n",
    "# export_sdhpi = san_diego_hpi.head(10)\n",
    "# filepath = Path('C:/Users/krist/Downloads/DSCI-510-Final-Project/san_diego_hpi_sample.csv')\n",
    "# filepath.parent.mkdir(parents=True, exist_ok=True)\n",
    "# export_sdhpi.to_csv(filepath)\n",
    "\n",
    "\n",
    "# # Export of vaccine data (sample size) - accessed via json import\n",
    "# export_v = vaccine_data.head(10)\n",
    "# filepath = Path('C:/Users/krist/Downloads/DSCI-510-Final-Project/vaccine_data_sample.csv')\n",
    "# filepath.parent.mkdir(parents=True, exist_ok=True)\n",
    "# export_v.to_csv(filepath)\n",
    "\n",
    "# # Export of Master HPI data - reading from a Google Drive folder\n",
    "# export_master = vaccine_data.head(10)\n",
    "# filepath = Path('C:/Users/krist/Downloads/DSCI-510-Final-Project/master_data_sample.csv')\n",
    "# filepath.parent.mkdir(parents=True, exist_ok=True)\n",
    "# export_master.to_csv(filepath)\n",
    "\n",
    "# #Export of merged dataset of above three imported datasets\n",
    "# export_three_set = three_set_join.head(10)\n",
    "# filepath_joined = Path('C:/Users/krist/Downloads/DSCI-510-Final-Project/Resulting Joined Data.csv')\n",
    "# filepath_joined.parent.mkdir(parents=True, exist_ok=True)\n",
    "# export_three_set.to_csv(filepath_joined)"
   ]
  },
  {
   "cell_type": "code",
   "execution_count": null,
   "metadata": {},
   "outputs": [],
   "source": [
    "import plotly.express as px\n",
    "\n",
    "three_set_join = three_set_join[three_set_join['Vaccine Quartile'] !='Unknown']\n",
    "val_by_percentile = px.scatter(three_set_join, x='value', y='percentile', color='Vaccine Quartile', labels={'percentile':'HPI Percentile', 'value':'Vaccination Value'}, title='Distribution Plot (Cumulative): HPI Value by HPI Percentile Score for all Census Tracts<br><sup>This plot shows the directly proportional relationship between the HPI Percentiles and census tracts represented by administered vaccines (Value),<br>which are measured against their assigned HPI Percentile (ie.Score). This chart is merely to illustrate the directly positive correlation between the two categories.')\n",
    "val_by_percentile.show()\n"
   ]
  },
  {
   "cell_type": "code",
   "execution_count": null,
   "metadata": {},
   "outputs": [],
   "source": [
    "# Number of Census Tract by HPI Quartile\n",
    "\n",
    "import plotly.express as px\n",
    "\n",
    "cfinal_joined = sdhpi_vaccine_join.groupby('hpi_quartile').count().reset_index()\n",
    "\n",
    "bar_chart = px.bar(cfinal_joined, y='census_tract', x='hpi_quartile', color='hpi_quartile', labels={'hpi_quartile':'HPI Quartile', 'census_tract':'Count of Census Tracts'}, title='Count of Census Tracts by HPI Quartile <br><sup>This chart provides a simple count of the number of census tracts for each HPI Quartile, which is an extension of the above scatter plot.')\n",
    "bar_chart.show()\n",
    "# bar_chart.write_image('Count of Census Tracts by HPI Quartile.pdf', engine = 'kaleido')\n"
   ]
  },
  {
   "cell_type": "code",
   "execution_count": null,
   "metadata": {},
   "outputs": [],
   "source": [
    "# Pie Chart Visual using calculated column : Vaccine Quartile\n",
    "\n",
    "pie_df = sdhpi_vaccine_join.groupby('Vaccine Quartile').count().reset_index()\n",
    "pie_df = pie_df[pie_df['Vaccine Quartile'] != 'Unknown']\n",
    "\n",
    "pie_chart = px.pie(pie_df, values='voting_pctile', names='Vaccine Quartile', color='Vaccine Quartile',\n",
    "    title= 'Density of Voter Percentile by Vaccine Quartile<br><sup>The importance of this chart is to illustrate the density of each quartile for the range of Voter Percentiles (turnout success).<br>For instance, the purple section accounts for 54.4% of Voters that are in the highest-vaccinated percentile.')\n",
    "pie_chart.show()\n",
    "# pie_chart.write_image('Account of Vaccine Quartile Amount.pdf', engine = 'kaleido')\n"
   ]
  },
  {
   "cell_type": "code",
   "execution_count": null,
   "metadata": {},
   "outputs": [],
   "source": [
    "#Scatter Plot - TSJ version\n",
    "val_by_population_tsj = px.scatter(three_set_join, x='value', y='population',labels={'value':'Voter Value', 'population':'HPI Population'}, color='Vaccine Quartile', title='Population Clustering within Voter Value (turnout)<br><sup>This chart shows the commonality of Census Tracts by their assigned HPI Value. We see that nearly all populations per census tracts remain less than 10k people,<br>where most of those populations have a voter turnout between 0.6 - 0.9 percent. The majority of vaccinated people tend to have higher voter turnout.')\n",
    "val_by_population_tsj.show()"
   ]
  },
  {
   "cell_type": "code",
   "execution_count": null,
   "metadata": {},
   "outputs": [],
   "source": [
    "# import matplotlib.pyplot as plt\n",
    "import plotly.express as px\n",
    "\n",
    "xfinal_joined = sdhpi_vaccine_join[sdhpi_vaccine_join['vaccination_percentage_all'] != 99]\n",
    "\n",
    "fig = px.scatter(xfinal_joined, x='vaccination_percentage_all', y='hpi_pctile', labels={'vaccination_percentage_all':'Vaccination Percentage', 'hpi_pctile':'HPI Percentile', 'gis_hpi_quartile_sd': 'HPI Quartile'}, color='gis_hpi_quartile_sd', title='Visual for Vaccination Percentage by HPI Percentile <br><sup>This plot shows the HPI Percentiles (by census tract) that are categorically clustered by their Vaccination percentages. The value of this chart allows us to compare all the categories to each other.<br>Each of the colored HPI Quartile illustrate proactive voting activity. As obviously shown, the most proactive voters are in the highest percentile and lacks clear definition of vaccination activity.')\n",
    "fig.show()\n",
    "# fig.write_image('Vaccination Percentage by HPI Percentile.pdf', engine = 'kaleido')\n"
   ]
  },
  {
   "cell_type": "code",
   "execution_count": null,
   "metadata": {},
   "outputs": [],
   "source": [
    "# Comparable Scatter chart - More realistic and robust camparison\n",
    "\n",
    "for_main_trend = three_set_join[three_set_join['vaccination_percentage_all'] != 99]\n",
    "main_trend = px.scatter(for_main_trend, x='vaccination_percentage_all', y='voting_pctile', labels={'vaccination_percentage_all':'Vaccination Percentage', 'voting_pctile':'Voting Percentile (turnout success)', 'gis_hpi_quartile_sd': 'HPI Quartile'}, color='gis_hpi_quartile_sd', title='Visual for Vaccination Percentage by Voting Percentile<br><sup>This scatter plot is the result of the unification between the three sets of data. This plot more robustly illustrates the overlap of HPI Quartiles amongst voting activity.<br>We see that HPI Quartile 4 has the most defined clustering, having a Vaccination Percentage mainly between 70-90%. HPI Quartiles 3 and 4 are also distinctly mixed, whereas 1 and 2 are seemingly more defined.')\n",
    "main_trend.show()\n",
    "# main_trend.write_image('Vaccination Percentage by Voting Percentile.pdf', engine='kaleido', format='pdf')\n",
    "\n",
    "# sdhpi_vaccine_join.dtypes"
   ]
  },
  {
   "cell_type": "code",
   "execution_count": null,
   "metadata": {},
   "outputs": [],
   "source": [
    "# Visual - Original Distribution Curve (not used)\n",
    "\n",
    "# val_by_percentile = plt.scatter(voter_data['value'],voter_data['percentile'], c='green', s=5)\n",
    "# val_by_percentile = plt.xlabel('HPI Value')\n",
    "# val_by_percentile = plt.ylabel('Percentile Score')\n",
    "# val_by_percentile = plt.title('Distribution Plot (Cumulative): HPI Value by Percentile Score for all Census Tracts')\n",
    "# val_by_percentile = plt.suptitle('Distribution Plot (Cumulative): HPI Value by Percentile Score for all Census Tracts')\n",
    "\n",
    "\n",
    "# plt.show(val_by_percentile)\n",
    "# plt.savefig('Distribution Plot (Cumulative)- HPI Value by Percentile Score for all Census Tracts.pdf') "
   ]
  },
  {
   "cell_type": "code",
   "execution_count": null,
   "metadata": {},
   "outputs": [],
   "source": [
    "#  Future Work: 3D - Economic Percentile Correlation with HPI Value\n",
    "\n",
    "import matplotlib.pyplot as plt\n",
    "\n",
    "val_by_population_3d = px.scatter_3d(three_set_join, x='value', y='economic_pctile', z='population', title='Population and Economic Clustering within HPI Value (Score)')\n",
    "val_by_population_3d.show()\n",
    "\n"
   ]
  },
  {
   "cell_type": "code",
   "execution_count": null,
   "metadata": {},
   "outputs": [],
   "source": [
    "import session_info\n",
    "session_info.show()"
   ]
  }
 ],
 "metadata": {
  "kernelspec": {
   "display_name": "Python 3 (ipykernel)",
   "language": "python",
   "name": "python3"
  },
  "language_info": {
   "codemirror_mode": {
    "name": "ipython",
    "version": 3
   },
   "file_extension": ".py",
   "mimetype": "text/x-python",
   "name": "python",
   "nbconvert_exporter": "python",
   "pygments_lexer": "ipython3",
   "version": "3.9.12"
  },
  "vscode": {
   "interpreter": {
    "hash": "bf810322454a8f8e06e4e60785f39a5010f28dfcaa678d8d30513707dc496fc6"
   }
  }
 },
 "nbformat": 4,
 "nbformat_minor": 2
}
